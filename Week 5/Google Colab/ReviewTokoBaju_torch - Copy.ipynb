{
  "cells": [
    {
      "cell_type": "code",
      "execution_count": 1,
      "metadata": {
        "id": "pnHdawkWTb3s"
      },
      "outputs": [],
      "source": [
        "import pandas as pd\n",
        "import numpy as np\n",
        "import torch\n",
        "import torch.nn as nn\n",
        "import torch.optim as optim\n",
        "from torch.utils.data import Dataset, DataLoader\n",
        "from sklearn.model_selection import train_test_split\n",
        "from sklearn.metrics import accuracy_score, precision_score, recall_score, f1_score, roc_auc_score, roc_curve\n",
        "import matplotlib.pyplot as plt\n",
        "from tensorflow.keras.preprocessing.text import Tokenizer\n",
        "from tensorflow.keras.preprocessing.sequence import pad_sequences"
      ]
    },
    {
      "cell_type": "code",
      "execution_count": null,
      "metadata": {
        "colab": {
          "base_uri": "https://localhost:8080/"
        },
        "id": "P7b8eH-iTiCL",
        "outputId": "6452e148-2841-4f32-ebf7-355f774292c5"
      },
      "outputs": [],
      "source": [
        "# Menetapkan device (GPU jika tersedia)\n",
        "device = torch.device(\"cuda\" if torch.cuda.is_available() else \"cpu\")\n",
        "print(f\"Menggunakan device: {device}\")"
      ]
    },
    {
      "cell_type": "markdown",
      "metadata": {
        "id": "IxCJU-5vTtM9"
      },
      "source": [
        "# PERSIAPAN DATA"
      ]
    },
    {
      "cell_type": "code",
      "execution_count": null,
      "metadata": {
        "colab": {
          "base_uri": "https://localhost:8080/"
        },
        "id": "SPe6IWbvTuz3",
        "outputId": "4072892a-16d8-455e-c023-834b9de2d6de"
      },
      "outputs": [],
      "source": [
        "# Buat DataFrame\n",
        "df = pd.read_csv(\"ReviewTokoBaju.csv\")\n",
        "df = df[['Review Text', 'Recommended IND']].dropna()\n",
        "print(f\"Jumlah data: {len(df)}\")"
      ]
    },
    {
      "cell_type": "code",
      "execution_count": 7,
      "metadata": {
        "id": "1MhlscUqUKnz"
      },
      "outputs": [],
      "source": [
        "# Tokenisasi text\n",
        "max_features = 10000\n",
        "max_len = 200\n",
        "\n",
        "tokenizer = Tokenizer(num_words=max_features, oov_token=\"<OOV>\")\n",
        "tokenizer.fit_on_texts(df['Review Text'])\n",
        "X = tokenizer.texts_to_sequences(df['Review Text'])\n",
        "X = pad_sequences(X, maxlen=max_len, padding='post')\n",
        "y = df['Recommended IND'].values"
      ]
    },
    {
      "cell_type": "code",
      "execution_count": 8,
      "metadata": {
        "id": "ysvDD_BHURyH"
      },
      "outputs": [],
      "source": [
        "# Split data\n",
        "X_train, X_test, y_train, y_test = train_test_split(X, y, test_size=0.2, random_state=42)"
      ]
    },
    {
      "cell_type": "code",
      "execution_count": 9,
      "metadata": {
        "id": "i9YHiSH6UUCl"
      },
      "outputs": [],
      "source": [
        "# Konversi ke tensor PyTorch\n",
        "X_train = torch.tensor(X_train, dtype=torch.long)\n",
        "X_test = torch.tensor(X_test, dtype=torch.long)\n",
        "y_train = torch.tensor(y_train, dtype=torch.float32)\n",
        "y_test = torch.tensor(y_test, dtype=torch.float32)"
      ]
    },
    {
      "cell_type": "code",
      "execution_count": 10,
      "metadata": {
        "id": "BbBP01erUYyP"
      },
      "outputs": [],
      "source": [
        "# Dataset dan DataLoader\n",
        "class ReviewDataset(Dataset):\n",
        "    def __init__(self, texts, labels):\n",
        "        self.texts = texts\n",
        "        self.labels = labels\n",
        "\n",
        "    def __len__(self):\n",
        "        return len(self.labels)\n",
        "\n",
        "    def __getitem__(self, idx):\n",
        "        return self.texts[idx], self.labels[idx]"
      ]
    },
    {
      "cell_type": "code",
      "execution_count": 11,
      "metadata": {
        "id": "lfbWGrftUbio"
      },
      "outputs": [],
      "source": [
        "# Buat dataset\n",
        "train_dataset = ReviewDataset(X_train, y_train)\n",
        "test_dataset = ReviewDataset(X_test, y_test)"
      ]
    },
    {
      "cell_type": "code",
      "execution_count": 12,
      "metadata": {
        "id": "wQkvxisgUmf_"
      },
      "outputs": [],
      "source": [
        "# DataLoader\n",
        "batch_size = 32\n",
        "train_loader = DataLoader(train_dataset, batch_size=batch_size, shuffle=True)\n",
        "test_loader = DataLoader(test_dataset, batch_size=batch_size, shuffle=False)"
      ]
    },
    {
      "cell_type": "markdown",
      "metadata": {
        "id": "a2wxzCiLUtvj"
      },
      "source": [
        "# MODEL RNN"
      ]
    },
    {
      "cell_type": "code",
      "execution_count": 13,
      "metadata": {
        "id": "LTimlNDQUvYa"
      },
      "outputs": [],
      "source": [
        "class RNNModel(nn.Module):\n",
        "    def __init__(self, vocab_size, embed_dim, hidden_dim, output_dim):\n",
        "        super(RNNModel, self).__init__()\n",
        "        self.embedding = nn.Embedding(vocab_size, embed_dim)\n",
        "        self.rnn = nn.RNN(embed_dim, hidden_dim, batch_first=True, bidirectional=True)\n",
        "        self.fc = nn.Linear(hidden_dim * 2, output_dim)\n",
        "        self.dropout = nn.Dropout(0.3)\n",
        "\n",
        "    def forward(self, x):\n",
        "        # x: [batch_size, seq_len]\n",
        "        embedded = self.embedding(x)  # [batch_size, seq_len, embed_dim]\n",
        "        output, hidden = self.rnn(embedded)  # output: [batch_size, seq_len, hidden_dim*2]\n",
        "\n",
        "        # Mengambil hidden state terakhir dari kedua arah\n",
        "        hidden = torch.cat((hidden[-2,:,:], hidden[-1,:,:]), dim=1)  # [batch_size, hidden_dim*2]\n",
        "        hidden = self.dropout(hidden)\n",
        "\n",
        "        return torch.sigmoid(self.fc(hidden)).squeeze()"
      ]
    },
    {
      "cell_type": "markdown",
      "metadata": {
        "id": "7Eo__NrEU8aO"
      },
      "source": [
        "# MODEL LSTM"
      ]
    },
    {
      "cell_type": "code",
      "execution_count": 14,
      "metadata": {
        "id": "CGwjRorHVBM3"
      },
      "outputs": [],
      "source": [
        "class LSTMModel(nn.Module):\n",
        "    def __init__(self, vocab_size, embed_dim, hidden_dim, output_dim):\n",
        "        super(LSTMModel, self).__init__()\n",
        "        self.embedding = nn.Embedding(vocab_size, embed_dim)\n",
        "        self.lstm = nn.LSTM(embed_dim, hidden_dim, batch_first=True, bidirectional=True)\n",
        "        self.fc = nn.Linear(hidden_dim * 2, output_dim)\n",
        "        self.dropout = nn.Dropout(0.5)\n",
        "\n",
        "    def forward(self, x):\n",
        "        embedded = self.embedding(x)\n",
        "        output, (hidden, cell) = self.lstm(embedded)\n",
        "\n",
        "        # Menggabungkan hidden state terakhir dari kedua arah\n",
        "        hidden = torch.cat((hidden[-2,:,:], hidden[-1,:,:]), dim=1)\n",
        "        hidden = self.dropout(hidden)\n",
        "\n",
        "        return torch.sigmoid(self.fc(hidden)).squeeze()"
      ]
    },
    {
      "cell_type": "markdown",
      "metadata": {
        "id": "lY58C2iOVEN4"
      },
      "source": [
        "# MODEL GRU"
      ]
    },
    {
      "cell_type": "code",
      "execution_count": 15,
      "metadata": {
        "id": "oWom5YpnVGtJ"
      },
      "outputs": [],
      "source": [
        "class GRUModel(nn.Module):\n",
        "    def __init__(self, vocab_size, embed_dim, hidden_dim, output_dim):\n",
        "        super(GRUModel, self).__init__()\n",
        "        self.embedding = nn.Embedding(vocab_size, embed_dim)\n",
        "        self.gru = nn.GRU(embed_dim, hidden_dim, batch_first=True, bidirectional=True)\n",
        "        self.fc = nn.Linear(hidden_dim * 2, output_dim)\n",
        "        self.dropout = nn.Dropout(0.5)\n",
        "\n",
        "    def forward(self, x):\n",
        "        embedded = self.embedding(x)\n",
        "        output, hidden = self.gru(embedded)\n",
        "\n",
        "        # Menggabungkan hidden state terakhir dari kedua arah\n",
        "        hidden = torch.cat((hidden[-2,:,:], hidden[-1,:,:]), dim=1)\n",
        "        hidden = self.dropout(hidden)\n",
        "\n",
        "        return torch.sigmoid(self.fc(hidden)).squeeze()"
      ]
    },
    {
      "cell_type": "markdown",
      "metadata": {
        "id": "okWPk_0_VQ-s"
      },
      "source": [
        "# FUNGSI PELATIHAN DAN EVALUASI"
      ]
    },
    {
      "cell_type": "code",
      "execution_count": 16,
      "metadata": {
        "id": "DQmT2Bc5VSg5"
      },
      "outputs": [],
      "source": [
        "def train_model(model, train_loader, criterion, optimizer, device):\n",
        "    model.train()\n",
        "    total_loss = 0\n",
        "    correct = 0\n",
        "    total = 0\n",
        "\n",
        "    for texts, labels in train_loader:\n",
        "        texts, labels = texts.to(device), labels.to(device)\n",
        "\n",
        "        # Forward pass\n",
        "        optimizer.zero_grad()\n",
        "        outputs = model(texts)\n",
        "        loss = criterion(outputs, labels)\n",
        "\n",
        "        # Backward pass\n",
        "        loss.backward()\n",
        "        optimizer.step()\n",
        "\n",
        "        total_loss += loss.item()\n",
        "        predicted = (outputs >= 0.5).float()\n",
        "        correct += (predicted == labels).sum().item()\n",
        "        total += labels.size(0)\n",
        "\n",
        "    accuracy = correct / total\n",
        "    avg_loss = total_loss / len(train_loader)\n",
        "\n",
        "    return accuracy, avg_loss"
      ]
    },
    {
      "cell_type": "code",
      "execution_count": 17,
      "metadata": {
        "id": "oNnhj82hVVL6"
      },
      "outputs": [],
      "source": [
        "def evaluate_model(model, test_loader, criterion, device):\n",
        "    model.eval()\n",
        "    y_true = []\n",
        "    y_pred = []\n",
        "    y_prob = []\n",
        "    total_loss = 0\n",
        "\n",
        "    with torch.no_grad():\n",
        "        for texts, labels in test_loader:\n",
        "            texts, labels = texts.to(device), labels.to(device)\n",
        "            outputs = model(texts)\n",
        "            loss = criterion(outputs, labels)\n",
        "            total_loss += loss.item()\n",
        "\n",
        "            y_true.extend(labels.cpu().numpy())\n",
        "            probs = outputs.cpu().numpy()\n",
        "            y_prob.extend(probs)\n",
        "            y_pred.extend((probs >= 0.5).astype(int))\n",
        "\n",
        "    # Menghitung metrik evaluasi\n",
        "    accuracy = accuracy_score(y_true, y_pred)\n",
        "    precision = precision_score(y_true, y_pred, zero_division=0)\n",
        "    recall = recall_score(y_true, y_pred, zero_division=0)\n",
        "    f1 = f1_score(y_true, y_pred, zero_division=0)\n",
        "    f1_squared = f1 ** 2\n",
        "\n",
        "    # Hitung AUC-ROC hanya jika ada kedua kelas\n",
        "    auc = 0\n",
        "    if len(set(y_true)) > 1:\n",
        "        auc = roc_auc_score(y_true, y_prob)\n",
        "\n",
        "    avg_loss = total_loss / len(test_loader)\n",
        "\n",
        "    return {\n",
        "        'accuracy': accuracy,\n",
        "        'precision': precision,\n",
        "        'recall': recall,\n",
        "        'f1_squared': f1_squared,\n",
        "        'auc': auc,\n",
        "        'loss': avg_loss,\n",
        "        'y_true': y_true,\n",
        "        'y_prob': y_prob\n",
        "    }"
      ]
    },
    {
      "cell_type": "markdown",
      "metadata": {
        "id": "wt6BHxjQVc2M"
      },
      "source": [
        "# FUNGSI VISUALISASI"
      ]
    },
    {
      "cell_type": "code",
      "execution_count": 18,
      "metadata": {
        "id": "ZNM_w5mJVeB_"
      },
      "outputs": [],
      "source": [
        "def plot_metrics(train_acc, val_acc, train_loss, val_loss, model_name):\n",
        "    epochs = range(1, len(train_acc) + 1)\n",
        "\n",
        "    plt.figure(figsize=(12, 5))\n",
        "\n",
        "    # Plot akurasi\n",
        "    plt.subplot(1, 2, 1)\n",
        "    plt.plot(epochs, train_acc, 'bo-', label='Training Accuracy')\n",
        "    plt.plot(epochs, val_acc, 'ro-', label='Validation Accuracy')\n",
        "    plt.title(f'Training and Validation Accuracy - {model_name}')\n",
        "    plt.xlabel('Epochs')\n",
        "    plt.ylabel('Accuracy')\n",
        "    plt.legend()\n",
        "    plt.grid(True)\n",
        "\n",
        "    # Plot loss\n",
        "    plt.subplot(1, 2, 2)\n",
        "    plt.plot(epochs, train_loss, 'bo-', label='Training Loss')\n",
        "    plt.plot(epochs, val_loss, 'ro-', label='Validation Loss')\n",
        "    plt.title(f'Training and Validation Loss - {model_name}')\n",
        "    plt.xlabel('Epochs')\n",
        "    plt.ylabel('Loss')\n",
        "    plt.legend()\n",
        "    plt.grid(True)\n",
        "\n",
        "    plt.tight_layout()\n",
        "    plt.show()"
      ]
    },
    {
      "cell_type": "code",
      "execution_count": 19,
      "metadata": {
        "id": "URv83bcxVgPU"
      },
      "outputs": [],
      "source": [
        "def plot_roc_curve(y_true, y_prob, model_name):\n",
        "    if len(set(y_true)) > 1:  # Pastikan ada kedua kelas\n",
        "        fpr, tpr, _ = roc_curve(y_true, y_prob)\n",
        "        auc = roc_auc_score(y_true, y_prob)\n",
        "\n",
        "        plt.figure(figsize=(8, 6))\n",
        "        plt.plot(fpr, tpr, label=f'ROC Curve (AUC = {auc:.4f})')\n",
        "        plt.plot([0, 1], [0, 1], 'k--', label='Random')\n",
        "        plt.xlabel('False Positive Rate')\n",
        "        plt.ylabel('True Positive Rate')\n",
        "        plt.title(f'ROC Curve - {model_name}')\n",
        "        plt.legend(loc='lower right')\n",
        "        plt.grid(True)\n",
        "        plt.show()\n",
        "    else:\n",
        "        print(\"Tidak dapat membuat ROC curve karena hanya ada satu kelas dalam data pengujian.\")"
      ]
    },
    {
      "cell_type": "markdown",
      "metadata": {
        "id": "9d2_JhCJVnLk"
      },
      "source": [
        "# PELATIHAN MODEL"
      ]
    },
    {
      "cell_type": "code",
      "execution_count": 20,
      "metadata": {
        "id": "uJyx8WgTVprK"
      },
      "outputs": [],
      "source": [
        "def train_and_evaluate(model_class, model_name, epochs=10):\n",
        "    # Inisialisasi model\n",
        "    vocab_size = len(tokenizer.word_index) + 1\n",
        "    model = model_class(vocab_size=vocab_size,\n",
        "                      embed_dim=128,\n",
        "                      hidden_dim=128,\n",
        "                      output_dim=1).to(device)\n",
        "\n",
        "    # Loss dan optimizer\n",
        "    criterion = nn.BCELoss()\n",
        "    optimizer = optim.Adam(model.parameters(), lr=0.001)\n",
        "\n",
        "    # Inisialisasi list untuk tracking metrik\n",
        "    train_acc_list = []\n",
        "    val_acc_list = []\n",
        "    train_loss_list = []\n",
        "    val_loss_list = []\n",
        "\n",
        "    # Pelatihan model\n",
        "    for epoch in range(epochs):\n",
        "        # Training\n",
        "        train_acc, train_loss = train_model(model, train_loader, criterion, optimizer, device)\n",
        "        train_acc_list.append(train_acc)\n",
        "        train_loss_list.append(train_loss)\n",
        "\n",
        "        # Evaluasi\n",
        "        eval_metrics = evaluate_model(model, test_loader, criterion, device)\n",
        "        val_acc_list.append(eval_metrics['accuracy'])\n",
        "        val_loss_list.append(eval_metrics['loss'])\n",
        "\n",
        "        print(f\"Epoch {epoch+1}/{epochs} | Train Acc: {train_acc:.4f}, Loss: {train_loss:.4f} | \"\n",
        "              f\"Val Acc: {eval_metrics['accuracy']:.4f}, Loss: {eval_metrics['loss']:.4f}\")\n",
        "\n",
        "    # Evaluasi akhir\n",
        "    final_metrics = evaluate_model(model, test_loader, criterion, device)\n",
        "\n",
        "    # Print hasil akhir\n",
        "    print(f\"\\n===== Hasil Evaluasi Model {model_name} =====\")\n",
        "    print(f\"Accuracy: {final_metrics['accuracy']:.4f}\")\n",
        "    print(f\"Precision: {final_metrics['precision']:.4f}\")\n",
        "    print(f\"Recall: {final_metrics['recall']:.4f}\")\n",
        "    print(f\"F1 Squared: {final_metrics['f1_squared']:.4f}\")\n",
        "    print(f\"AUC: {final_metrics['auc']:.4f}\")\n",
        "\n",
        "    # Visualisasi\n",
        "    plot_metrics(train_acc_list, val_acc_list, train_loss_list, val_loss_list, model_name)\n",
        "    plot_roc_curve(final_metrics['y_true'], final_metrics['y_prob'], model_name)\n",
        "\n",
        "    return model, final_metrics"
      ]
    },
    {
      "cell_type": "markdown",
      "metadata": {
        "id": "gtVxXuX5V0P2"
      },
      "source": [
        "# EKSEKUSI MODEL"
      ]
    },
    {
      "cell_type": "code",
      "execution_count": null,
      "metadata": {
        "colab": {
          "base_uri": "https://localhost:8080/",
          "height": 1000
        },
        "id": "Zf4K7IHTVvhv",
        "outputId": "61e7eed7-09a8-470e-b218-54649fe10c0b"
      },
      "outputs": [],
      "source": [
        "# RNN\n",
        "print(\"\\n\" + \"=\"*50)\n",
        "print(\"Pelatihan Model RNN\")\n",
        "print(\"=\"*50)\n",
        "rnn_model, rnn_metrics = train_and_evaluate(RNNModel, \"RNN\", epochs=10)"
      ]
    },
    {
      "cell_type": "code",
      "execution_count": null,
      "metadata": {
        "colab": {
          "base_uri": "https://localhost:8080/",
          "height": 1000
        },
        "id": "_ytlLK5iV60u",
        "outputId": "f0c1936f-3042-4a34-a821-62084aeac4e4"
      },
      "outputs": [],
      "source": [
        "# LSTM\n",
        "print(\"\\n\" + \"=\"*50)\n",
        "print(\"Pelatihan Model LSTM\")\n",
        "print(\"=\"*50)\n",
        "lstm_model, lstm_metrics = train_and_evaluate(LSTMModel, \"LSTM\", epochs=10)"
      ]
    },
    {
      "cell_type": "code",
      "execution_count": null,
      "metadata": {
        "colab": {
          "base_uri": "https://localhost:8080/",
          "height": 1000
        },
        "id": "NA3BJkJaV_lz",
        "outputId": "b2510a53-5530-4436-c8c1-de744e706a80"
      },
      "outputs": [],
      "source": [
        "# GRU\n",
        "print(\"\\n\" + \"=\"*50)\n",
        "print(\"Pelatihan Model GRU\")\n",
        "print(\"=\"*50)\n",
        "gru_model, gru_metrics = train_and_evaluate(GRUModel, \"GRU\", epochs=10)"
      ]
    },
    {
      "cell_type": "markdown",
      "metadata": {
        "id": "KNk2a4ePWNE6"
      },
      "source": [
        "# PERBANDINGAN MODEL"
      ]
    },
    {
      "cell_type": "code",
      "execution_count": null,
      "metadata": {
        "colab": {
          "base_uri": "https://localhost:8080/"
        },
        "id": "cbkp8RX0WOjT",
        "outputId": "047cf2a5-86dc-4f31-ff7b-d0ce4a25614b"
      },
      "outputs": [],
      "source": [
        "models = [\"RNN\", \"LSTM\", \"GRU\"]\n",
        "metrics = [rnn_metrics, lstm_metrics, gru_metrics]\n",
        "\n",
        "print(\"\\n\" + \"=\"*50)\n",
        "print(\"Perbandingan Model\")\n",
        "print(\"=\"*50)\n",
        "\n",
        "comparison_data = {\n",
        "    'Model': models,\n",
        "    'Accuracy': [m['accuracy'] for m in metrics],\n",
        "    'Precision': [m['precision'] for m in metrics],\n",
        "    'Recall': [m['recall'] for m in metrics],\n",
        "    'F1 Squared': [m['f1_squared'] for m in metrics],\n",
        "    'AUC': [m['auc'] for m in metrics]\n",
        "}\n",
        "\n",
        "comparison_df = pd.DataFrame(comparison_data)\n",
        "print(comparison_df)"
      ]
    },
    {
      "cell_type": "code",
      "execution_count": null,
      "metadata": {
        "colab": {
          "base_uri": "https://localhost:8080/",
          "height": 607
        },
        "id": "dShsH51rWgS6",
        "outputId": "856df14d-ad75-449a-9bc2-b0f33373bd1d"
      },
      "outputs": [],
      "source": [
        "# Visualisasi perbandingan model\n",
        "plt.figure(figsize=(12, 6))\n",
        "metrics_to_plot = ['Accuracy', 'Precision', 'Recall', 'F1 Squared', 'AUC']\n",
        "x = np.arange(len(models))\n",
        "width = 0.15\n",
        "multiplier = 0\n",
        "\n",
        "for metric in metrics_to_plot:\n",
        "    offset = width * multiplier\n",
        "    plt.bar(x + offset, comparison_df[metric], width, label=metric)\n",
        "    multiplier += 1\n",
        "\n",
        "plt.xlabel('Model')\n",
        "plt.ylabel('Score')\n",
        "plt.title('Perbandingan Kinerja Model RNN, LSTM, dan GRU')\n",
        "plt.xticks(x + width * 2, models)\n",
        "plt.legend(loc='upper left', bbox_to_anchor=(1, 1))\n",
        "plt.tight_layout()\n",
        "plt.show()"
      ]
    }
  ],
  "metadata": {
    "accelerator": "GPU",
    "colab": {
      "gpuType": "T4",
      "provenance": []
    },
    "kernelspec": {
      "display_name": "Python 3",
      "name": "python3"
    },
    "language_info": {
      "name": "python"
    }
  },
  "nbformat": 4,
  "nbformat_minor": 0
}
