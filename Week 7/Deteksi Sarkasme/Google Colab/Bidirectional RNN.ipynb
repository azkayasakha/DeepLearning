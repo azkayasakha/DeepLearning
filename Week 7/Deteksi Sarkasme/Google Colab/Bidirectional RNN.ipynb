{
  "nbformat": 4,
  "nbformat_minor": 0,
  "metadata": {
    "colab": {
      "provenance": [],
      "gpuType": "T4"
    },
    "kernelspec": {
      "name": "python3",
      "display_name": "Python 3"
    },
    "language_info": {
      "name": "python"
    },
    "accelerator": "GPU"
  },
  "cells": [
    {
      "cell_type": "code",
      "source": [
        "import numpy as np\n",
        "import pandas as pd\n",
        "import torch\n",
        "import torch.nn as nn\n",
        "import torch.optim as optim\n",
        "from torch.utils.data import Dataset, DataLoader\n",
        "from sklearn.model_selection import train_test_split\n",
        "from sklearn.metrics import accuracy_score, precision_score, recall_score, f1_score, roc_auc_score, confusion_matrix\n",
        "import matplotlib.pyplot as plt\n",
        "import seaborn as sns\n",
        "import random\n",
        "import time\n",
        "from collections import Counter"
      ],
      "metadata": {
        "id": "xLXeRFUgJLB5"
      },
      "execution_count": 43,
      "outputs": []
    },
    {
      "cell_type": "code",
      "source": [
        "# Set seeds for reproducibility\n",
        "def set_seed(seed=42):\n",
        "    random.seed(seed)\n",
        "    np.random.seed(seed)\n",
        "    torch.manual_seed(seed)\n",
        "    torch.cuda.manual_seed_all(seed)\n",
        "    torch.backends.cudnn.deterministic = True\n",
        "    torch.backends.cudnn.benchmark = False\n",
        "\n",
        "set_seed()"
      ],
      "metadata": {
        "id": "bF7NatD4JNNu"
      },
      "execution_count": 44,
      "outputs": []
    },
    {
      "cell_type": "code",
      "source": [
        "# Check if CUDA is available\n",
        "device = torch.device(\"cuda\" if torch.cuda.is_available() else \"cpu\")\n",
        "print(f\"Using device: {device}\")"
      ],
      "metadata": {
        "colab": {
          "base_uri": "https://localhost:8080/"
        },
        "id": "4tivzqr0JPes",
        "outputId": "4f361965-770b-4978-b8f4-0abd33d8d912"
      },
      "execution_count": 45,
      "outputs": [
        {
          "output_type": "stream",
          "name": "stdout",
          "text": [
            "Using device: cpu\n"
          ]
        }
      ]
    },
    {
      "cell_type": "code",
      "source": [
        "# Load the data\n",
        "json_data = []\n",
        "with open('DeteksiSarkasme.json', 'r') as f:\n",
        "    for line in f:\n",
        "        if line.strip():\n",
        "            json_data.append(eval(line))"
      ],
      "metadata": {
        "id": "JzMoMqHyJRl_"
      },
      "execution_count": 46,
      "outputs": []
    },
    {
      "cell_type": "code",
      "source": [
        "# Convert to pandas DataFrame\n",
        "df = pd.DataFrame(json_data)\n",
        "print(f\"Dataset shape: {df.shape}\")\n",
        "print(df.head())"
      ],
      "metadata": {
        "colab": {
          "base_uri": "https://localhost:8080/"
        },
        "id": "aZT49klcJSld",
        "outputId": "7b9716f1-f2ad-4f07-89ab-d06f99ecc219"
      },
      "execution_count": 47,
      "outputs": [
        {
          "output_type": "stream",
          "name": "stdout",
          "text": [
            "Dataset shape: (26709, 3)\n",
            "                                        article_link  \\\n",
            "0  https://www.huffingtonpost.com/entry/versace-b...   \n",
            "1  https://www.huffingtonpost.com/entry/roseanne-...   \n",
            "2  https://local.theonion.com/mom-starting-to-fea...   \n",
            "3  https://politics.theonion.com/boehner-just-wan...   \n",
            "4  https://www.huffingtonpost.com/entry/jk-rowlin...   \n",
            "\n",
            "                                            headline  is_sarcastic  \n",
            "0  former versace store clerk sues over secret 'b...             0  \n",
            "1  the 'roseanne' revival catches up to our thorn...             0  \n",
            "2  mom starting to fear son's web series closest ...             1  \n",
            "3  boehner just wants wife to listen, not come up...             1  \n",
            "4  j.k. rowling wishes snape happy birthday in th...             0  \n"
          ]
        }
      ]
    },
    {
      "cell_type": "code",
      "source": [
        "# Count the classes\n",
        "class_counts = df['is_sarcastic'].value_counts()\n",
        "print(\"\\nClass distribution:\")\n",
        "print(f\"Non-sarcastic headlines: {class_counts[0]}\")\n",
        "print(f\"Sarcastic headlines: {class_counts[1]}\")"
      ],
      "metadata": {
        "colab": {
          "base_uri": "https://localhost:8080/"
        },
        "id": "gSWVR7UOJWkg",
        "outputId": "6649ac49-6831-4854-9b1e-59190bb60bcc"
      },
      "execution_count": 48,
      "outputs": [
        {
          "output_type": "stream",
          "name": "stdout",
          "text": [
            "\n",
            "Class distribution:\n",
            "Non-sarcastic headlines: 14985\n",
            "Sarcastic headlines: 11724\n"
          ]
        }
      ]
    },
    {
      "cell_type": "code",
      "source": [
        "# Basic text preprocessing\n",
        "def preprocess_text(text):\n",
        "    text = text.lower()\n",
        "    # Remove any extra whitespace\n",
        "    text = ' '.join(text.split())\n",
        "    return text\n",
        "\n",
        "df['headline'] = df['headline'].apply(preprocess_text)"
      ],
      "metadata": {
        "id": "Ke_VEBCOJZJB"
      },
      "execution_count": 49,
      "outputs": []
    },
    {
      "cell_type": "code",
      "source": [
        "# Tokenization and vocabulary building\n",
        "def build_vocab(texts, max_words=10000):\n",
        "    words = []\n",
        "    for text in texts:\n",
        "        words.extend(text.split())\n",
        "\n",
        "    counter = Counter(words)\n",
        "    vocab = ['<PAD>', '<UNK>']\n",
        "    vocab.extend([word for word, count in counter.most_common(max_words-2)])\n",
        "    word_to_idx = {word: idx for idx, word in enumerate(vocab)}\n",
        "\n",
        "    return vocab, word_to_idx\n",
        "\n",
        "vocab, word_to_idx = build_vocab(df['headline'])\n",
        "print(f\"\\nVocabulary size: {len(vocab)}\")"
      ],
      "metadata": {
        "colab": {
          "base_uri": "https://localhost:8080/"
        },
        "id": "qqgn_bMfJcKr",
        "outputId": "29aba943-5784-42d7-b094-4b9d647e0701"
      },
      "execution_count": 50,
      "outputs": [
        {
          "output_type": "stream",
          "name": "stdout",
          "text": [
            "\n",
            "Vocabulary size: 10000\n"
          ]
        }
      ]
    },
    {
      "cell_type": "code",
      "source": [
        "# Convert text to sequences\n",
        "def text_to_sequence(text, word_to_idx, max_len=30):\n",
        "    words = text.split()\n",
        "    sequence = [word_to_idx.get(word, word_to_idx['<UNK>']) for word in words]\n",
        "\n",
        "    # Pad or truncate\n",
        "    if len(sequence) < max_len:\n",
        "        sequence = sequence + [word_to_idx['<PAD>']] * (max_len - len(sequence))\n",
        "    else:\n",
        "        sequence = sequence[:max_len]\n",
        "\n",
        "    return sequence"
      ],
      "metadata": {
        "id": "YQOEW_sJJfl7"
      },
      "execution_count": 51,
      "outputs": []
    },
    {
      "cell_type": "code",
      "source": [
        "# Create dataset\n",
        "class SarcasmDataset(Dataset):\n",
        "    def __init__(self, headlines, labels):\n",
        "        self.headlines = headlines\n",
        "        self.labels = labels\n",
        "\n",
        "    def __len__(self):\n",
        "        return len(self.headlines)\n",
        "\n",
        "    def __getitem__(self, idx):\n",
        "        headline = torch.tensor(self.headlines[idx], dtype=torch.long)\n",
        "        label = torch.tensor(self.labels[idx], dtype=torch.float)\n",
        "        return headline, label"
      ],
      "metadata": {
        "id": "8mLdsaJlJiKG"
      },
      "execution_count": 52,
      "outputs": []
    },
    {
      "cell_type": "code",
      "source": [
        "# Convert all headlines to sequences\n",
        "max_len = 30\n",
        "sequences = df['headline'].apply(lambda x: text_to_sequence(x, word_to_idx, max_len)).tolist()"
      ],
      "metadata": {
        "id": "vzjBsPitJkv7"
      },
      "execution_count": 53,
      "outputs": []
    },
    {
      "cell_type": "code",
      "source": [
        "# Split into train, validation, and test sets\n",
        "X_train_val, X_test, y_train_val, y_test = train_test_split(\n",
        "    sequences, df['is_sarcastic'].values, test_size=0.2, random_state=42, stratify=df['is_sarcastic'].values\n",
        ")\n",
        "\n",
        "X_train, X_val, y_train, y_val = train_test_split(\n",
        "    X_train_val, y_train_val, test_size=0.25, random_state=42, stratify=y_train_val\n",
        ")\n",
        "\n",
        "print(f\"Train set: {len(X_train)} samples\")\n",
        "print(f\"Validation set: {len(X_val)} samples\")\n",
        "print(f\"Test set: {len(X_test)} samples\")"
      ],
      "metadata": {
        "colab": {
          "base_uri": "https://localhost:8080/"
        },
        "id": "nM0yLnihJmnH",
        "outputId": "6caed765-32d8-4fd2-f29f-2884c7874dd8"
      },
      "execution_count": 54,
      "outputs": [
        {
          "output_type": "stream",
          "name": "stdout",
          "text": [
            "Train set: 16025 samples\n",
            "Validation set: 5342 samples\n",
            "Test set: 5342 samples\n"
          ]
        }
      ]
    },
    {
      "cell_type": "code",
      "source": [
        "# Create datasets and dataloaders\n",
        "train_dataset = SarcasmDataset(X_train, y_train)\n",
        "val_dataset = SarcasmDataset(X_val, y_val)\n",
        "test_dataset = SarcasmDataset(X_test, y_test)"
      ],
      "metadata": {
        "id": "_NWDsVbSJo0s"
      },
      "execution_count": 55,
      "outputs": []
    },
    {
      "cell_type": "code",
      "source": [
        "# Define our bidirectional RNN model\n",
        "class BiRNN(nn.Module):\n",
        "    def __init__(self, vocab_size, embedding_dim, hidden_dim, output_dim, n_layers,\n",
        "                 bidirectional, dropout, pad_idx):\n",
        "        super().__init__()\n",
        "\n",
        "        self.embedding = nn.Embedding(vocab_size, embedding_dim, padding_idx=pad_idx)\n",
        "\n",
        "        self.rnn = nn.LSTM(embedding_dim,\n",
        "                          hidden_dim,\n",
        "                          num_layers=n_layers,\n",
        "                          bidirectional=bidirectional,\n",
        "                          dropout=dropout if n_layers > 1 else 0,\n",
        "                          batch_first=True)\n",
        "\n",
        "        # If bidirectional, multiply by 2 to account for both directions\n",
        "        self.fc = nn.Linear(hidden_dim * 2 if bidirectional else hidden_dim, output_dim)\n",
        "\n",
        "        self.dropout = nn.Dropout(dropout)\n",
        "\n",
        "    def forward(self, text):\n",
        "        # text: [batch size, sent len]\n",
        "\n",
        "        embedded = self.dropout(self.embedding(text))\n",
        "        # embedded: [batch size, sent len, emb dim]\n",
        "\n",
        "        # LSTM with packed sequence\n",
        "        output, (hidden, cell) = self.rnn(embedded)\n",
        "        # output: [batch size, sent len, hid dim * n directions]\n",
        "        # hidden: [n layers * n directions, batch size, hid dim]\n",
        "\n",
        "        # If bidirectional, concat the final forward and backward hidden states\n",
        "        if self.rnn.bidirectional:\n",
        "            hidden = torch.cat((hidden[-2,:,:], hidden[-1,:,:]), dim=1)\n",
        "        else:\n",
        "            hidden = hidden[-1,:,:]\n",
        "\n",
        "        # hidden: [batch size, hid dim * n directions]\n",
        "\n",
        "        return self.fc(self.dropout(hidden))"
      ],
      "metadata": {
        "id": "kCMuKTVsJt_n"
      },
      "execution_count": 30,
      "outputs": []
    },
    {
      "cell_type": "code",
      "source": [
        "# Limited hyperparameter combinations for faster tuning (10 combinations)\n",
        "limited_hyperparameters = [\n",
        "    {'embedding_dim': 100, 'hidden_dim': 128, 'n_layers': 1, 'dropout': 0.3, 'batch_size': 32, 'learning_rate': 0.001},\n",
        "    {'embedding_dim': 200, 'hidden_dim': 128, 'n_layers': 1, 'dropout': 0.3, 'batch_size': 32, 'learning_rate': 0.001},\n",
        "    {'embedding_dim': 300, 'hidden_dim': 128, 'n_layers': 1, 'dropout': 0.3, 'batch_size': 32, 'learning_rate': 0.001},\n",
        "    {'embedding_dim': 100, 'hidden_dim': 256, 'n_layers': 1, 'dropout': 0.3, 'batch_size': 32, 'learning_rate': 0.001},\n",
        "    {'embedding_dim': 100, 'hidden_dim': 128, 'n_layers': 2, 'dropout': 0.3, 'batch_size': 32, 'learning_rate': 0.001},\n",
        "    {'embedding_dim': 100, 'hidden_dim': 128, 'n_layers': 1, 'dropout': 0.5, 'batch_size': 32, 'learning_rate': 0.001},\n",
        "    {'embedding_dim': 100, 'hidden_dim': 128, 'n_layers': 1, 'dropout': 0.3, 'batch_size': 64, 'learning_rate': 0.001},\n",
        "    {'embedding_dim': 100, 'hidden_dim': 128, 'n_layers': 1, 'dropout': 0.3, 'batch_size': 32, 'learning_rate': 0.01},\n",
        "    {'embedding_dim': 200, 'hidden_dim': 256, 'n_layers': 1, 'dropout': 0.5, 'batch_size': 32, 'learning_rate': 0.001},\n",
        "    {'embedding_dim': 300, 'hidden_dim': 256, 'n_layers': 2, 'dropout': 0.5, 'batch_size': 64, 'learning_rate': 0.001}\n",
        "]"
      ],
      "metadata": {
        "id": "M3JuR2mqJu-F"
      },
      "execution_count": 56,
      "outputs": []
    },
    {
      "cell_type": "code",
      "source": [
        "# Function for training and evaluation\n",
        "def train_model(model, train_loader, val_loader, optimizer, criterion, epochs=10):\n",
        "    best_val_loss = float('inf')\n",
        "    train_losses = []\n",
        "    val_losses = []\n",
        "    train_acc = []\n",
        "    val_acc = []\n",
        "\n",
        "    for epoch in range(epochs):\n",
        "        start_time = time.time()\n",
        "\n",
        "        # Training\n",
        "        model.train()\n",
        "        epoch_loss = 0\n",
        "        epoch_acc = 0\n",
        "\n",
        "        for batch in train_loader:\n",
        "            text, labels = batch\n",
        "            text, labels = text.to(device), labels.to(device)\n",
        "\n",
        "            optimizer.zero_grad()\n",
        "\n",
        "            predictions = model(text).squeeze(1)\n",
        "\n",
        "            loss = criterion(predictions, labels)\n",
        "\n",
        "            loss.backward()\n",
        "            optimizer.step()\n",
        "\n",
        "            epoch_loss += loss.item()\n",
        "\n",
        "            predicted_classes = torch.round(torch.sigmoid(predictions))\n",
        "            correct = (predicted_classes == labels).float().sum()\n",
        "            epoch_acc += correct.item()\n",
        "\n",
        "        # Calculate training metrics\n",
        "        train_loss = epoch_loss / len(train_loader)\n",
        "        train_accuracy = epoch_acc / len(train_loader.dataset)\n",
        "        train_losses.append(train_loss)\n",
        "        train_acc.append(train_accuracy)\n",
        "\n",
        "        # Validation\n",
        "        model.eval()\n",
        "        epoch_val_loss = 0\n",
        "        epoch_val_acc = 0\n",
        "\n",
        "        with torch.no_grad():\n",
        "            for batch in val_loader:\n",
        "                text, labels = batch\n",
        "                text, labels = text.to(device), labels.to(device)\n",
        "\n",
        "                predictions = model(text).squeeze(1)\n",
        "\n",
        "                loss = criterion(predictions, labels)\n",
        "\n",
        "                epoch_val_loss += loss.item()\n",
        "\n",
        "                predicted_classes = torch.round(torch.sigmoid(predictions))\n",
        "                correct = (predicted_classes == labels).float().sum()\n",
        "                epoch_val_acc += correct.item()\n",
        "\n",
        "        # Calculate validation metrics\n",
        "        val_loss = epoch_val_loss / len(val_loader)\n",
        "        val_accuracy = epoch_val_acc / len(val_loader.dataset)\n",
        "        val_losses.append(val_loss)\n",
        "        val_acc.append(val_accuracy)\n",
        "\n",
        "        end_time = time.time()\n",
        "\n",
        "        print(f'Epoch: {epoch+1}/{epochs}')\n",
        "        print(f'Time: {end_time - start_time:.2f}s')\n",
        "        print(f'Train Loss: {train_loss:.4f} | Train Acc: {train_accuracy:.4f}')\n",
        "        print(f'Val Loss: {val_loss:.4f} | Val Acc: {val_accuracy:.4f}')\n",
        "        print('-' * 50)\n",
        "\n",
        "        # Save the best model\n",
        "        if val_loss < best_val_loss:\n",
        "            best_val_loss = val_loss\n",
        "            torch.save(model.state_dict(), 'best-model.pt')\n",
        "\n",
        "    return train_losses, val_losses, train_acc, val_acc"
      ],
      "metadata": {
        "id": "qgXkZVRrJzbg"
      },
      "execution_count": 58,
      "outputs": []
    },
    {
      "cell_type": "code",
      "source": [
        "# Function for evaluation\n",
        "def evaluate_model(model, test_loader, criterion):\n",
        "    model.eval()\n",
        "\n",
        "    all_predictions = []\n",
        "    all_labels = []\n",
        "    test_loss = 0\n",
        "\n",
        "    with torch.no_grad():\n",
        "        for batch in test_loader:\n",
        "            text, labels = batch\n",
        "            text, labels = text.to(device), labels.to(device)\n",
        "\n",
        "            predictions = model(text).squeeze(1)\n",
        "\n",
        "            loss = criterion(predictions, labels)\n",
        "            test_loss += loss.item()\n",
        "\n",
        "            # Get probabilities and predictions\n",
        "            probs = torch.sigmoid(predictions)\n",
        "            predicted_classes = torch.round(probs)\n",
        "\n",
        "            all_predictions.extend(predicted_classes.cpu().numpy())\n",
        "            all_labels.extend(labels.cpu().numpy())\n",
        "\n",
        "    # Calculate metrics\n",
        "    acc = accuracy_score(all_labels, all_predictions)\n",
        "    prec = precision_score(all_labels, all_predictions)\n",
        "    rec = recall_score(all_labels, all_predictions)\n",
        "    f1 = f1_score(all_labels, all_predictions)\n",
        "\n",
        "    # ROC AUC might give warning if there's only one class in predictions\n",
        "    try:\n",
        "        auc = roc_auc_score(all_labels, all_predictions)\n",
        "    except:\n",
        "        auc = 0\n",
        "\n",
        "    # Confusion matrix\n",
        "    cm = confusion_matrix(all_labels, all_predictions)\n",
        "\n",
        "    metrics = {\n",
        "        'accuracy': acc,\n",
        "        'precision': prec,\n",
        "        'recall': rec,\n",
        "        'f1_score': f1,\n",
        "        'auc': auc,\n",
        "        'confusion_matrix': cm,\n",
        "        'test_loss': test_loss / len(test_loader)\n",
        "    }\n",
        "\n",
        "    return metrics"
      ],
      "metadata": {
        "id": "iwO-blAaJ2EC"
      },
      "execution_count": 59,
      "outputs": []
    },
    {
      "cell_type": "code",
      "source": [
        "# Limited hyperparameter tuning\n",
        "def limited_hyperparameter_tuning():\n",
        "    best_val_loss = float('inf')\n",
        "    best_params = {}\n",
        "    results = []\n",
        "\n",
        "    # Test each of the 10 hyperparameter combinations\n",
        "    for i, params in enumerate(limited_hyperparameters):\n",
        "        print(f\"\\nTesting hyperparameter combination {i+1}/10:\")\n",
        "        print(f\"Parameters: {params}\")\n",
        "\n",
        "        # Create data loaders\n",
        "        train_loader = DataLoader(train_dataset, batch_size=params['batch_size'], shuffle=True)\n",
        "        val_loader = DataLoader(val_dataset, batch_size=params['batch_size'])\n",
        "\n",
        "        # Initialize model\n",
        "        model = BiRNN(\n",
        "            vocab_size=len(vocab),\n",
        "            embedding_dim=params['embedding_dim'],\n",
        "            hidden_dim=params['hidden_dim'],\n",
        "            output_dim=1,\n",
        "            n_layers=params['n_layers'],\n",
        "            bidirectional=True,\n",
        "            dropout=params['dropout'],\n",
        "            pad_idx=word_to_idx['<PAD>']\n",
        "        ).to(device)\n",
        "\n",
        "        optimizer = optim.Adam(model.parameters(), lr=params['learning_rate'])\n",
        "        criterion = nn.BCEWithLogitsLoss()\n",
        "\n",
        "        # Train for a small number of epochs for hyperparameter tuning\n",
        "        _, val_losses, _, val_acc = train_model(\n",
        "            model, train_loader, val_loader, optimizer, criterion, epochs=3\n",
        "        )\n",
        "\n",
        "        # Get the final validation loss\n",
        "        final_val_loss = val_losses[-1]\n",
        "\n",
        "        # Record results\n",
        "        result = params.copy()\n",
        "        result['val_loss'] = final_val_loss\n",
        "        result['val_accuracy'] = val_acc[-1]\n",
        "        results.append(result)\n",
        "\n",
        "        # Check if this is the best model\n",
        "        if final_val_loss < best_val_loss:\n",
        "            best_val_loss = final_val_loss\n",
        "            best_params = params.copy()\n",
        "\n",
        "    return best_params, results"
      ],
      "metadata": {
        "id": "99KlVSUyJ4-a"
      },
      "execution_count": 60,
      "outputs": []
    },
    {
      "cell_type": "code",
      "source": [
        "# Run limited hyperparameter tuning\n",
        "print(\"\\nStarting limited hyperparameter tuning...\")\n",
        "best_params, tuning_results = limited_hyperparameter_tuning()\n",
        "print(f\"Best hyperparameters: {best_params}\")"
      ],
      "metadata": {
        "colab": {
          "base_uri": "https://localhost:8080/"
        },
        "id": "qJupRbjGJ7li",
        "outputId": "559d9cb7-b546-4c03-f239-4d07a508dbfb"
      },
      "execution_count": 61,
      "outputs": [
        {
          "output_type": "stream",
          "name": "stdout",
          "text": [
            "\n",
            "Starting limited hyperparameter tuning...\n",
            "\n",
            "Testing hyperparameter combination 1/10:\n",
            "Parameters: {'embedding_dim': 100, 'hidden_dim': 128, 'n_layers': 1, 'dropout': 0.3, 'batch_size': 32, 'learning_rate': 0.001}\n",
            "Epoch: 1/3\n",
            "Time: 29.09s\n",
            "Train Loss: 0.5426 | Train Acc: 0.7073\n",
            "Val Loss: 0.4466 | Val Acc: 0.7845\n",
            "--------------------------------------------------\n",
            "Epoch: 2/3\n",
            "Time: 28.24s\n",
            "Train Loss: 0.4145 | Train Acc: 0.8041\n",
            "Val Loss: 0.3939 | Val Acc: 0.8152\n",
            "--------------------------------------------------\n",
            "Epoch: 3/3\n",
            "Time: 32.39s\n",
            "Train Loss: 0.3414 | Train Acc: 0.8484\n",
            "Val Loss: 0.3832 | Val Acc: 0.8306\n",
            "--------------------------------------------------\n",
            "\n",
            "Testing hyperparameter combination 2/10:\n",
            "Parameters: {'embedding_dim': 200, 'hidden_dim': 128, 'n_layers': 1, 'dropout': 0.3, 'batch_size': 32, 'learning_rate': 0.001}\n",
            "Epoch: 1/3\n",
            "Time: 39.26s\n",
            "Train Loss: 0.5075 | Train Acc: 0.7355\n",
            "Val Loss: 0.4094 | Val Acc: 0.8085\n",
            "--------------------------------------------------\n",
            "Epoch: 2/3\n",
            "Time: 37.84s\n",
            "Train Loss: 0.3634 | Train Acc: 0.8354\n",
            "Val Loss: 0.3611 | Val Acc: 0.8375\n",
            "--------------------------------------------------\n",
            "Epoch: 3/3\n",
            "Time: 39.73s\n",
            "Train Loss: 0.2767 | Train Acc: 0.8806\n",
            "Val Loss: 0.3683 | Val Acc: 0.8529\n",
            "--------------------------------------------------\n",
            "\n",
            "Testing hyperparameter combination 3/10:\n",
            "Parameters: {'embedding_dim': 300, 'hidden_dim': 128, 'n_layers': 1, 'dropout': 0.3, 'batch_size': 32, 'learning_rate': 0.001}\n",
            "Epoch: 1/3\n",
            "Time: 50.30s\n",
            "Train Loss: 0.4900 | Train Acc: 0.7495\n",
            "Val Loss: 0.3896 | Val Acc: 0.8143\n",
            "--------------------------------------------------\n",
            "Epoch: 2/3\n",
            "Time: 48.21s\n",
            "Train Loss: 0.3412 | Train Acc: 0.8481\n",
            "Val Loss: 0.3514 | Val Acc: 0.8435\n",
            "--------------------------------------------------\n",
            "Epoch: 3/3\n",
            "Time: 49.19s\n",
            "Train Loss: 0.2499 | Train Acc: 0.8973\n",
            "Val Loss: 0.3621 | Val Acc: 0.8491\n",
            "--------------------------------------------------\n",
            "\n",
            "Testing hyperparameter combination 4/10:\n",
            "Parameters: {'embedding_dim': 100, 'hidden_dim': 256, 'n_layers': 1, 'dropout': 0.3, 'batch_size': 32, 'learning_rate': 0.001}\n",
            "Epoch: 1/3\n",
            "Time: 66.87s\n",
            "Train Loss: 0.5319 | Train Acc: 0.7180\n",
            "Val Loss: 0.4412 | Val Acc: 0.7907\n",
            "--------------------------------------------------\n",
            "Epoch: 2/3\n",
            "Time: 66.77s\n",
            "Train Loss: 0.4092 | Train Acc: 0.8071\n",
            "Val Loss: 0.3934 | Val Acc: 0.8169\n",
            "--------------------------------------------------\n",
            "Epoch: 3/3\n",
            "Time: 66.32s\n",
            "Train Loss: 0.3354 | Train Acc: 0.8500\n",
            "Val Loss: 0.3857 | Val Acc: 0.8291\n",
            "--------------------------------------------------\n",
            "\n",
            "Testing hyperparameter combination 5/10:\n",
            "Parameters: {'embedding_dim': 100, 'hidden_dim': 128, 'n_layers': 2, 'dropout': 0.3, 'batch_size': 32, 'learning_rate': 0.001}\n",
            "Epoch: 1/3\n",
            "Time: 60.94s\n",
            "Train Loss: 0.5347 | Train Acc: 0.7132\n",
            "Val Loss: 0.4375 | Val Acc: 0.7967\n",
            "--------------------------------------------------\n",
            "Epoch: 2/3\n",
            "Time: 60.85s\n",
            "Train Loss: 0.4110 | Train Acc: 0.8066\n",
            "Val Loss: 0.3958 | Val Acc: 0.8130\n",
            "--------------------------------------------------\n",
            "Epoch: 3/3\n",
            "Time: 61.26s\n",
            "Train Loss: 0.3373 | Train Acc: 0.8503\n",
            "Val Loss: 0.4013 | Val Acc: 0.8347\n",
            "--------------------------------------------------\n",
            "\n",
            "Testing hyperparameter combination 6/10:\n",
            "Parameters: {'embedding_dim': 100, 'hidden_dim': 128, 'n_layers': 1, 'dropout': 0.5, 'batch_size': 32, 'learning_rate': 0.001}\n",
            "Epoch: 1/3\n",
            "Time: 29.99s\n",
            "Train Loss: 0.5702 | Train Acc: 0.6839\n",
            "Val Loss: 0.4657 | Val Acc: 0.7718\n",
            "--------------------------------------------------\n",
            "Epoch: 2/3\n",
            "Time: 29.56s\n",
            "Train Loss: 0.4717 | Train Acc: 0.7685\n",
            "Val Loss: 0.4351 | Val Acc: 0.8012\n",
            "--------------------------------------------------\n",
            "Epoch: 3/3\n",
            "Time: 31.22s\n",
            "Train Loss: 0.4177 | Train Acc: 0.8032\n",
            "Val Loss: 0.3868 | Val Acc: 0.8205\n",
            "--------------------------------------------------\n",
            "\n",
            "Testing hyperparameter combination 7/10:\n",
            "Parameters: {'embedding_dim': 100, 'hidden_dim': 128, 'n_layers': 1, 'dropout': 0.3, 'batch_size': 64, 'learning_rate': 0.001}\n",
            "Epoch: 1/3\n",
            "Time: 25.88s\n",
            "Train Loss: 0.5601 | Train Acc: 0.6935\n",
            "Val Loss: 0.4681 | Val Acc: 0.7750\n",
            "--------------------------------------------------\n",
            "Epoch: 2/3\n",
            "Time: 25.49s\n",
            "Train Loss: 0.4431 | Train Acc: 0.7843\n",
            "Val Loss: 0.4187 | Val Acc: 0.8048\n",
            "--------------------------------------------------\n",
            "Epoch: 3/3\n",
            "Time: 25.18s\n",
            "Train Loss: 0.3703 | Train Acc: 0.8309\n",
            "Val Loss: 0.3980 | Val Acc: 0.8165\n",
            "--------------------------------------------------\n",
            "\n",
            "Testing hyperparameter combination 8/10:\n",
            "Parameters: {'embedding_dim': 100, 'hidden_dim': 128, 'n_layers': 1, 'dropout': 0.3, 'batch_size': 32, 'learning_rate': 0.01}\n",
            "Epoch: 1/3\n",
            "Time: 29.04s\n",
            "Train Loss: 0.4737 | Train Acc: 0.7649\n",
            "Val Loss: 0.3789 | Val Acc: 0.8295\n",
            "--------------------------------------------------\n",
            "Epoch: 2/3\n",
            "Time: 29.11s\n",
            "Train Loss: 0.3104 | Train Acc: 0.8668\n",
            "Val Loss: 0.3681 | Val Acc: 0.8431\n",
            "--------------------------------------------------\n",
            "Epoch: 3/3\n",
            "Time: 28.72s\n",
            "Train Loss: 0.2364 | Train Acc: 0.9021\n",
            "Val Loss: 0.3913 | Val Acc: 0.8381\n",
            "--------------------------------------------------\n",
            "\n",
            "Testing hyperparameter combination 9/10:\n",
            "Parameters: {'embedding_dim': 200, 'hidden_dim': 256, 'n_layers': 1, 'dropout': 0.5, 'batch_size': 32, 'learning_rate': 0.001}\n",
            "Epoch: 1/3\n",
            "Time: 84.25s\n",
            "Train Loss: 0.5302 | Train Acc: 0.7150\n",
            "Val Loss: 0.4402 | Val Acc: 0.7945\n",
            "--------------------------------------------------\n",
            "Epoch: 2/3\n",
            "Time: 82.17s\n",
            "Train Loss: 0.4191 | Train Acc: 0.8015\n",
            "Val Loss: 0.3823 | Val Acc: 0.8253\n",
            "--------------------------------------------------\n",
            "Epoch: 3/3\n",
            "Time: 84.45s\n",
            "Train Loss: 0.3614 | Train Acc: 0.8370\n",
            "Val Loss: 0.3777 | Val Acc: 0.8373\n",
            "--------------------------------------------------\n",
            "\n",
            "Testing hyperparameter combination 10/10:\n",
            "Parameters: {'embedding_dim': 300, 'hidden_dim': 256, 'n_layers': 2, 'dropout': 0.5, 'batch_size': 64, 'learning_rate': 0.001}\n",
            "Epoch: 1/3\n",
            "Time: 199.98s\n",
            "Train Loss: 0.5270 | Train Acc: 0.7203\n",
            "Val Loss: 0.4324 | Val Acc: 0.7965\n",
            "--------------------------------------------------\n",
            "Epoch: 2/3\n",
            "Time: 205.24s\n",
            "Train Loss: 0.4160 | Train Acc: 0.8061\n",
            "Val Loss: 0.3980 | Val Acc: 0.8244\n",
            "--------------------------------------------------\n",
            "Epoch: 3/3\n",
            "Time: 208.52s\n",
            "Train Loss: 0.3479 | Train Acc: 0.8441\n",
            "Val Loss: 0.3789 | Val Acc: 0.8405\n",
            "--------------------------------------------------\n",
            "Best hyperparameters: {'embedding_dim': 300, 'hidden_dim': 128, 'n_layers': 1, 'dropout': 0.3, 'batch_size': 32, 'learning_rate': 0.001}\n"
          ]
        }
      ]
    },
    {
      "cell_type": "code",
      "source": [
        "# Show tuning results sorted by validation loss\n",
        "df_results = pd.DataFrame(tuning_results)\n",
        "print(\"\\nHyperparameter tuning results:\")\n",
        "print(df_results.sort_values('val_loss').head(10))"
      ],
      "metadata": {
        "colab": {
          "base_uri": "https://localhost:8080/"
        },
        "id": "s4ZMUvwHKBBJ",
        "outputId": "99950da5-8bb0-4115-82fd-cf1777a56100"
      },
      "execution_count": 62,
      "outputs": [
        {
          "output_type": "stream",
          "name": "stdout",
          "text": [
            "\n",
            "Hyperparameter tuning results:\n",
            "   embedding_dim  hidden_dim  n_layers  dropout  batch_size  learning_rate  \\\n",
            "2            300         128         1      0.3          32          0.001   \n",
            "1            200         128         1      0.3          32          0.001   \n",
            "8            200         256         1      0.5          32          0.001   \n",
            "9            300         256         2      0.5          64          0.001   \n",
            "0            100         128         1      0.3          32          0.001   \n",
            "3            100         256         1      0.3          32          0.001   \n",
            "5            100         128         1      0.5          32          0.001   \n",
            "7            100         128         1      0.3          32          0.010   \n",
            "6            100         128         1      0.3          64          0.001   \n",
            "4            100         128         2      0.3          32          0.001   \n",
            "\n",
            "   val_loss  val_accuracy  \n",
            "2  0.362060      0.849120  \n",
            "1  0.368258      0.852864  \n",
            "8  0.377706      0.837327  \n",
            "9  0.378905      0.840509  \n",
            "0  0.383176      0.830588  \n",
            "3  0.385711      0.829090  \n",
            "5  0.386838      0.820479  \n",
            "7  0.391300      0.838076  \n",
            "6  0.398049      0.816548  \n",
            "4  0.401327      0.834706  \n"
          ]
        }
      ]
    },
    {
      "cell_type": "code",
      "source": [
        "# Train the final model with the best hyperparameters\n",
        "print(\"\\nTraining final model with best hyperparameters...\")\n",
        "final_model = BiRNN(\n",
        "    vocab_size=len(vocab),\n",
        "    embedding_dim=best_params['embedding_dim'],\n",
        "    hidden_dim=best_params['hidden_dim'],\n",
        "    output_dim=1,\n",
        "    n_layers=best_params['n_layers'],\n",
        "    bidirectional=True,\n",
        "    dropout=best_params['dropout'],\n",
        "    pad_idx=word_to_idx['<PAD>']\n",
        ").to(device)\n",
        "\n",
        "final_optimizer = optim.Adam(final_model.parameters(), lr=best_params['learning_rate'])\n",
        "criterion = nn.BCEWithLogitsLoss()"
      ],
      "metadata": {
        "colab": {
          "base_uri": "https://localhost:8080/"
        },
        "id": "xIk8Pkq9KD1O",
        "outputId": "d427cb51-8926-4303-9307-36b0191a40cc"
      },
      "execution_count": 63,
      "outputs": [
        {
          "output_type": "stream",
          "name": "stdout",
          "text": [
            "\n",
            "Training final model with best hyperparameters...\n"
          ]
        }
      ]
    },
    {
      "cell_type": "code",
      "source": [
        "# Create data loaders with the best batch size\n",
        "train_loader = DataLoader(train_dataset, batch_size=best_params['batch_size'], shuffle=True)\n",
        "val_loader = DataLoader(val_dataset, batch_size=best_params['batch_size'])\n",
        "test_loader = DataLoader(test_dataset, batch_size=best_params['batch_size'])"
      ],
      "metadata": {
        "id": "vKIatqWkKGMw"
      },
      "execution_count": 64,
      "outputs": []
    },
    {
      "cell_type": "code",
      "source": [
        "# Train the final model\n",
        "train_losses, val_losses, train_acc, val_acc = train_model(\n",
        "    final_model, train_loader, val_loader, final_optimizer, criterion, epochs=10\n",
        ")"
      ],
      "metadata": {
        "colab": {
          "base_uri": "https://localhost:8080/"
        },
        "id": "OD1LMOa-KIJP",
        "outputId": "5b3c5d26-20fc-49a4-ae92-6142ef85db3b"
      },
      "execution_count": 65,
      "outputs": [
        {
          "output_type": "stream",
          "name": "stdout",
          "text": [
            "Epoch: 1/10\n",
            "Time: 50.11s\n",
            "Train Loss: 0.4888 | Train Acc: 0.7522\n",
            "Val Loss: 0.3987 | Val Acc: 0.8180\n",
            "--------------------------------------------------\n",
            "Epoch: 2/10\n",
            "Time: 47.31s\n",
            "Train Loss: 0.3396 | Train Acc: 0.8509\n",
            "Val Loss: 0.3680 | Val Acc: 0.8396\n",
            "--------------------------------------------------\n",
            "Epoch: 3/10\n",
            "Time: 48.89s\n",
            "Train Loss: 0.2485 | Train Acc: 0.8973\n",
            "Val Loss: 0.3711 | Val Acc: 0.8519\n",
            "--------------------------------------------------\n",
            "Epoch: 4/10\n",
            "Time: 48.93s\n",
            "Train Loss: 0.1855 | Train Acc: 0.9256\n",
            "Val Loss: 0.3773 | Val Acc: 0.8532\n",
            "--------------------------------------------------\n",
            "Epoch: 5/10\n",
            "Time: 48.98s\n",
            "Train Loss: 0.1401 | Train Acc: 0.9448\n",
            "Val Loss: 0.4238 | Val Acc: 0.8489\n",
            "--------------------------------------------------\n",
            "Epoch: 6/10\n",
            "Time: 49.16s\n",
            "Train Loss: 0.1062 | Train Acc: 0.9604\n",
            "Val Loss: 0.4914 | Val Acc: 0.8450\n",
            "--------------------------------------------------\n",
            "Epoch: 7/10\n",
            "Time: 49.45s\n",
            "Train Loss: 0.0857 | Train Acc: 0.9679\n",
            "Val Loss: 0.5419 | Val Acc: 0.8523\n",
            "--------------------------------------------------\n",
            "Epoch: 8/10\n",
            "Time: 49.64s\n",
            "Train Loss: 0.0661 | Train Acc: 0.9759\n",
            "Val Loss: 0.5668 | Val Acc: 0.8514\n",
            "--------------------------------------------------\n",
            "Epoch: 9/10\n",
            "Time: 49.62s\n",
            "Train Loss: 0.0561 | Train Acc: 0.9798\n",
            "Val Loss: 0.6228 | Val Acc: 0.8478\n",
            "--------------------------------------------------\n",
            "Epoch: 10/10\n",
            "Time: 50.11s\n",
            "Train Loss: 0.0473 | Train Acc: 0.9830\n",
            "Val Loss: 0.6557 | Val Acc: 0.8486\n",
            "--------------------------------------------------\n"
          ]
        }
      ]
    },
    {
      "cell_type": "code",
      "source": [
        "# Load the best model\n",
        "final_model.load_state_dict(torch.load('best-model.pt'))"
      ],
      "metadata": {
        "colab": {
          "base_uri": "https://localhost:8080/"
        },
        "id": "0ZN-YcNoKKDF",
        "outputId": "6e5c7793-1164-4cfc-cb24-98da7926c7be"
      },
      "execution_count": 66,
      "outputs": [
        {
          "output_type": "execute_result",
          "data": {
            "text/plain": [
              "<All keys matched successfully>"
            ]
          },
          "metadata": {},
          "execution_count": 66
        }
      ]
    },
    {
      "cell_type": "code",
      "source": [
        "# Evaluate on test set\n",
        "test_metrics = evaluate_model(final_model, test_loader, criterion)"
      ],
      "metadata": {
        "id": "8hYhvTJEKLr0"
      },
      "execution_count": 67,
      "outputs": []
    },
    {
      "cell_type": "code",
      "source": [
        "# Print metrics\n",
        "print(\"\\nTest Metrics:\")\n",
        "print(f\"Accuracy: {test_metrics['accuracy']:.4f}\")\n",
        "print(f\"Precision: {test_metrics['precision']:.4f}\")\n",
        "print(f\"Recall: {test_metrics['recall']:.4f}\")\n",
        "print(f\"F1 Score: {test_metrics['f1_score']:.4f}\")\n",
        "print(f\"AUC: {test_metrics['auc']:.4f}\")\n",
        "print(f\"Test Loss: {test_metrics['test_loss']:.4f}\")"
      ],
      "metadata": {
        "colab": {
          "base_uri": "https://localhost:8080/"
        },
        "id": "oULhrtvsKN-e",
        "outputId": "02967719-389f-4873-f43f-b721e260e179"
      },
      "execution_count": 68,
      "outputs": [
        {
          "output_type": "stream",
          "name": "stdout",
          "text": [
            "\n",
            "Test Metrics:\n",
            "Accuracy: 0.8298\n",
            "Precision: 0.8246\n",
            "Recall: 0.7778\n",
            "F1 Score: 0.8005\n",
            "AUC: 0.8242\n",
            "Test Loss: 0.3770\n"
          ]
        }
      ]
    },
    {
      "cell_type": "code",
      "source": [
        "# Plot training and validation loss\n",
        "plt.figure(figsize=(12, 5))\n",
        "plt.subplot(1, 2, 1)\n",
        "plt.plot(train_losses, label='Training loss')\n",
        "plt.plot(val_losses, label='Validation loss')\n",
        "plt.title('Training and Validation Loss')\n",
        "plt.xlabel('Epochs')\n",
        "plt.ylabel('Loss')\n",
        "plt.legend()"
      ],
      "metadata": {
        "colab": {
          "base_uri": "https://localhost:8080/",
          "height": 504
        },
        "id": "HM71GB1lKRgl",
        "outputId": "8dc77806-19a3-4289-dd5a-d38c7b5bd7a6"
      },
      "execution_count": 69,
      "outputs": [
        {
          "output_type": "execute_result",
          "data": {
            "text/plain": [
              "<matplotlib.legend.Legend at 0x7fcd17e85350>"
            ]
          },
          "metadata": {},
          "execution_count": 69
        },
        {
          "output_type": "display_data",
          "data": {
            "text/plain": [
              "<Figure size 1200x500 with 1 Axes>"
            ],
            "image/png": "[encoded data removed]"
          },
          "metadata": {}
        }
      ]
    },
    {
      "cell_type": "code",
      "source": [
        "# Plot training and validation accuracy\n",
        "plt.subplot(1, 2, 2)\n",
        "plt.plot(train_acc, label='Training accuracy')\n",
        "plt.plot(val_acc, label='Validation accuracy')\n",
        "plt.title('Training and Validation Accuracy')\n",
        "plt.xlabel('Epochs')\n",
        "plt.ylabel('Accuracy')\n",
        "plt.legend()\n",
        "plt.tight_layout()\n",
        "plt.savefig('training_curves.png')\n",
        "plt.show()"
      ],
      "metadata": {
        "colab": {
          "base_uri": "https://localhost:8080/",
          "height": 487
        },
        "id": "7iie0jT5KTB2",
        "outputId": "7dc2266c-d040-4a30-b2a7-12f9c15ca6e3"
      },
      "execution_count": 70,
      "outputs": [
        {
          "output_type": "display_data",
          "data": {
            "text/plain": [
              "<Figure size 640x480 with 1 Axes>"
            ],
            "image/png": "[encoded data removed]"
          },
          "metadata": {}
        }
      ]
    },
    {
      "cell_type": "code",
      "source": [
        "# Plot confusion matrix\n",
        "plt.figure(figsize=(8, 6))\n",
        "sns.heatmap(\n",
        "    test_metrics['confusion_matrix'],\n",
        "    annot=True,\n",
        "    fmt='d',\n",
        "    cmap='Blues',\n",
        "    xticklabels=['Not Sarcastic', 'Sarcastic'],\n",
        "    yticklabels=['Not Sarcastic', 'Sarcastic']\n",
        ")\n",
        "plt.title('Confusion Matrix')\n",
        "plt.xlabel('Predicted Label')\n",
        "plt.ylabel('True Label')\n",
        "plt.tight_layout()\n",
        "plt.savefig('confusion_matrix.png')\n",
        "plt.show()"
      ],
      "metadata": {
        "colab": {
          "base_uri": "https://localhost:8080/",
          "height": 607
        },
        "id": "WYnB6I-9KVAN",
        "outputId": "7c2bcc8b-4c09-4a0b-e3de-76b51f81f4a0"
      },
      "execution_count": 71,
      "outputs": [
        {
          "output_type": "display_data",
          "data": {
            "text/plain": [
              "<Figure size 800x600 with 2 Axes>"
            ],
            "image/png": "[encoded data removed]"
          },
          "metadata": {}
        }
      ]
    },
    {
      "cell_type": "code",
      "source": [
        "# Example predictions\n",
        "def predict_sarcasm(headline, model, word_to_idx, max_len=30):\n",
        "    model.eval()\n",
        "    processed_headline = preprocess_text(headline)\n",
        "    sequence = text_to_sequence(processed_headline, word_to_idx, max_len)\n",
        "    tensor = torch.tensor([sequence], dtype=torch.long).to(device)\n",
        "\n",
        "    with torch.no_grad():\n",
        "        prediction = model(tensor).squeeze(1)\n",
        "        probability = torch.sigmoid(prediction).item()\n",
        "\n",
        "    return probability"
      ],
      "metadata": {
        "id": "FqTqv9liKadm"
      },
      "execution_count": 72,
      "outputs": []
    },
    {
      "cell_type": "code",
      "source": [
        "# Test with some examples\n",
        "example_headlines = [\n",
        "    \"former versace store clerk sues over secret 'black code' for minority shoppers\",\n",
        "    \"mom starting to fear son's web series closest thing she will have to grandchild\",\n",
        "    \"top snake handler leaves sinking huckabee campaign\"\n",
        "]\n",
        "\n",
        "print(\"\\nExample predictions:\")\n",
        "for headline in example_headlines:\n",
        "    prob = predict_sarcasm(headline, final_model, word_to_idx)\n",
        "    prediction = \"Sarcastic\" if prob > 0.5 else \"Not Sarcastic\"\n",
        "    print(f\"Headline: {headline}\")\n",
        "    print(f\"Prediction: {prediction} (probability: {prob:.4f})\")\n",
        "    print(\"-\" * 50)"
      ],
      "metadata": {
        "colab": {
          "base_uri": "https://localhost:8080/"
        },
        "id": "CGN7NMuJKcQ1",
        "outputId": "4f3bbdb9-d369-489f-f3d5-baa2dabbc198"
      },
      "execution_count": 73,
      "outputs": [
        {
          "output_type": "stream",
          "name": "stdout",
          "text": [
            "\n",
            "Example predictions:\n",
            "Headline: former versace store clerk sues over secret 'black code' for minority shoppers\n",
            "Prediction: Not Sarcastic (probability: 0.0477)\n",
            "--------------------------------------------------\n",
            "Headline: mom starting to fear son's web series closest thing she will have to grandchild\n",
            "Prediction: Sarcastic (probability: 0.9081)\n",
            "--------------------------------------------------\n",
            "Headline: top snake handler leaves sinking huckabee campaign\n",
            "Prediction: Sarcastic (probability: 0.5859)\n",
            "--------------------------------------------------\n"
          ]
        }
      ]
    }
  ]
}