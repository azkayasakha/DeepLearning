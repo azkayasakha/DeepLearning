{
  "nbformat": 4,
  "nbformat_minor": 0,
  "metadata": {
    "colab": {
      "provenance": [],
      "gpuType": "T4"
    },
    "kernelspec": {
      "name": "python3",
      "display_name": "Python 3"
    },
    "language_info": {
      "name": "python"
    },
    "accelerator": "GPU"
  },
  "cells": [
    {
      "cell_type": "code",
      "source": [
        "import numpy as np\n",
        "import pandas as pd\n",
        "import torch\n",
        "import torch.nn as nn\n",
        "import torch.optim as optim\n",
        "from torch.utils.data import Dataset, DataLoader\n",
        "from sklearn.model_selection import train_test_split\n",
        "from sklearn.metrics import accuracy_score, precision_score, recall_score, f1_score, roc_auc_score, confusion_matrix\n",
        "import matplotlib.pyplot as plt\n",
        "import seaborn as sns\n",
        "import random\n",
        "import time\n",
        "from collections import Counter"
      ],
      "metadata": {
        "id": "o42AM0yK9LKU"
      },
      "execution_count": 1,
      "outputs": []
    },
    {
      "cell_type": "code",
      "source": [
        "# Set seeds for reproducibility\n",
        "def set_seed(seed=42):\n",
        "    random.seed(seed)\n",
        "    np.random.seed(seed)\n",
        "    torch.manual_seed(seed)\n",
        "    torch.cuda.manual_seed_all(seed)\n",
        "    torch.backends.cudnn.deterministic = True\n",
        "    torch.backends.cudnn.benchmark = False\n",
        "\n",
        "set_seed()"
      ],
      "metadata": {
        "id": "sxQGRLK99NXd"
      },
      "execution_count": 2,
      "outputs": []
    },
    {
      "cell_type": "code",
      "source": [
        "# Check if CUDA is available\n",
        "device = torch.device(\"cuda\" if torch.cuda.is_available() else \"cpu\")\n",
        "print(f\"Using device: {device}\")"
      ],
      "metadata": {
        "colab": {
          "base_uri": "https://localhost:8080/"
        },
        "id": "LB5Sc0gK9Pfl",
        "outputId": "3eef83ed-de52-4eec-c528-4cc8cfdcd883"
      },
      "execution_count": 3,
      "outputs": [
        {
          "output_type": "stream",
          "name": "stdout",
          "text": [
            "Using device: cuda\n"
          ]
        }
      ]
    },
    {
      "cell_type": "code",
      "source": [
        "# Load the data\n",
        "json_data = []\n",
        "with open('DeteksiSarkasme.json', 'r') as f:\n",
        "    for line in f:\n",
        "        if line.strip():\n",
        "            json_data.append(eval(line))"
      ],
      "metadata": {
        "id": "N_xd6Hvo9RI4"
      },
      "execution_count": 4,
      "outputs": []
    },
    {
      "cell_type": "code",
      "source": [
        "# Convert to pandas DataFrame\n",
        "df = pd.DataFrame(json_data)\n",
        "print(f\"Dataset shape: {df.shape}\")\n",
        "print(df.head())"
      ],
      "metadata": {
        "colab": {
          "base_uri": "https://localhost:8080/"
        },
        "id": "7nJC6JgR9Tg0",
        "outputId": "db9a61d0-2a8b-4709-ff0b-483756c1dcf7"
      },
      "execution_count": 5,
      "outputs": [
        {
          "output_type": "stream",
          "name": "stdout",
          "text": [
            "Dataset shape: (26709, 3)\n",
            "                                        article_link  \\\n",
            "0  https://www.huffingtonpost.com/entry/versace-b...   \n",
            "1  https://www.huffingtonpost.com/entry/roseanne-...   \n",
            "2  https://local.theonion.com/mom-starting-to-fea...   \n",
            "3  https://politics.theonion.com/boehner-just-wan...   \n",
            "4  https://www.huffingtonpost.com/entry/jk-rowlin...   \n",
            "\n",
            "                                            headline  is_sarcastic  \n",
            "0  former versace store clerk sues over secret 'b...             0  \n",
            "1  the 'roseanne' revival catches up to our thorn...             0  \n",
            "2  mom starting to fear son's web series closest ...             1  \n",
            "3  boehner just wants wife to listen, not come up...             1  \n",
            "4  j.k. rowling wishes snape happy birthday in th...             0  \n"
          ]
        }
      ]
    },
    {
      "cell_type": "code",
      "source": [
        "# Count the classes\n",
        "class_counts = df['is_sarcastic'].value_counts()\n",
        "print(\"\\nClass distribution:\")\n",
        "print(f\"Non-sarcastic headlines: {class_counts[0]}\")\n",
        "print(f\"Sarcastic headlines: {class_counts[1]}\")"
      ],
      "metadata": {
        "colab": {
          "base_uri": "https://localhost:8080/"
        },
        "id": "rY7YgNEB9VgT",
        "outputId": "b0291b8c-cac9-4d8b-9f78-5d757467be4f"
      },
      "execution_count": 6,
      "outputs": [
        {
          "output_type": "stream",
          "name": "stdout",
          "text": [
            "\n",
            "Class distribution:\n",
            "Non-sarcastic headlines: 14985\n",
            "Sarcastic headlines: 11724\n"
          ]
        }
      ]
    },
    {
      "cell_type": "code",
      "source": [
        "# Basic text preprocessing\n",
        "def preprocess_text(text):\n",
        "    text = text.lower()\n",
        "    # Remove any extra whitespace\n",
        "    text = ' '.join(text.split())\n",
        "    return text\n",
        "\n",
        "df['headline'] = df['headline'].apply(preprocess_text)"
      ],
      "metadata": {
        "id": "uBFExSTs9XYj"
      },
      "execution_count": 7,
      "outputs": []
    },
    {
      "cell_type": "code",
      "source": [
        "# Tokenization and vocabulary building\n",
        "def build_vocab(texts, max_words=10000):\n",
        "    words = []\n",
        "    for text in texts:\n",
        "        words.extend(text.split())\n",
        "\n",
        "    counter = Counter(words)\n",
        "    vocab = ['<PAD>', '<UNK>']\n",
        "    vocab.extend([word for word, count in counter.most_common(max_words-2)])\n",
        "    word_to_idx = {word: idx for idx, word in enumerate(vocab)}\n",
        "\n",
        "    return vocab, word_to_idx\n",
        "\n",
        "vocab, word_to_idx = build_vocab(df['headline'])\n",
        "print(f\"\\nVocabulary size: {len(vocab)}\")"
      ],
      "metadata": {
        "colab": {
          "base_uri": "https://localhost:8080/"
        },
        "id": "dlkgKqE09Znr",
        "outputId": "7f1f3b87-60f0-425e-9eae-ab55434fb467"
      },
      "execution_count": 8,
      "outputs": [
        {
          "output_type": "stream",
          "name": "stdout",
          "text": [
            "\n",
            "Vocabulary size: 10000\n"
          ]
        }
      ]
    },
    {
      "cell_type": "code",
      "source": [
        "# Convert text to sequences\n",
        "def text_to_sequence(text, word_to_idx, max_len=30):\n",
        "    words = text.split()\n",
        "    sequence = [word_to_idx.get(word, word_to_idx['<UNK>']) for word in words]\n",
        "\n",
        "    # Pad or truncate\n",
        "    if len(sequence) < max_len:\n",
        "        sequence = sequence + [word_to_idx['<PAD>']] * (max_len - len(sequence))\n",
        "    else:\n",
        "        sequence = sequence[:max_len]\n",
        "\n",
        "    return sequence"
      ],
      "metadata": {
        "id": "MCrP5qKw9bfL"
      },
      "execution_count": 9,
      "outputs": []
    },
    {
      "cell_type": "code",
      "source": [
        "# Create dataset\n",
        "class SarcasmDataset(Dataset):\n",
        "    def __init__(self, headlines, labels):\n",
        "        self.headlines = headlines\n",
        "        self.labels = labels\n",
        "\n",
        "    def __len__(self):\n",
        "        return len(self.headlines)\n",
        "\n",
        "    def __getitem__(self, idx):\n",
        "        headline = torch.tensor(self.headlines[idx], dtype=torch.long)\n",
        "        label = torch.tensor(self.labels[idx], dtype=torch.float)\n",
        "        return headline, label"
      ],
      "metadata": {
        "id": "8iHwWY4c9d_i"
      },
      "execution_count": 10,
      "outputs": []
    },
    {
      "cell_type": "code",
      "source": [
        "# Convert all headlines to sequences\n",
        "max_len = 30\n",
        "sequences = df['headline'].apply(lambda x: text_to_sequence(x, word_to_idx, max_len)).tolist()"
      ],
      "metadata": {
        "id": "oi7z0lvI9gBV"
      },
      "execution_count": 11,
      "outputs": []
    },
    {
      "cell_type": "code",
      "source": [
        "# Split into train, validation, and test sets\n",
        "X_train_val, X_test, y_train_val, y_test = train_test_split(\n",
        "    sequences, df['is_sarcastic'].values, test_size=0.2, random_state=42, stratify=df['is_sarcastic'].values\n",
        ")\n",
        "\n",
        "X_train, X_val, y_train, y_val = train_test_split(\n",
        "    X_train_val, y_train_val, test_size=0.25, random_state=42, stratify=y_train_val\n",
        ")\n",
        "\n",
        "print(f\"Train set: {len(X_train)} samples\")\n",
        "print(f\"Validation set: {len(X_val)} samples\")\n",
        "print(f\"Test set: {len(X_test)} samples\")"
      ],
      "metadata": {
        "colab": {
          "base_uri": "https://localhost:8080/"
        },
        "id": "MytzPKII9h66",
        "outputId": "c8e56539-16b3-4eed-df0b-e91c84279873"
      },
      "execution_count": 12,
      "outputs": [
        {
          "output_type": "stream",
          "name": "stdout",
          "text": [
            "Train set: 16025 samples\n",
            "Validation set: 5342 samples\n",
            "Test set: 5342 samples\n"
          ]
        }
      ]
    },
    {
      "cell_type": "code",
      "source": [
        "# Create datasets and dataloaders\n",
        "train_dataset = SarcasmDataset(X_train, y_train)\n",
        "val_dataset = SarcasmDataset(X_val, y_val)\n",
        "test_dataset = SarcasmDataset(X_test, y_test)"
      ],
      "metadata": {
        "id": "NyExpfeV9kU0"
      },
      "execution_count": 13,
      "outputs": []
    },
    {
      "cell_type": "code",
      "source": [
        "# Define our Deep RNN model\n",
        "class DeepRNN(nn.Module):\n",
        "    def __init__(self, vocab_size, embedding_dim, hidden_dim, output_dim, n_layers,\n",
        "                 dropout, pad_idx):\n",
        "        super().__init__()\n",
        "\n",
        "        self.embedding = nn.Embedding(vocab_size, embedding_dim, padding_idx=pad_idx)\n",
        "\n",
        "        # Deep LSTM with multiple stacked layers\n",
        "        self.rnn = nn.LSTM(embedding_dim,\n",
        "                           hidden_dim,\n",
        "                           num_layers=n_layers,\n",
        "                           bidirectional=False,  # Not bidirectional (this is the key change)\n",
        "                           dropout=dropout if n_layers > 1 else 0,\n",
        "                           batch_first=True)\n",
        "\n",
        "        # No multiplier needed since we're not using bidirectional layers\n",
        "        self.fc = nn.Linear(hidden_dim, output_dim)\n",
        "\n",
        "        self.dropout = nn.Dropout(dropout)\n",
        "\n",
        "    def forward(self, text):\n",
        "        # text: [batch size, sent len]\n",
        "\n",
        "        embedded = self.dropout(self.embedding(text))\n",
        "        # embedded: [batch size, sent len, emb dim]\n",
        "\n",
        "        # LSTM\n",
        "        output, (hidden, cell) = self.rnn(embedded)\n",
        "        # output: [batch size, sent len, hid dim]\n",
        "        # hidden: [n layers, batch size, hid dim]\n",
        "\n",
        "        # Use the final hidden state from the last layer\n",
        "        hidden = hidden[-1, :, :]\n",
        "        # hidden: [batch size, hid dim]\n",
        "\n",
        "        return self.fc(self.dropout(hidden))"
      ],
      "metadata": {
        "id": "uBn0YPRb9m9l"
      },
      "execution_count": 14,
      "outputs": []
    },
    {
      "cell_type": "code",
      "source": [
        "# Modified hyperparameter combinations for deep RNN\n",
        "deep_rnn_hyperparameters = [\n",
        "    {'embedding_dim': 100, 'hidden_dim': 128, 'n_layers': 2, 'dropout': 0.3, 'batch_size': 32, 'learning_rate': 0.001},\n",
        "    {'embedding_dim': 200, 'hidden_dim': 128, 'n_layers': 2, 'dropout': 0.3, 'batch_size': 32, 'learning_rate': 0.001},\n",
        "    {'embedding_dim': 300, 'hidden_dim': 128, 'n_layers': 2, 'dropout': 0.3, 'batch_size': 32, 'learning_rate': 0.001},\n",
        "    {'embedding_dim': 100, 'hidden_dim': 256, 'n_layers': 2, 'dropout': 0.3, 'batch_size': 32, 'learning_rate': 0.001},\n",
        "    {'embedding_dim': 100, 'hidden_dim': 128, 'n_layers': 3, 'dropout': 0.3, 'batch_size': 32, 'learning_rate': 0.001},\n",
        "    {'embedding_dim': 100, 'hidden_dim': 128, 'n_layers': 4, 'dropout': 0.3, 'batch_size': 32, 'learning_rate': 0.001},\n",
        "    {'embedding_dim': 100, 'hidden_dim': 128, 'n_layers': 2, 'dropout': 0.5, 'batch_size': 32, 'learning_rate': 0.001},\n",
        "    {'embedding_dim': 100, 'hidden_dim': 128, 'n_layers': 2, 'dropout': 0.3, 'batch_size': 64, 'learning_rate': 0.001},\n",
        "    {'embedding_dim': 100, 'hidden_dim': 128, 'n_layers': 2, 'dropout': 0.3, 'batch_size': 32, 'learning_rate': 0.01},\n",
        "    {'embedding_dim': 200, 'hidden_dim': 256, 'n_layers': 3, 'dropout': 0.5, 'batch_size': 64, 'learning_rate': 0.001}\n",
        "]"
      ],
      "metadata": {
        "id": "aann0KxM9pVc"
      },
      "execution_count": 15,
      "outputs": []
    },
    {
      "cell_type": "code",
      "source": [
        "# Function for training and evaluation\n",
        "def train_model(model, train_loader, val_loader, optimizer, criterion, epochs=10):\n",
        "    best_val_loss = float('inf')\n",
        "    train_losses = []\n",
        "    val_losses = []\n",
        "    train_acc = []\n",
        "    val_acc = []\n",
        "\n",
        "    for epoch in range(epochs):\n",
        "        start_time = time.time()\n",
        "\n",
        "        # Training\n",
        "        model.train()\n",
        "        epoch_loss = 0\n",
        "        epoch_acc = 0\n",
        "\n",
        "        for batch in train_loader:\n",
        "            text, labels = batch\n",
        "            text, labels = text.to(device), labels.to(device)\n",
        "\n",
        "            optimizer.zero_grad()\n",
        "\n",
        "            predictions = model(text).squeeze(1)\n",
        "\n",
        "            loss = criterion(predictions, labels)\n",
        "\n",
        "            loss.backward()\n",
        "            optimizer.step()\n",
        "\n",
        "            epoch_loss += loss.item()\n",
        "\n",
        "            predicted_classes = torch.round(torch.sigmoid(predictions))\n",
        "            correct = (predicted_classes == labels).float().sum()\n",
        "            epoch_acc += correct.item()\n",
        "\n",
        "        # Calculate training metrics\n",
        "        train_loss = epoch_loss / len(train_loader)\n",
        "        train_accuracy = epoch_acc / len(train_loader.dataset)\n",
        "        train_losses.append(train_loss)\n",
        "        train_acc.append(train_accuracy)\n",
        "\n",
        "        # Validation\n",
        "        model.eval()\n",
        "        epoch_val_loss = 0\n",
        "        epoch_val_acc = 0\n",
        "\n",
        "        with torch.no_grad():\n",
        "            for batch in val_loader:\n",
        "                text, labels = batch\n",
        "                text, labels = text.to(device), labels.to(device)\n",
        "\n",
        "                predictions = model(text).squeeze(1)\n",
        "\n",
        "                loss = criterion(predictions, labels)\n",
        "\n",
        "                epoch_val_loss += loss.item()\n",
        "\n",
        "                predicted_classes = torch.round(torch.sigmoid(predictions))\n",
        "                correct = (predicted_classes == labels).float().sum()\n",
        "                epoch_val_acc += correct.item()\n",
        "\n",
        "        # Calculate validation metrics\n",
        "        val_loss = epoch_val_loss / len(val_loader)\n",
        "        val_accuracy = epoch_val_acc / len(val_loader.dataset)\n",
        "        val_losses.append(val_loss)\n",
        "        val_acc.append(val_accuracy)\n",
        "\n",
        "        end_time = time.time()\n",
        "\n",
        "        print(f'Epoch: {epoch+1}/{epochs}')\n",
        "        print(f'Time: {end_time - start_time:.2f}s')\n",
        "        print(f'Train Loss: {train_loss:.4f} | Train Acc: {train_accuracy:.4f}')\n",
        "        print(f'Val Loss: {val_loss:.4f} | Val Acc: {val_accuracy:.4f}')\n",
        "        print('-' * 50)\n",
        "\n",
        "        # Save the best model\n",
        "        if val_loss < best_val_loss:\n",
        "            best_val_loss = val_loss\n",
        "            torch.save(model.state_dict(), 'best-deep-rnn-model.pt')\n",
        "\n",
        "    return train_losses, val_losses, train_acc, val_acc"
      ],
      "metadata": {
        "id": "pnxo8vG19rvr"
      },
      "execution_count": 16,
      "outputs": []
    },
    {
      "cell_type": "code",
      "source": [
        "# Function for evaluation\n",
        "def evaluate_model(model, test_loader, criterion):\n",
        "    model.eval()\n",
        "\n",
        "    all_predictions = []\n",
        "    all_labels = []\n",
        "    test_loss = 0\n",
        "\n",
        "    with torch.no_grad():\n",
        "        for batch in test_loader:\n",
        "            text, labels = batch\n",
        "            text, labels = text.to(device), labels.to(device)\n",
        "\n",
        "            predictions = model(text).squeeze(1)\n",
        "\n",
        "            loss = criterion(predictions, labels)\n",
        "            test_loss += loss.item()\n",
        "\n",
        "            # Get probabilities and predictions\n",
        "            probs = torch.sigmoid(predictions)\n",
        "            predicted_classes = torch.round(probs)\n",
        "\n",
        "            all_predictions.extend(predicted_classes.cpu().numpy())\n",
        "            all_labels.extend(labels.cpu().numpy())\n",
        "\n",
        "    # Calculate metrics\n",
        "    acc = accuracy_score(all_labels, all_predictions)\n",
        "    prec = precision_score(all_labels, all_predictions)\n",
        "    rec = recall_score(all_labels, all_predictions)\n",
        "    f1 = f1_score(all_labels, all_predictions)\n",
        "\n",
        "    # ROC AUC might give warning if there's only one class in predictions\n",
        "    try:\n",
        "        auc = roc_auc_score(all_labels, all_predictions)\n",
        "    except:\n",
        "        auc = 0\n",
        "\n",
        "    # Confusion matrix\n",
        "    cm = confusion_matrix(all_labels, all_predictions)\n",
        "\n",
        "    metrics = {\n",
        "        'accuracy': acc,\n",
        "        'precision': prec,\n",
        "        'recall': rec,\n",
        "        'f1_score': f1,\n",
        "        'auc': auc,\n",
        "        'confusion_matrix': cm,\n",
        "        'test_loss': test_loss / len(test_loader)\n",
        "    }\n",
        "\n",
        "    return metrics"
      ],
      "metadata": {
        "id": "DYD7xydx9ufV"
      },
      "execution_count": 17,
      "outputs": []
    },
    {
      "cell_type": "code",
      "source": [
        "# Limited hyperparameter tuning for Deep RNN\n",
        "def deep_rnn_hyperparameter_tuning():\n",
        "    best_val_loss = float('inf')\n",
        "    best_params = {}\n",
        "    results = []\n",
        "\n",
        "    # Test each hyperparameter combination\n",
        "    for i, params in enumerate(deep_rnn_hyperparameters):\n",
        "        print(f\"\\nTesting hyperparameter combination {i+1}/{len(deep_rnn_hyperparameters)}:\")\n",
        "        print(f\"Parameters: {params}\")\n",
        "\n",
        "        # Create data loaders\n",
        "        train_loader = DataLoader(train_dataset, batch_size=params['batch_size'], shuffle=True)\n",
        "        val_loader = DataLoader(val_dataset, batch_size=params['batch_size'])\n",
        "\n",
        "        # Initialize model with Deep RNN\n",
        "        model = DeepRNN(\n",
        "            vocab_size=len(vocab),\n",
        "            embedding_dim=params['embedding_dim'],\n",
        "            hidden_dim=params['hidden_dim'],\n",
        "            output_dim=1,\n",
        "            n_layers=params['n_layers'],\n",
        "            dropout=params['dropout'],\n",
        "            pad_idx=word_to_idx['<PAD>']\n",
        "        ).to(device)\n",
        "\n",
        "        optimizer = optim.Adam(model.parameters(), lr=params['learning_rate'])\n",
        "        criterion = nn.BCEWithLogitsLoss()\n",
        "\n",
        "        # Train for a small number of epochs for hyperparameter tuning\n",
        "        _, val_losses, _, val_acc = train_model(\n",
        "            model, train_loader, val_loader, optimizer, criterion, epochs=3\n",
        "        )\n",
        "\n",
        "        # Get the final validation loss\n",
        "        final_val_loss = val_losses[-1]\n",
        "\n",
        "        # Record results\n",
        "        result = params.copy()\n",
        "        result['val_loss'] = final_val_loss\n",
        "        result['val_accuracy'] = val_acc[-1]\n",
        "        results.append(result)\n",
        "\n",
        "        # Check if this is the best model\n",
        "        if final_val_loss < best_val_loss:\n",
        "            best_val_loss = final_val_loss\n",
        "            best_params = params.copy()\n",
        "\n",
        "    return best_params, results"
      ],
      "metadata": {
        "id": "qcZaXjw79w4v"
      },
      "execution_count": 18,
      "outputs": []
    },
    {
      "cell_type": "code",
      "source": [
        "# Run hyperparameter tuning for Deep RNN\n",
        "print(\"\\nStarting Deep RNN hyperparameter tuning...\")\n",
        "best_params, tuning_results = deep_rnn_hyperparameter_tuning()\n",
        "print(f\"Best hyperparameters: {best_params}\")"
      ],
      "metadata": {
        "colab": {
          "base_uri": "https://localhost:8080/"
        },
        "id": "sg3o6i459yu0",
        "outputId": "6bef1126-240d-4748-b9a9-30f5ec1b3ce7"
      },
      "execution_count": 19,
      "outputs": [
        {
          "output_type": "stream",
          "name": "stdout",
          "text": [
            "\n",
            "Starting Deep RNN hyperparameter tuning...\n",
            "\n",
            "Testing hyperparameter combination 1/10:\n",
            "Parameters: {'embedding_dim': 100, 'hidden_dim': 128, 'n_layers': 2, 'dropout': 0.3, 'batch_size': 32, 'learning_rate': 0.001}\n",
            "Epoch: 1/3\n",
            "Time: 3.74s\n",
            "Train Loss: 0.6796 | Train Acc: 0.5681\n",
            "Val Loss: 0.6118 | Val Acc: 0.6775\n",
            "--------------------------------------------------\n",
            "Epoch: 2/3\n",
            "Time: 2.06s\n",
            "Train Loss: 0.5884 | Train Acc: 0.6904\n",
            "Val Loss: 0.5383 | Val Acc: 0.7145\n",
            "--------------------------------------------------\n",
            "Epoch: 3/3\n",
            "Time: 2.62s\n",
            "Train Loss: 0.5452 | Train Acc: 0.7377\n",
            "Val Loss: 0.5008 | Val Acc: 0.7673\n",
            "--------------------------------------------------\n",
            "\n",
            "Testing hyperparameter combination 2/10:\n",
            "Parameters: {'embedding_dim': 200, 'hidden_dim': 128, 'n_layers': 2, 'dropout': 0.3, 'batch_size': 32, 'learning_rate': 0.001}\n",
            "Epoch: 1/3\n",
            "Time: 2.24s\n",
            "Train Loss: 0.6668 | Train Acc: 0.6057\n",
            "Val Loss: 0.6509 | Val Acc: 0.6466\n",
            "--------------------------------------------------\n",
            "Epoch: 2/3\n",
            "Time: 4.21s\n",
            "Train Loss: 0.6494 | Train Acc: 0.6493\n",
            "Val Loss: 0.6497 | Val Acc: 0.6460\n",
            "--------------------------------------------------\n",
            "Epoch: 3/3\n",
            "Time: 2.48s\n",
            "Train Loss: 0.6542 | Train Acc: 0.6384\n",
            "Val Loss: 0.6640 | Val Acc: 0.6183\n",
            "--------------------------------------------------\n",
            "\n",
            "Testing hyperparameter combination 3/10:\n",
            "Parameters: {'embedding_dim': 300, 'hidden_dim': 128, 'n_layers': 2, 'dropout': 0.3, 'batch_size': 32, 'learning_rate': 0.001}\n",
            "Epoch: 1/3\n",
            "Time: 3.04s\n",
            "Train Loss: 0.6618 | Train Acc: 0.6014\n",
            "Val Loss: 0.6601 | Val Acc: 0.6544\n",
            "--------------------------------------------------\n",
            "Epoch: 2/3\n",
            "Time: 2.95s\n",
            "Train Loss: 0.6490 | Train Acc: 0.6517\n",
            "Val Loss: 0.6391 | Val Acc: 0.6623\n",
            "--------------------------------------------------\n",
            "Epoch: 3/3\n",
            "Time: 2.75s\n",
            "Train Loss: 0.6395 | Train Acc: 0.6645\n",
            "Val Loss: 0.6319 | Val Acc: 0.6739\n",
            "--------------------------------------------------\n",
            "\n",
            "Testing hyperparameter combination 4/10:\n",
            "Parameters: {'embedding_dim': 100, 'hidden_dim': 256, 'n_layers': 2, 'dropout': 0.3, 'batch_size': 32, 'learning_rate': 0.001}\n",
            "Epoch: 1/3\n",
            "Time: 3.90s\n",
            "Train Loss: 0.6855 | Train Acc: 0.5629\n",
            "Val Loss: 0.6873 | Val Acc: 0.5610\n",
            "--------------------------------------------------\n",
            "Epoch: 2/3\n",
            "Time: 4.31s\n",
            "Train Loss: 0.6740 | Train Acc: 0.5679\n",
            "Val Loss: 0.6559 | Val Acc: 0.5610\n",
            "--------------------------------------------------\n",
            "Epoch: 3/3\n",
            "Time: 3.68s\n",
            "Train Loss: 0.6456 | Train Acc: 0.6099\n",
            "Val Loss: 0.6306 | Val Acc: 0.6299\n",
            "--------------------------------------------------\n",
            "\n",
            "Testing hyperparameter combination 5/10:\n",
            "Parameters: {'embedding_dim': 100, 'hidden_dim': 128, 'n_layers': 3, 'dropout': 0.3, 'batch_size': 32, 'learning_rate': 0.001}\n",
            "Epoch: 1/3\n",
            "Time: 2.32s\n",
            "Train Loss: 0.6787 | Train Acc: 0.5803\n",
            "Val Loss: 0.6693 | Val Acc: 0.6162\n",
            "--------------------------------------------------\n",
            "Epoch: 2/3\n",
            "Time: 3.49s\n",
            "Train Loss: 0.6706 | Train Acc: 0.6092\n",
            "Val Loss: 0.6707 | Val Acc: 0.6073\n",
            "--------------------------------------------------\n",
            "Epoch: 3/3\n",
            "Time: 3.49s\n",
            "Train Loss: 0.6649 | Train Acc: 0.6200\n",
            "Val Loss: 0.6637 | Val Acc: 0.6207\n",
            "--------------------------------------------------\n",
            "\n",
            "Testing hyperparameter combination 6/10:\n",
            "Parameters: {'embedding_dim': 100, 'hidden_dim': 128, 'n_layers': 4, 'dropout': 0.3, 'batch_size': 32, 'learning_rate': 0.001}\n",
            "Epoch: 1/3\n",
            "Time: 2.53s\n",
            "Train Loss: 0.6803 | Train Acc: 0.5778\n",
            "Val Loss: 0.6576 | Val Acc: 0.6372\n",
            "--------------------------------------------------\n",
            "Epoch: 2/3\n",
            "Time: 3.29s\n",
            "Train Loss: 0.6359 | Train Acc: 0.6516\n",
            "Val Loss: 0.5985 | Val Acc: 0.7003\n",
            "--------------------------------------------------\n",
            "Epoch: 3/3\n",
            "Time: 2.67s\n",
            "Train Loss: 0.5555 | Train Acc: 0.7169\n",
            "Val Loss: 0.4931 | Val Acc: 0.7576\n",
            "--------------------------------------------------\n",
            "\n",
            "Testing hyperparameter combination 7/10:\n",
            "Parameters: {'embedding_dim': 100, 'hidden_dim': 128, 'n_layers': 2, 'dropout': 0.5, 'batch_size': 32, 'learning_rate': 0.001}\n",
            "Epoch: 1/3\n",
            "Time: 5.01s\n",
            "Train Loss: 0.6863 | Train Acc: 0.5626\n",
            "Val Loss: 0.6859 | Val Acc: 0.5610\n",
            "--------------------------------------------------\n",
            "Epoch: 2/3\n",
            "Time: 3.44s\n",
            "Train Loss: 0.6484 | Train Acc: 0.6298\n",
            "Val Loss: 0.6380 | Val Acc: 0.6623\n",
            "--------------------------------------------------\n",
            "Epoch: 3/3\n",
            "Time: 2.24s\n",
            "Train Loss: 0.6438 | Train Acc: 0.6346\n",
            "Val Loss: 0.6082 | Val Acc: 0.6235\n",
            "--------------------------------------------------\n",
            "\n",
            "Testing hyperparameter combination 8/10:\n",
            "Parameters: {'embedding_dim': 100, 'hidden_dim': 128, 'n_layers': 2, 'dropout': 0.3, 'batch_size': 64, 'learning_rate': 0.001}\n",
            "Epoch: 1/3\n",
            "Time: 1.99s\n",
            "Train Loss: 0.6808 | Train Acc: 0.5669\n",
            "Val Loss: 0.6522 | Val Acc: 0.5921\n",
            "--------------------------------------------------\n",
            "Epoch: 2/3\n",
            "Time: 3.03s\n",
            "Train Loss: 0.6587 | Train Acc: 0.5643\n",
            "Val Loss: 0.6387 | Val Acc: 0.6209\n",
            "--------------------------------------------------\n",
            "Epoch: 3/3\n",
            "Time: 2.18s\n",
            "Train Loss: 0.6358 | Train Acc: 0.6085\n",
            "Val Loss: 0.6268 | Val Acc: 0.6479\n",
            "--------------------------------------------------\n",
            "\n",
            "Testing hyperparameter combination 9/10:\n",
            "Parameters: {'embedding_dim': 100, 'hidden_dim': 128, 'n_layers': 2, 'dropout': 0.3, 'batch_size': 32, 'learning_rate': 0.01}\n",
            "Epoch: 1/3\n",
            "Time: 3.07s\n",
            "Train Loss: 0.6871 | Train Acc: 0.5608\n",
            "Val Loss: 0.6857 | Val Acc: 0.5610\n",
            "--------------------------------------------------\n",
            "Epoch: 2/3\n",
            "Time: 3.59s\n",
            "Train Loss: 0.6861 | Train Acc: 0.5611\n",
            "Val Loss: 0.6857 | Val Acc: 0.5610\n",
            "--------------------------------------------------\n",
            "Epoch: 3/3\n",
            "Time: 2.62s\n",
            "Train Loss: 0.6859 | Train Acc: 0.5607\n",
            "Val Loss: 0.6858 | Val Acc: 0.5610\n",
            "--------------------------------------------------\n",
            "\n",
            "Testing hyperparameter combination 10/10:\n",
            "Parameters: {'embedding_dim': 200, 'hidden_dim': 256, 'n_layers': 3, 'dropout': 0.5, 'batch_size': 64, 'learning_rate': 0.001}\n",
            "Epoch: 1/3\n",
            "Time: 2.86s\n",
            "Train Loss: 0.6706 | Train Acc: 0.5866\n",
            "Val Loss: 0.6244 | Val Acc: 0.6455\n",
            "--------------------------------------------------\n",
            "Epoch: 2/3\n",
            "Time: 3.56s\n",
            "Train Loss: 0.6315 | Train Acc: 0.6565\n",
            "Val Loss: 0.6027 | Val Acc: 0.6687\n",
            "--------------------------------------------------\n",
            "Epoch: 3/3\n",
            "Time: 3.77s\n",
            "Train Loss: 0.6082 | Train Acc: 0.6575\n",
            "Val Loss: 0.5936 | Val Acc: 0.6617\n",
            "--------------------------------------------------\n",
            "Best hyperparameters: {'embedding_dim': 100, 'hidden_dim': 128, 'n_layers': 4, 'dropout': 0.3, 'batch_size': 32, 'learning_rate': 0.001}\n"
          ]
        }
      ]
    },
    {
      "cell_type": "code",
      "source": [
        "# Show tuning results sorted by validation loss\n",
        "df_results = pd.DataFrame(tuning_results)\n",
        "print(\"\\nHyperparameter tuning results:\")\n",
        "print(df_results.sort_values('val_loss').head(10))"
      ],
      "metadata": {
        "colab": {
          "base_uri": "https://localhost:8080/"
        },
        "id": "GN9RNaG6903N",
        "outputId": "f30099b2-0328-4721-e96d-28c35ca288d9"
      },
      "execution_count": 20,
      "outputs": [
        {
          "output_type": "stream",
          "name": "stdout",
          "text": [
            "\n",
            "Hyperparameter tuning results:\n",
            "   embedding_dim  hidden_dim  n_layers  dropout  batch_size  learning_rate  \\\n",
            "5            100         128         4      0.3          32          0.001   \n",
            "0            100         128         2      0.3          32          0.001   \n",
            "9            200         256         3      0.5          64          0.001   \n",
            "6            100         128         2      0.5          32          0.001   \n",
            "7            100         128         2      0.3          64          0.001   \n",
            "3            100         256         2      0.3          32          0.001   \n",
            "2            300         128         2      0.3          32          0.001   \n",
            "4            100         128         3      0.3          32          0.001   \n",
            "1            200         128         2      0.3          32          0.001   \n",
            "8            100         128         2      0.3          32          0.010   \n",
            "\n",
            "   val_loss  val_accuracy  \n",
            "5  0.493149      0.757581  \n",
            "0  0.500844      0.767316  \n",
            "9  0.593558      0.661737  \n",
            "6  0.608180      0.623549  \n",
            "7  0.626829      0.647885  \n",
            "3  0.630554      0.629914  \n",
            "2  0.631909      0.673905  \n",
            "4  0.663736      0.620741  \n",
            "1  0.664005      0.618308  \n",
            "8  0.685755      0.561026  \n"
          ]
        }
      ]
    },
    {
      "cell_type": "code",
      "source": [
        "# Train the final Deep RNN model with the best hyperparameters\n",
        "print(\"\\nTraining final Deep RNN model with best hyperparameters...\")\n",
        "final_model = DeepRNN(\n",
        "    vocab_size=len(vocab),\n",
        "    embedding_dim=best_params['embedding_dim'],\n",
        "    hidden_dim=best_params['hidden_dim'],\n",
        "    output_dim=1,\n",
        "    n_layers=best_params['n_layers'],\n",
        "    dropout=best_params['dropout'],\n",
        "    pad_idx=word_to_idx['<PAD>']\n",
        ").to(device)\n",
        "\n",
        "final_optimizer = optim.Adam(final_model.parameters(), lr=best_params['learning_rate'])\n",
        "criterion = nn.BCEWithLogitsLoss()"
      ],
      "metadata": {
        "colab": {
          "base_uri": "https://localhost:8080/"
        },
        "id": "NVPFyjAX93hy",
        "outputId": "4093c0fa-d3a5-426e-8cae-87fde1656a13"
      },
      "execution_count": 21,
      "outputs": [
        {
          "output_type": "stream",
          "name": "stdout",
          "text": [
            "\n",
            "Training final Deep RNN model with best hyperparameters...\n"
          ]
        }
      ]
    },
    {
      "cell_type": "code",
      "source": [
        "# Create data loaders with the best batch size\n",
        "train_loader = DataLoader(train_dataset, batch_size=best_params['batch_size'], shuffle=True)\n",
        "val_loader = DataLoader(val_dataset, batch_size=best_params['batch_size'])\n",
        "test_loader = DataLoader(test_dataset, batch_size=best_params['batch_size'])"
      ],
      "metadata": {
        "id": "15yanug895uT"
      },
      "execution_count": 22,
      "outputs": []
    },
    {
      "cell_type": "code",
      "source": [
        "# Train the final model\n",
        "train_losses, val_losses, train_acc, val_acc = train_model(\n",
        "    final_model, train_loader, val_loader, final_optimizer, criterion, epochs=10\n",
        ")"
      ],
      "metadata": {
        "colab": {
          "base_uri": "https://localhost:8080/"
        },
        "id": "6J0IsSL997TA",
        "outputId": "34e8b693-540a-47b9-b546-4989b7b7974c"
      },
      "execution_count": 23,
      "outputs": [
        {
          "output_type": "stream",
          "name": "stdout",
          "text": [
            "Epoch: 1/10\n",
            "Time: 2.95s\n",
            "Train Loss: 0.6863 | Train Acc: 0.5589\n",
            "Val Loss: 0.6831 | Val Acc: 0.5610\n",
            "--------------------------------------------------\n",
            "Epoch: 2/10\n",
            "Time: 2.54s\n",
            "Train Loss: 0.6802 | Train Acc: 0.5584\n",
            "Val Loss: 0.6813 | Val Acc: 0.5610\n",
            "--------------------------------------------------\n",
            "Epoch: 3/10\n",
            "Time: 2.59s\n",
            "Train Loss: 0.6767 | Train Acc: 0.5609\n",
            "Val Loss: 0.6809 | Val Acc: 0.5610\n",
            "--------------------------------------------------\n",
            "Epoch: 4/10\n",
            "Time: 2.53s\n",
            "Train Loss: 0.6592 | Train Acc: 0.5953\n",
            "Val Loss: 0.6071 | Val Acc: 0.6541\n",
            "--------------------------------------------------\n",
            "Epoch: 5/10\n",
            "Time: 3.19s\n",
            "Train Loss: 0.5501 | Train Acc: 0.7133\n",
            "Val Loss: 0.4887 | Val Acc: 0.7557\n",
            "--------------------------------------------------\n",
            "Epoch: 6/10\n",
            "Time: 2.56s\n",
            "Train Loss: 0.4474 | Train Acc: 0.7865\n",
            "Val Loss: 0.4355 | Val Acc: 0.7982\n",
            "--------------------------------------------------\n",
            "Epoch: 7/10\n",
            "Time: 2.52s\n",
            "Train Loss: 0.3806 | Train Acc: 0.8310\n",
            "Val Loss: 0.3956 | Val Acc: 0.8242\n",
            "--------------------------------------------------\n",
            "Epoch: 8/10\n",
            "Time: 2.53s\n",
            "Train Loss: 0.3265 | Train Acc: 0.8610\n",
            "Val Loss: 0.3863 | Val Acc: 0.8334\n",
            "--------------------------------------------------\n",
            "Epoch: 9/10\n",
            "Time: 2.80s\n",
            "Train Loss: 0.2902 | Train Acc: 0.8789\n",
            "Val Loss: 0.3847 | Val Acc: 0.8332\n",
            "--------------------------------------------------\n",
            "Epoch: 10/10\n",
            "Time: 2.91s\n",
            "Train Loss: 0.2562 | Train Acc: 0.8921\n",
            "Val Loss: 0.3811 | Val Acc: 0.8416\n",
            "--------------------------------------------------\n"
          ]
        }
      ]
    },
    {
      "cell_type": "code",
      "source": [
        "# Load the best model\n",
        "final_model.load_state_dict(torch.load('best-deep-rnn-model.pt'))"
      ],
      "metadata": {
        "colab": {
          "base_uri": "https://localhost:8080/"
        },
        "id": "3HZHOWir980r",
        "outputId": "a9ca92cc-1b91-4a07-894c-0d76fe12eb55"
      },
      "execution_count": 24,
      "outputs": [
        {
          "output_type": "execute_result",
          "data": {
            "text/plain": [
              "<All keys matched successfully>"
            ]
          },
          "metadata": {},
          "execution_count": 24
        }
      ]
    },
    {
      "cell_type": "code",
      "source": [
        "# Evaluate on test set\n",
        "test_metrics = evaluate_model(final_model, test_loader, criterion)"
      ],
      "metadata": {
        "id": "c42gsacI9-63"
      },
      "execution_count": 25,
      "outputs": []
    },
    {
      "cell_type": "code",
      "source": [
        "# Print metrics\n",
        "print(\"\\nTest Metrics:\")\n",
        "print(f\"Accuracy: {test_metrics['accuracy']:.4f}\")\n",
        "print(f\"Precision: {test_metrics['precision']:.4f}\")\n",
        "print(f\"Recall: {test_metrics['recall']:.4f}\")\n",
        "print(f\"F1 Score: {test_metrics['f1_score']:.4f}\")\n",
        "print(f\"AUC: {test_metrics['auc']:.4f}\")\n",
        "print(f\"Test Loss: {test_metrics['test_loss']:.4f}\")"
      ],
      "metadata": {
        "colab": {
          "base_uri": "https://localhost:8080/"
        },
        "id": "zG2nWFnW-BQa",
        "outputId": "8f053c3e-c1ad-4da2-d21b-e989aeebb4a4"
      },
      "execution_count": 26,
      "outputs": [
        {
          "output_type": "stream",
          "name": "stdout",
          "text": [
            "\n",
            "Test Metrics:\n",
            "Accuracy: 0.8377\n",
            "Precision: 0.8202\n",
            "Recall: 0.8072\n",
            "F1 Score: 0.8137\n",
            "AUC: 0.8344\n",
            "Test Loss: 0.3935\n"
          ]
        }
      ]
    },
    {
      "cell_type": "code",
      "source": [
        "# Plot training and validation loss\n",
        "plt.figure(figsize=(12, 5))\n",
        "plt.subplot(1, 2, 1)\n",
        "plt.plot(train_losses, label='Training loss')\n",
        "plt.plot(val_losses, label='Validation loss')\n",
        "plt.title('Training and Validation Loss')\n",
        "plt.xlabel('Epochs')\n",
        "plt.ylabel('Loss')\n",
        "plt.legend()"
      ],
      "metadata": {
        "colab": {
          "base_uri": "https://localhost:8080/",
          "height": 504
        },
        "id": "Nh2mro4i-DBY",
        "outputId": "e95fddb3-d7b3-4059-99a4-ff5c795056ea"
      },
      "execution_count": 27,
      "outputs": [
        {
          "output_type": "execute_result",
          "data": {
            "text/plain": [
              "<matplotlib.legend.Legend at 0x7ecd894f1510>"
            ]
          },
          "metadata": {},
          "execution_count": 27
        },
        {
          "output_type": "display_data",
          "data": {
            "text/plain": [
              "<Figure size 1200x500 with 1 Axes>"
            ],
            "image/png": "[encoded data removed]"
          },
          "metadata": {}
        }
      ]
    },
    {
      "cell_type": "code",
      "source": [
        "# Plot training and validation accuracy\n",
        "plt.subplot(1, 2, 2)\n",
        "plt.plot(train_acc, label='Training accuracy')\n",
        "plt.plot(val_acc, label='Validation accuracy')\n",
        "plt.title('Training and Validation Accuracy')\n",
        "plt.xlabel('Epochs')\n",
        "plt.ylabel('Accuracy')\n",
        "plt.legend()\n",
        "plt.tight_layout()\n",
        "plt.savefig('deep_rnn_training_curves.png')\n",
        "plt.show()"
      ],
      "metadata": {
        "colab": {
          "base_uri": "https://localhost:8080/",
          "height": 487
        },
        "id": "_cUkB5bD-FtS",
        "outputId": "f3714f81-f468-4898-fd15-3212db58229e"
      },
      "execution_count": 28,
      "outputs": [
        {
          "output_type": "display_data",
          "data": {
            "text/plain": [
              "<Figure size 640x480 with 1 Axes>"
            ],
            "image/png": "[encoded data removed]"
          },
          "metadata": {}
        }
      ]
    },
    {
      "cell_type": "code",
      "source": [
        "# Plot confusion matrix\n",
        "plt.figure(figsize=(8, 6))\n",
        "sns.heatmap(\n",
        "    test_metrics['confusion_matrix'],\n",
        "    annot=True,\n",
        "    fmt='d',\n",
        "    cmap='Blues',\n",
        "    xticklabels=['Not Sarcastic', 'Sarcastic'],\n",
        "    yticklabels=['Not Sarcastic', 'Sarcastic']\n",
        ")\n",
        "plt.title('Confusion Matrix')\n",
        "plt.xlabel('Predicted Label')\n",
        "plt.ylabel('True Label')\n",
        "plt.tight_layout()\n",
        "plt.savefig('deep_rnn_confusion_matrix.png')\n",
        "plt.show()"
      ],
      "metadata": {
        "colab": {
          "base_uri": "https://localhost:8080/",
          "height": 607
        },
        "id": "owdrt6q1-HvV",
        "outputId": "0ce293d2-0b86-45d8-81dd-efa6f14ebc22"
      },
      "execution_count": 29,
      "outputs": [
        {
          "output_type": "display_data",
          "data": {
            "text/plain": [
              "<Figure size 800x600 with 2 Axes>"
            ],
            "image/png": "[encoded data removed]"
          },
          "metadata": {}
        }
      ]
    },
    {
      "cell_type": "code",
      "source": [
        "# Example predictions\n",
        "def predict_sarcasm(headline, model, word_to_idx, max_len=30):\n",
        "    model.eval()\n",
        "    processed_headline = preprocess_text(headline)\n",
        "    sequence = text_to_sequence(processed_headline, word_to_idx, max_len)\n",
        "    tensor = torch.tensor([sequence], dtype=torch.long).to(device)\n",
        "\n",
        "    with torch.no_grad():\n",
        "        prediction = model(tensor).squeeze(1)\n",
        "        probability = torch.sigmoid(prediction).item()\n",
        "\n",
        "    return probability\n",
        "\n",
        "# Test with some examples\n",
        "example_headlines = [\n",
        "    \"former versace store clerk sues over secret 'black code' for minority shoppers\",\n",
        "    \"mom starting to fear son's web series closest thing she will have to grandchild\",\n",
        "    \"top snake handler leaves sinking huckabee campaign\"\n",
        "]\n",
        "\n",
        "print(\"\\nExample predictions:\")\n",
        "for headline in example_headlines:\n",
        "    prob = predict_sarcasm(headline, final_model, word_to_idx)\n",
        "    prediction = \"Sarcastic\" if prob > 0.5 else \"Not Sarcastic\"\n",
        "    print(f\"Headline: {headline}\")\n",
        "    print(f\"Prediction: {prediction} (probability: {prob:.4f})\")\n",
        "    print(\"-\" * 50)"
      ],
      "metadata": {
        "colab": {
          "base_uri": "https://localhost:8080/"
        },
        "id": "7IzaDRZG-KMt",
        "outputId": "72d405c1-a227-4b06-9cf2-b8a3bf35174a"
      },
      "execution_count": 30,
      "outputs": [
        {
          "output_type": "stream",
          "name": "stdout",
          "text": [
            "\n",
            "Example predictions:\n",
            "Headline: former versace store clerk sues over secret 'black code' for minority shoppers\n",
            "Prediction: Not Sarcastic (probability: 0.0916)\n",
            "--------------------------------------------------\n",
            "Headline: mom starting to fear son's web series closest thing she will have to grandchild\n",
            "Prediction: Sarcastic (probability: 0.5968)\n",
            "--------------------------------------------------\n",
            "Headline: top snake handler leaves sinking huckabee campaign\n",
            "Prediction: Sarcastic (probability: 0.9290)\n",
            "--------------------------------------------------\n"
          ]
        }
      ]
    }
  ]
}