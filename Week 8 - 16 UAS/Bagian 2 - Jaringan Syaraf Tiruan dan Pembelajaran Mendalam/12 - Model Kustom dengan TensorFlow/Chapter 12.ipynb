{
  "nbformat": 4,
  "nbformat_minor": 0,
  "metadata": {
    "colab": {
      "provenance": [],
      "gpuType": "T4"
    },
    "kernelspec": {
      "name": "python3",
      "display_name": "Python 3"
    },
    "language_info": {
      "name": "python"
    },
    "accelerator": "GPU"
  },
  "cells": [
    {
      "cell_type": "markdown",
      "source": [
        "🧵 1. Model dengan Functional API"
      ],
      "metadata": {
        "id": "PX55Bdj6E88C"
      }
    },
    {
      "cell_type": "code",
      "source": [
        "from keras import layers, models, Input\n",
        "from keras.datasets import fashion_mnist\n",
        "\n",
        "# Load & preprocessing\n",
        "(X_train_full, y_train_full), (X_test, y_test) = fashion_mnist.load_data()\n",
        "X_train_full = X_train_full / 255.0\n",
        "X_test = X_test / 255.0\n",
        "X_valid, X_train = X_train_full[:5000], X_train_full[5000:]\n",
        "y_valid, y_train = y_train_full[:5000], y_train_full[5000:]\n",
        "\n",
        "# Build model\n",
        "input_ = Input(shape=(28, 28))\n",
        "x = layers.Flatten()(input_)\n",
        "x = layers.Dense(128, activation=\"relu\")(x)\n",
        "x = layers.Dense(64, activation=\"relu\")(x)\n",
        "output = layers.Dense(10, activation=\"softmax\")(x)\n",
        "\n",
        "model = models.Model(inputs=input_, outputs=output)\n",
        "\n",
        "# Compile and train\n",
        "model.compile(optimizer=\"adam\", loss=\"sparse_categorical_crossentropy\", metrics=[\"accuracy\"])\n",
        "model.fit(X_train, y_train, epochs=5, validation_data=(X_valid, y_valid))"
      ],
      "metadata": {
        "colab": {
          "base_uri": "https://localhost:8080/"
        },
        "id": "Xm3djf6XE9bQ",
        "outputId": "44d3738c-699b-4612-fba3-609d6c74fc9e"
      },
      "execution_count": 16,
      "outputs": [
        {
          "output_type": "stream",
          "name": "stdout",
          "text": [
            "Epoch 1/5\n",
            "\u001b[1m1719/1719\u001b[0m \u001b[32m━━━━━━━━━━━━━━━━━━━━\u001b[0m\u001b[37m\u001b[0m \u001b[1m8s\u001b[0m 4ms/step - accuracy: 0.7837 - loss: 0.6222 - val_accuracy: 0.8644 - val_loss: 0.3897\n",
            "Epoch 2/5\n",
            "\u001b[1m1719/1719\u001b[0m \u001b[32m━━━━━━━━━━━━━━━━━━━━\u001b[0m\u001b[37m\u001b[0m \u001b[1m8s\u001b[0m 3ms/step - accuracy: 0.8611 - loss: 0.3856 - val_accuracy: 0.8722 - val_loss: 0.3627\n",
            "Epoch 3/5\n",
            "\u001b[1m1719/1719\u001b[0m \u001b[32m━━━━━━━━━━━━━━━━━━━━\u001b[0m\u001b[37m\u001b[0m \u001b[1m5s\u001b[0m 3ms/step - accuracy: 0.8775 - loss: 0.3384 - val_accuracy: 0.8736 - val_loss: 0.3331\n",
            "Epoch 4/5\n",
            "\u001b[1m1719/1719\u001b[0m \u001b[32m━━━━━━━━━━━━━━━━━━━━\u001b[0m\u001b[37m\u001b[0m \u001b[1m5s\u001b[0m 3ms/step - accuracy: 0.8859 - loss: 0.3075 - val_accuracy: 0.8782 - val_loss: 0.3423\n",
            "Epoch 5/5\n",
            "\u001b[1m1719/1719\u001b[0m \u001b[32m━━━━━━━━━━━━━━━━━━━━\u001b[0m\u001b[37m\u001b[0m \u001b[1m10s\u001b[0m 3ms/step - accuracy: 0.8908 - loss: 0.2926 - val_accuracy: 0.8886 - val_loss: 0.3120\n"
          ]
        },
        {
          "output_type": "execute_result",
          "data": {
            "text/plain": [
              "<keras.src.callbacks.history.History at 0x79a956e8f910>"
            ]
          },
          "metadata": {},
          "execution_count": 16
        }
      ]
    },
    {
      "cell_type": "markdown",
      "source": [
        "🏗️ 2. Model dengan Subclassing API"
      ],
      "metadata": {
        "id": "mN2jMMsqFDRn"
      }
    },
    {
      "cell_type": "code",
      "source": [
        "from keras import Model\n",
        "\n",
        "class MyCustomModel(Model):\n",
        "    def __init__(self):\n",
        "        super().__init__()\n",
        "        self.flatten = layers.Flatten()\n",
        "        self.dense1 = layers.Dense(128, activation=\"relu\")\n",
        "        self.dense2 = layers.Dense(64, activation=\"relu\")\n",
        "        self.output_layer = layers.Dense(10, activation=\"softmax\")\n",
        "\n",
        "    def call(self, inputs):\n",
        "        x = self.flatten(inputs)\n",
        "        x = self.dense1(x)\n",
        "        x = self.dense2(x)\n",
        "        return self.output_layer(x)\n",
        "\n",
        "model = MyCustomModel()\n",
        "model.compile(optimizer=\"adam\", loss=\"sparse_categorical_crossentropy\", metrics=[\"accuracy\"])\n",
        "model.fit(X_train, y_train, epochs=5, validation_data=(X_valid, y_valid))"
      ],
      "metadata": {
        "colab": {
          "base_uri": "https://localhost:8080/"
        },
        "id": "FyVWKnZ3FD6Z",
        "outputId": "858f78a2-27ad-486f-ab9b-2f0ed12b49e0"
      },
      "execution_count": 17,
      "outputs": [
        {
          "output_type": "stream",
          "name": "stdout",
          "text": [
            "Epoch 1/5\n",
            "\u001b[1m1719/1719\u001b[0m \u001b[32m━━━━━━━━━━━━━━━━━━━━\u001b[0m\u001b[37m\u001b[0m \u001b[1m7s\u001b[0m 3ms/step - accuracy: 0.7717 - loss: 0.6440 - val_accuracy: 0.8524 - val_loss: 0.4156\n",
            "Epoch 2/5\n",
            "\u001b[1m1719/1719\u001b[0m \u001b[32m━━━━━━━━━━━━━━━━━━━━\u001b[0m\u001b[37m\u001b[0m \u001b[1m5s\u001b[0m 3ms/step - accuracy: 0.8566 - loss: 0.3906 - val_accuracy: 0.8692 - val_loss: 0.3553\n",
            "Epoch 3/5\n",
            "\u001b[1m1719/1719\u001b[0m \u001b[32m━━━━━━━━━━━━━━━━━━━━\u001b[0m\u001b[37m\u001b[0m \u001b[1m4s\u001b[0m 2ms/step - accuracy: 0.8745 - loss: 0.3443 - val_accuracy: 0.8846 - val_loss: 0.3284\n",
            "Epoch 4/5\n",
            "\u001b[1m1719/1719\u001b[0m \u001b[32m━━━━━━━━━━━━━━━━━━━━\u001b[0m\u001b[37m\u001b[0m \u001b[1m4s\u001b[0m 2ms/step - accuracy: 0.8822 - loss: 0.3193 - val_accuracy: 0.8848 - val_loss: 0.3241\n",
            "Epoch 5/5\n",
            "\u001b[1m1719/1719\u001b[0m \u001b[32m━━━━━━━━━━━━━━━━━━━━\u001b[0m\u001b[37m\u001b[0m \u001b[1m7s\u001b[0m 3ms/step - accuracy: 0.8889 - loss: 0.3023 - val_accuracy: 0.8884 - val_loss: 0.3130\n"
          ]
        },
        {
          "output_type": "execute_result",
          "data": {
            "text/plain": [
              "<keras.src.callbacks.history.History at 0x79a957e92250>"
            ]
          },
          "metadata": {},
          "execution_count": 17
        }
      ]
    },
    {
      "cell_type": "markdown",
      "source": [
        "🔁 3. Custom Training Loop dengan GradientTape"
      ],
      "metadata": {
        "id": "NASjhZJvFGsN"
      }
    },
    {
      "cell_type": "code",
      "source": [
        "import tensorflow as tf\n",
        "\n",
        "batch_size = 64\n",
        "train_dataset = tf.data.Dataset.from_tensor_slices((X_train, y_train)).shuffle(10000).batch(batch_size)\n",
        "valid_dataset = tf.data.Dataset.from_tensor_slices((X_valid, y_valid)).batch(batch_size)\n",
        "\n",
        "model = MyCustomModel()\n",
        "loss_fn = tf.keras.losses.SparseCategoricalCrossentropy()\n",
        "optimizer = tf.keras.optimizers.Adam()\n",
        "train_acc = tf.keras.metrics.SparseCategoricalAccuracy()\n",
        "\n",
        "for epoch in range(5):\n",
        "    print(f\"\\nEpoch {epoch+1}\")\n",
        "    for X_batch, y_batch in train_dataset:\n",
        "        with tf.GradientTape() as tape:\n",
        "            y_pred = model(X_batch, training=True)\n",
        "            loss = loss_fn(y_batch, y_pred)\n",
        "        grads = tape.gradient(loss, model.trainable_variables)\n",
        "        optimizer.apply_gradients(zip(grads, model.trainable_variables))\n",
        "        train_acc.update_state(y_batch, y_pred)\n",
        "    print(\"Train Accuracy:\", train_acc.result().numpy())\n",
        "    train_acc.reset_state()"
      ],
      "metadata": {
        "colab": {
          "base_uri": "https://localhost:8080/"
        },
        "id": "Rkl856u_FHBn",
        "outputId": "88dd9034-cea0-4407-eaa7-b15e0ded38d8"
      },
      "execution_count": 19,
      "outputs": [
        {
          "output_type": "stream",
          "name": "stdout",
          "text": [
            "\n",
            "Epoch 1\n",
            "Train Accuracy: 0.8149273\n",
            "\n",
            "Epoch 2\n",
            "Train Accuracy: 0.8641091\n",
            "\n",
            "Epoch 3\n",
            "Train Accuracy: 0.8766\n",
            "\n",
            "Epoch 4\n",
            "Train Accuracy: 0.8839818\n",
            "\n",
            "Epoch 5\n",
            "Train Accuracy: 0.89003634\n"
          ]
        }
      ]
    },
    {
      "cell_type": "markdown",
      "source": [
        "## ✅ Kesimpulan Kode:\n",
        "\n",
        "| Teknik          | Kegunaan Utama                                 |\n",
        "| --------------- | ---------------------------------------------- |\n",
        "| Functional API  | Model bercabang/kompleks tapi tetap high-level |\n",
        "| Subclassing API | Model sangat fleksibel & OOP style             |\n",
        "| GradientTape    | Kontrol penuh atas training loop               |\n"
      ],
      "metadata": {
        "id": "eol-JukfFXPw"
      }
    }
  ]
}