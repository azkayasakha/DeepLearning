{
  "nbformat": 4,
  "nbformat_minor": 0,
  "metadata": {
    "colab": {
      "provenance": [],
      "gpuType": "T4"
    },
    "kernelspec": {
      "name": "python3",
      "display_name": "Python 3"
    },
    "language_info": {
      "name": "python"
    },
    "accelerator": "GPU"
  },
  "cells": [
    {
      "cell_type": "markdown",
      "source": [
        "🧵 1. Load dan Preprocessing Fashion MNIST"
      ],
      "metadata": {
        "id": "oTq-Up59_l3q"
      }
    },
    {
      "cell_type": "code",
      "source": [
        "from keras.datasets import fashion_mnist\n",
        "import numpy as np\n",
        "\n",
        "# Load dataset\n",
        "(X_train_full, y_train_full), (X_test, y_test) = fashion_mnist.load_data()\n",
        "\n",
        "# Normalisasi pixel (0–255 → 0–1)\n",
        "X_train_full = X_train_full / 255.0\n",
        "X_test = X_test / 255.0\n",
        "\n",
        "# Pisahkan 5000 data pertama untuk validasi\n",
        "X_valid, X_train = X_train_full[:5000], X_train_full[5000:]\n",
        "y_valid, y_train = y_train_full[:5000], y_train_full[5000:]\n",
        "\n",
        "# Reshape menjadi vektor 1D (28x28 = 784 fitur)\n",
        "X_train = X_train.reshape(-1, 28*28)\n",
        "X_valid = X_valid.reshape(-1, 28*28)\n",
        "X_test = X_test.reshape(-1, 28*28)"
      ],
      "metadata": {
        "colab": {
          "base_uri": "https://localhost:8080/"
        },
        "id": "xZ3462OJ_mQ0",
        "outputId": "3dcb8050-87c9-4dc9-a68f-85209fde4057"
      },
      "execution_count": 1,
      "outputs": [
        {
          "output_type": "stream",
          "name": "stdout",
          "text": [
            "Downloading data from https://storage.googleapis.com/tensorflow/tf-keras-datasets/train-labels-idx1-ubyte.gz\n",
            "\u001b[1m29515/29515\u001b[0m \u001b[32m━━━━━━━━━━━━━━━━━━━━\u001b[0m\u001b[37m\u001b[0m \u001b[1m0s\u001b[0m 0us/step\n",
            "Downloading data from https://storage.googleapis.com/tensorflow/tf-keras-datasets/train-images-idx3-ubyte.gz\n",
            "\u001b[1m26421880/26421880\u001b[0m \u001b[32m━━━━━━━━━━━━━━━━━━━━\u001b[0m\u001b[37m\u001b[0m \u001b[1m0s\u001b[0m 0us/step\n",
            "Downloading data from https://storage.googleapis.com/tensorflow/tf-keras-datasets/t10k-labels-idx1-ubyte.gz\n",
            "\u001b[1m5148/5148\u001b[0m \u001b[32m━━━━━━━━━━━━━━━━━━━━\u001b[0m\u001b[37m\u001b[0m \u001b[1m0s\u001b[0m 0us/step\n",
            "Downloading data from https://storage.googleapis.com/tensorflow/tf-keras-datasets/t10k-images-idx3-ubyte.gz\n",
            "\u001b[1m4422102/4422102\u001b[0m \u001b[32m━━━━━━━━━━━━━━━━━━━━\u001b[0m\u001b[37m\u001b[0m \u001b[1m0s\u001b[0m 0us/step\n"
          ]
        }
      ]
    },
    {
      "cell_type": "markdown",
      "source": [
        "🏗️ 2. Membangun Model ANN dengan Keras"
      ],
      "metadata": {
        "id": "BHfLhB8G_sj5"
      }
    },
    {
      "cell_type": "code",
      "source": [
        "from keras import models, layers\n",
        "\n",
        "model = models.Sequential([\n",
        "    layers.Dense(300, activation=\"relu\", input_shape=[784]),  # hidden layer 1\n",
        "    layers.Dense(100, activation=\"relu\"),                     # hidden layer 2\n",
        "    layers.Dense(10, activation=\"softmax\")                    # output layer (10 kelas)\n",
        "])"
      ],
      "metadata": {
        "colab": {
          "base_uri": "https://localhost:8080/"
        },
        "id": "ap6zUvHy_s-T",
        "outputId": "80261374-873c-4a00-fa4c-8d3f58a79b47"
      },
      "execution_count": 2,
      "outputs": [
        {
          "output_type": "stream",
          "name": "stderr",
          "text": [
            "/usr/local/lib/python3.11/dist-packages/keras/src/layers/core/dense.py:87: UserWarning: Do not pass an `input_shape`/`input_dim` argument to a layer. When using Sequential models, prefer using an `Input(shape)` object as the first layer in the model instead.\n",
            "  super().__init__(activity_regularizer=activity_regularizer, **kwargs)\n"
          ]
        }
      ]
    },
    {
      "cell_type": "markdown",
      "source": [
        "⚙️ 3. Compile Model"
      ],
      "metadata": {
        "id": "ath5oKb9_wHZ"
      }
    },
    {
      "cell_type": "code",
      "source": [
        "model.compile(\n",
        "    loss=\"sparse_categorical_crossentropy\",  # karena label berupa angka 0–9\n",
        "    optimizer=\"sgd\",                         # Stochastic Gradient Descent\n",
        "    metrics=[\"accuracy\"]\n",
        ")"
      ],
      "metadata": {
        "id": "-dhuEtl7_we_"
      },
      "execution_count": 3,
      "outputs": []
    },
    {
      "cell_type": "markdown",
      "source": [
        "🧪 4. Training Model"
      ],
      "metadata": {
        "id": "jfetxVqh_zgs"
      }
    },
    {
      "cell_type": "code",
      "source": [
        "history = model.fit(\n",
        "    X_train, y_train,\n",
        "    epochs=30,\n",
        "    validation_data=(X_valid, y_valid)\n",
        ")"
      ],
      "metadata": {
        "colab": {
          "base_uri": "https://localhost:8080/"
        },
        "id": "3k5axGJS_0rY",
        "outputId": "bb56a6b6-6704-489b-9c36-f016feff5c46"
      },
      "execution_count": 4,
      "outputs": [
        {
          "output_type": "stream",
          "name": "stdout",
          "text": [
            "Epoch 1/30\n",
            "\u001b[1m1719/1719\u001b[0m \u001b[32m━━━━━━━━━━━━━━━━━━━━\u001b[0m\u001b[37m\u001b[0m \u001b[1m7s\u001b[0m 3ms/step - accuracy: 0.6762 - loss: 1.0195 - val_accuracy: 0.8290 - val_loss: 0.5091\n",
            "Epoch 2/30\n",
            "\u001b[1m1719/1719\u001b[0m \u001b[32m━━━━━━━━━━━━━━━━━━━━\u001b[0m\u001b[37m\u001b[0m \u001b[1m5s\u001b[0m 3ms/step - accuracy: 0.8254 - loss: 0.4998 - val_accuracy: 0.8424 - val_loss: 0.4506\n",
            "Epoch 3/30\n",
            "\u001b[1m1719/1719\u001b[0m \u001b[32m━━━━━━━━━━━━━━━━━━━━\u001b[0m\u001b[37m\u001b[0m \u001b[1m4s\u001b[0m 3ms/step - accuracy: 0.8433 - loss: 0.4478 - val_accuracy: 0.8616 - val_loss: 0.4139\n",
            "Epoch 4/30\n",
            "\u001b[1m1719/1719\u001b[0m \u001b[32m━━━━━━━━━━━━━━━━━━━━\u001b[0m\u001b[37m\u001b[0m \u001b[1m4s\u001b[0m 3ms/step - accuracy: 0.8513 - loss: 0.4243 - val_accuracy: 0.8706 - val_loss: 0.3859\n",
            "Epoch 5/30\n",
            "\u001b[1m1719/1719\u001b[0m \u001b[32m━━━━━━━━━━━━━━━━━━━━\u001b[0m\u001b[37m\u001b[0m \u001b[1m5s\u001b[0m 3ms/step - accuracy: 0.8616 - loss: 0.3958 - val_accuracy: 0.8652 - val_loss: 0.3887\n",
            "Epoch 6/30\n",
            "\u001b[1m1719/1719\u001b[0m \u001b[32m━━━━━━━━━━━━━━━━━━━━\u001b[0m\u001b[37m\u001b[0m \u001b[1m4s\u001b[0m 2ms/step - accuracy: 0.8651 - loss: 0.3807 - val_accuracy: 0.8642 - val_loss: 0.3937\n",
            "Epoch 7/30\n",
            "\u001b[1m1719/1719\u001b[0m \u001b[32m━━━━━━━━━━━━━━━━━━━━\u001b[0m\u001b[37m\u001b[0m \u001b[1m6s\u001b[0m 3ms/step - accuracy: 0.8710 - loss: 0.3619 - val_accuracy: 0.8730 - val_loss: 0.3634\n",
            "Epoch 8/30\n",
            "\u001b[1m1719/1719\u001b[0m \u001b[32m━━━━━━━━━━━━━━━━━━━━\u001b[0m\u001b[37m\u001b[0m \u001b[1m4s\u001b[0m 2ms/step - accuracy: 0.8719 - loss: 0.3576 - val_accuracy: 0.8742 - val_loss: 0.3613\n",
            "Epoch 9/30\n",
            "\u001b[1m1719/1719\u001b[0m \u001b[32m━━━━━━━━━━━━━━━━━━━━\u001b[0m\u001b[37m\u001b[0m \u001b[1m4s\u001b[0m 2ms/step - accuracy: 0.8792 - loss: 0.3364 - val_accuracy: 0.8742 - val_loss: 0.3607\n",
            "Epoch 10/30\n",
            "\u001b[1m1719/1719\u001b[0m \u001b[32m━━━━━━━━━━━━━━━━━━━━\u001b[0m\u001b[37m\u001b[0m \u001b[1m5s\u001b[0m 2ms/step - accuracy: 0.8810 - loss: 0.3320 - val_accuracy: 0.8632 - val_loss: 0.3751\n",
            "Epoch 11/30\n",
            "\u001b[1m1719/1719\u001b[0m \u001b[32m━━━━━━━━━━━━━━━━━━━━\u001b[0m\u001b[37m\u001b[0m \u001b[1m5s\u001b[0m 2ms/step - accuracy: 0.8836 - loss: 0.3258 - val_accuracy: 0.8770 - val_loss: 0.3545\n",
            "Epoch 12/30\n",
            "\u001b[1m1719/1719\u001b[0m \u001b[32m━━━━━━━━━━━━━━━━━━━━\u001b[0m\u001b[37m\u001b[0m \u001b[1m5s\u001b[0m 3ms/step - accuracy: 0.8852 - loss: 0.3177 - val_accuracy: 0.8806 - val_loss: 0.3420\n",
            "Epoch 13/30\n",
            "\u001b[1m1719/1719\u001b[0m \u001b[32m━━━━━━━━━━━━━━━━━━━━\u001b[0m\u001b[37m\u001b[0m \u001b[1m4s\u001b[0m 2ms/step - accuracy: 0.8886 - loss: 0.3115 - val_accuracy: 0.8830 - val_loss: 0.3293\n",
            "Epoch 14/30\n",
            "\u001b[1m1719/1719\u001b[0m \u001b[32m━━━━━━━━━━━━━━━━━━━━\u001b[0m\u001b[37m\u001b[0m \u001b[1m7s\u001b[0m 3ms/step - accuracy: 0.8923 - loss: 0.2960 - val_accuracy: 0.8810 - val_loss: 0.3305\n",
            "Epoch 15/30\n",
            "\u001b[1m1719/1719\u001b[0m \u001b[32m━━━━━━━━━━━━━━━━━━━━\u001b[0m\u001b[37m\u001b[0m \u001b[1m9s\u001b[0m 2ms/step - accuracy: 0.8928 - loss: 0.2977 - val_accuracy: 0.8868 - val_loss: 0.3224\n",
            "Epoch 16/30\n",
            "\u001b[1m1719/1719\u001b[0m \u001b[32m━━━━━━━━━━━━━━━━━━━━\u001b[0m\u001b[37m\u001b[0m \u001b[1m5s\u001b[0m 3ms/step - accuracy: 0.8952 - loss: 0.2891 - val_accuracy: 0.8830 - val_loss: 0.3268\n",
            "Epoch 17/30\n",
            "\u001b[1m1719/1719\u001b[0m \u001b[32m━━━━━━━━━━━━━━━━━━━━\u001b[0m\u001b[37m\u001b[0m \u001b[1m4s\u001b[0m 2ms/step - accuracy: 0.8991 - loss: 0.2802 - val_accuracy: 0.8902 - val_loss: 0.3123\n",
            "Epoch 18/30\n",
            "\u001b[1m1719/1719\u001b[0m \u001b[32m━━━━━━━━━━━━━━━━━━━━\u001b[0m\u001b[37m\u001b[0m \u001b[1m5s\u001b[0m 2ms/step - accuracy: 0.8994 - loss: 0.2801 - val_accuracy: 0.8892 - val_loss: 0.3141\n",
            "Epoch 19/30\n",
            "\u001b[1m1719/1719\u001b[0m \u001b[32m━━━━━━━━━━━━━━━━━━━━\u001b[0m\u001b[37m\u001b[0m \u001b[1m5s\u001b[0m 3ms/step - accuracy: 0.9022 - loss: 0.2725 - val_accuracy: 0.8734 - val_loss: 0.3425\n",
            "Epoch 20/30\n",
            "\u001b[1m1719/1719\u001b[0m \u001b[32m━━━━━━━━━━━━━━━━━━━━\u001b[0m\u001b[37m\u001b[0m \u001b[1m4s\u001b[0m 2ms/step - accuracy: 0.9033 - loss: 0.2689 - val_accuracy: 0.8930 - val_loss: 0.3090\n",
            "Epoch 21/30\n",
            "\u001b[1m1719/1719\u001b[0m \u001b[32m━━━━━━━━━━━━━━━━━━━━\u001b[0m\u001b[37m\u001b[0m \u001b[1m5s\u001b[0m 3ms/step - accuracy: 0.9057 - loss: 0.2651 - val_accuracy: 0.8910 - val_loss: 0.3054\n",
            "Epoch 22/30\n",
            "\u001b[1m1719/1719\u001b[0m \u001b[32m━━━━━━━━━━━━━━━━━━━━\u001b[0m\u001b[37m\u001b[0m \u001b[1m5s\u001b[0m 3ms/step - accuracy: 0.9050 - loss: 0.2592 - val_accuracy: 0.8902 - val_loss: 0.3013\n",
            "Epoch 23/30\n",
            "\u001b[1m1719/1719\u001b[0m \u001b[32m━━━━━━━━━━━━━━━━━━━━\u001b[0m\u001b[37m\u001b[0m \u001b[1m5s\u001b[0m 2ms/step - accuracy: 0.9093 - loss: 0.2506 - val_accuracy: 0.8846 - val_loss: 0.3121\n",
            "Epoch 24/30\n",
            "\u001b[1m1719/1719\u001b[0m \u001b[32m━━━━━━━━━━━━━━━━━━━━\u001b[0m\u001b[37m\u001b[0m \u001b[1m6s\u001b[0m 3ms/step - accuracy: 0.9091 - loss: 0.2508 - val_accuracy: 0.8884 - val_loss: 0.3159\n",
            "Epoch 25/30\n",
            "\u001b[1m1719/1719\u001b[0m \u001b[32m━━━━━━━━━━━━━━━━━━━━\u001b[0m\u001b[37m\u001b[0m \u001b[1m4s\u001b[0m 2ms/step - accuracy: 0.9106 - loss: 0.2477 - val_accuracy: 0.8894 - val_loss: 0.3006\n",
            "Epoch 26/30\n",
            "\u001b[1m1719/1719\u001b[0m \u001b[32m━━━━━━━━━━━━━━━━━━━━\u001b[0m\u001b[37m\u001b[0m \u001b[1m6s\u001b[0m 3ms/step - accuracy: 0.9119 - loss: 0.2418 - val_accuracy: 0.8908 - val_loss: 0.3039\n",
            "Epoch 27/30\n",
            "\u001b[1m1719/1719\u001b[0m \u001b[32m━━━━━━━━━━━━━━━━━━━━\u001b[0m\u001b[37m\u001b[0m \u001b[1m4s\u001b[0m 2ms/step - accuracy: 0.9149 - loss: 0.2362 - val_accuracy: 0.8922 - val_loss: 0.2988\n",
            "Epoch 28/30\n",
            "\u001b[1m1719/1719\u001b[0m \u001b[32m━━━━━━━━━━━━━━━━━━━━\u001b[0m\u001b[37m\u001b[0m \u001b[1m5s\u001b[0m 3ms/step - accuracy: 0.9138 - loss: 0.2343 - val_accuracy: 0.8900 - val_loss: 0.3041\n",
            "Epoch 29/30\n",
            "\u001b[1m1719/1719\u001b[0m \u001b[32m━━━━━━━━━━━━━━━━━━━━\u001b[0m\u001b[37m\u001b[0m \u001b[1m5s\u001b[0m 3ms/step - accuracy: 0.9179 - loss: 0.2284 - val_accuracy: 0.8888 - val_loss: 0.3114\n",
            "Epoch 30/30\n",
            "\u001b[1m1719/1719\u001b[0m \u001b[32m━━━━━━━━━━━━━━━━━━━━\u001b[0m\u001b[37m\u001b[0m \u001b[1m6s\u001b[0m 3ms/step - accuracy: 0.9184 - loss: 0.2280 - val_accuracy: 0.8932 - val_loss: 0.3067\n"
          ]
        }
      ]
    },
    {
      "cell_type": "markdown",
      "source": [
        "📈 5. Visualisasi Learning Curve"
      ],
      "metadata": {
        "id": "I4aWShS0_4ex"
      }
    },
    {
      "cell_type": "code",
      "source": [
        "import pandas as pd\n",
        "import matplotlib.pyplot as plt\n",
        "\n",
        "pd.DataFrame(history.history).plot(figsize=(8, 5))\n",
        "plt.grid(True)\n",
        "plt.xlabel(\"Epochs\")\n",
        "plt.ylabel(\"Loss / Accuracy\")\n",
        "plt.title(\"Learning Curve\")\n",
        "plt.show()"
      ],
      "metadata": {
        "colab": {
          "base_uri": "https://localhost:8080/",
          "height": 487
        },
        "id": "5JUn-mU9_47z",
        "outputId": "0998a8f2-f87b-4453-9888-277e430ddd13"
      },
      "execution_count": 5,
      "outputs": [
        {
          "output_type": "display_data",
          "data": {
            "text/plain": [
              "<Figure size 800x500 with 1 Axes>"
            ],
            "image/png": "[encoded data removed]"
          },
          "metadata": {}
        }
      ]
    },
    {
      "cell_type": "markdown",
      "source": [
        "🧾 6. Evaluasi dan Prediksi"
      ],
      "metadata": {
        "id": "Xpawr5_QAQGw"
      }
    },
    {
      "cell_type": "code",
      "source": [
        "# Evaluasi pada data test\n",
        "test_loss, test_acc = model.evaluate(X_test.reshape(-1, 28*28), y_test)\n",
        "print(\"Test Accuracy:\", test_acc)\n",
        "\n",
        "# Prediksi probabilitas\n",
        "y_proba = model.predict(X_test[:5].reshape(-1, 28*28))\n",
        "print(\"Prediksi Probabilitas (5 data pertama):\")\n",
        "print(y_proba)\n",
        "\n",
        "# Prediksi label\n",
        "y_pred = np.argmax(y_proba, axis=1)\n",
        "print(\"Prediksi Label:\", y_pred)\n",
        "print(\"Label Sebenarnya:\", y_test[:5])"
      ],
      "metadata": {
        "colab": {
          "base_uri": "https://localhost:8080/"
        },
        "id": "xFVpwdmhAQpa",
        "outputId": "b0937024-431a-4658-a4bd-e6a8cb50e2c6"
      },
      "execution_count": 6,
      "outputs": [
        {
          "output_type": "stream",
          "name": "stdout",
          "text": [
            "\u001b[1m313/313\u001b[0m \u001b[32m━━━━━━━━━━━━━━━━━━━━\u001b[0m\u001b[37m\u001b[0m \u001b[1m1s\u001b[0m 4ms/step - accuracy: 0.8838 - loss: 0.3385\n",
            "Test Accuracy: 0.8817999958992004\n",
            "\u001b[1m1/1\u001b[0m \u001b[32m━━━━━━━━━━━━━━━━━━━━\u001b[0m\u001b[37m\u001b[0m \u001b[1m0s\u001b[0m 301ms/step\n",
            "Prediksi Probabilitas (5 data pertama):\n",
            "[[2.90695624e-07 1.25819540e-07 4.16115427e-06 8.69017072e-07\n",
            "  6.94994651e-06 1.66472383e-02 1.05979836e-06 2.00131070e-02\n",
            "  3.88333428e-04 9.62937832e-01]\n",
            " [4.88887490e-05 6.19450518e-08 9.81303036e-01 3.50361269e-08\n",
            "  1.77421439e-02 3.92984784e-10 9.05400433e-04 2.39556226e-12\n",
            "  5.16115051e-07 1.18697543e-12]\n",
            " [4.36832806e-06 9.99995232e-01 2.65061395e-08 2.28665172e-07\n",
            "  1.19119115e-07 9.19111662e-12 2.22064211e-09 1.07236234e-10\n",
            "  1.54337798e-09 5.57502124e-13]\n",
            " [1.19179749e-05 9.99963403e-01 1.80437567e-07 2.34607814e-05\n",
            "  7.11260213e-07 7.64688757e-09 2.43248195e-07 1.48976942e-09\n",
            "  1.05915665e-09 1.01104580e-09]\n",
            " [3.17504823e-01 1.17101508e-05 6.31295843e-03 3.45018838e-04\n",
            "  5.01682609e-03 1.06700816e-06 6.70544326e-01 2.62988124e-07\n",
            "  2.62914400e-04 1.78682640e-07]]\n",
            "Prediksi Label: [9 2 1 1 6]\n",
            "Label Sebenarnya: [9 2 1 1 6]\n"
          ]
        }
      ]
    },
    {
      "cell_type": "markdown",
      "source": [
        "🔍 7. (Opsional) Label Nama Kelas"
      ],
      "metadata": {
        "id": "jH8Va3fvATgJ"
      }
    },
    {
      "cell_type": "code",
      "source": [
        "class_names = [\"T-shirt/top\", \"Trouser\", \"Pullover\", \"Dress\", \"Coat\",\n",
        "               \"Sandal\", \"Shirt\", \"Sneaker\", \"Bag\", \"Ankle boot\"]\n",
        "\n",
        "for i in range(5):\n",
        "    print(f\"Gambar {i}: Prediksi = {class_names[y_pred[i]]}, Asli = {class_names[y_test[i]]}\")"
      ],
      "metadata": {
        "colab": {
          "base_uri": "https://localhost:8080/"
        },
        "id": "qReSA-N1AbYr",
        "outputId": "4caf3773-b93b-45bc-844e-bce192478eae"
      },
      "execution_count": 7,
      "outputs": [
        {
          "output_type": "stream",
          "name": "stdout",
          "text": [
            "Gambar 0: Prediksi = Ankle boot, Asli = Ankle boot\n",
            "Gambar 1: Prediksi = Pullover, Asli = Pullover\n",
            "Gambar 2: Prediksi = Trouser, Asli = Trouser\n",
            "Gambar 3: Prediksi = Trouser, Asli = Trouser\n",
            "Gambar 4: Prediksi = Shirt, Asli = Shirt\n"
          ]
        }
      ]
    },
    {
      "cell_type": "markdown",
      "source": [
        "## ✅ Catatan:\n",
        "\n",
        "* Dataset ini sering digunakan sebagai *benchmark ringan* untuk image classification.\n",
        "* Model ANN seperti ini bisa ditingkatkan dengan **dropout**, **batch normalization**, atau **early stopping** di bab berikutnya."
      ],
      "metadata": {
        "id": "xouw5W6wAvaU"
      }
    }
  ]
}