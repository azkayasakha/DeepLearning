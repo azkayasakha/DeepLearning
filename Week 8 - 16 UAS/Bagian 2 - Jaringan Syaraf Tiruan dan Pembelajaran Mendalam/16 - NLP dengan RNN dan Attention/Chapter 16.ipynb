{
  "nbformat": 4,
  "nbformat_minor": 0,
  "metadata": {
    "colab": {
      "provenance": [],
      "gpuType": "T4"
    },
    "kernelspec": {
      "name": "python3",
      "display_name": "Python 3"
    },
    "language_info": {
      "name": "python"
    },
    "accelerator": "GPU"
  },
  "cells": [
    {
      "cell_type": "markdown",
      "source": [
        "📥 1. Load dan Preprocessing Dataset IMDB"
      ],
      "metadata": {
        "id": "I7ZsrN4QKx4Q"
      }
    },
    {
      "cell_type": "code",
      "source": [
        "from tensorflow import keras\n",
        "from keras.preprocessing.sequence import pad_sequences\n",
        "\n",
        "# Load dataset: 25.000 data latih, 25.000 data test\n",
        "(X_train, y_train), (X_test, y_test) = keras.datasets.imdb.load_data(num_words=10000)\n",
        "\n",
        "# Batasi panjang review maksimal 200 kata\n",
        "maxlen = 200\n",
        "X_train = pad_sequences(X_train, maxlen=maxlen)\n",
        "X_test = pad_sequences(X_test, maxlen=maxlen)"
      ],
      "metadata": {
        "colab": {
          "base_uri": "https://localhost:8080/"
        },
        "id": "YVbdZiMeKyQ5",
        "outputId": "a9f17f98-908a-4179-d445-15b79c1b6724"
      },
      "execution_count": 40,
      "outputs": [
        {
          "output_type": "stream",
          "name": "stdout",
          "text": [
            "Downloading data from https://storage.googleapis.com/tensorflow/tf-keras-datasets/imdb.npz\n",
            "\u001b[1m17464789/17464789\u001b[0m \u001b[32m━━━━━━━━━━━━━━━━━━━━\u001b[0m\u001b[37m\u001b[0m \u001b[1m0s\u001b[0m 0us/step\n"
          ]
        }
      ]
    },
    {
      "cell_type": "markdown",
      "source": [
        "🧠 2. Model LSTM Sederhana (Tanpa Attention)"
      ],
      "metadata": {
        "id": "HC87WQTwK08J"
      }
    },
    {
      "cell_type": "code",
      "source": [
        "model_lstm = keras.models.Sequential([\n",
        "    keras.layers.Embedding(input_dim=10000, output_dim=32, input_length=maxlen),\n",
        "    keras.layers.LSTM(32),\n",
        "    keras.layers.Dense(1, activation=\"sigmoid\")\n",
        "])\n",
        "\n",
        "model_lstm.compile(loss=\"binary_crossentropy\", optimizer=\"adam\", metrics=[\"accuracy\"])\n",
        "model_lstm.fit(X_train, y_train, epochs=3, validation_split=0.2, batch_size=64)"
      ],
      "metadata": {
        "colab": {
          "base_uri": "https://localhost:8080/"
        },
        "id": "DSswYmD9K16l",
        "outputId": "730b42ce-727d-4f8a-cf28-9495a9053861"
      },
      "execution_count": 41,
      "outputs": [
        {
          "output_type": "stream",
          "name": "stdout",
          "text": [
            "Epoch 1/3\n"
          ]
        },
        {
          "output_type": "stream",
          "name": "stderr",
          "text": [
            "/usr/local/lib/python3.11/dist-packages/keras/src/layers/core/embedding.py:90: UserWarning: Argument `input_length` is deprecated. Just remove it.\n",
            "  warnings.warn(\n"
          ]
        },
        {
          "output_type": "stream",
          "name": "stdout",
          "text": [
            "\u001b[1m313/313\u001b[0m \u001b[32m━━━━━━━━━━━━━━━━━━━━\u001b[0m\u001b[37m\u001b[0m \u001b[1m6s\u001b[0m 11ms/step - accuracy: 0.6647 - loss: 0.5902 - val_accuracy: 0.8510 - val_loss: 0.3651\n",
            "Epoch 2/3\n",
            "\u001b[1m313/313\u001b[0m \u001b[32m━━━━━━━━━━━━━━━━━━━━\u001b[0m\u001b[37m\u001b[0m \u001b[1m4s\u001b[0m 12ms/step - accuracy: 0.8859 - loss: 0.2898 - val_accuracy: 0.8478 - val_loss: 0.3590\n",
            "Epoch 3/3\n",
            "\u001b[1m313/313\u001b[0m \u001b[32m━━━━━━━━━━━━━━━━━━━━\u001b[0m\u001b[37m\u001b[0m \u001b[1m3s\u001b[0m 11ms/step - accuracy: 0.9217 - loss: 0.2119 - val_accuracy: 0.8598 - val_loss: 0.3273\n"
          ]
        },
        {
          "output_type": "execute_result",
          "data": {
            "text/plain": [
              "<keras.src.callbacks.history.History at 0x79a8c2873f50>"
            ]
          },
          "metadata": {},
          "execution_count": 41
        }
      ]
    },
    {
      "cell_type": "markdown",
      "source": [
        "🌟 3. Tambahkan Attention Layer (Manual)"
      ],
      "metadata": {
        "id": "rvI9LIymK4Ai"
      }
    },
    {
      "cell_type": "code",
      "source": [
        "class Attention(tf.keras.layers.Layer):\n",
        "    def __init__(self):\n",
        "        super().__init__()\n",
        "        self.dense = tf.keras.layers.Dense(1)  # dibuat hanya sekali, di awal\n",
        "\n",
        "    def call(self, inputs):\n",
        "        # inputs: (batch_size, time_steps, hidden_dim)\n",
        "        score = self.dense(inputs)  # (batch_size, time_steps, 1)\n",
        "        attention_weights = tf.nn.softmax(score, axis=1)  # softmax over time\n",
        "        context_vector = attention_weights * inputs\n",
        "        context_vector = tf.reduce_sum(context_vector, axis=1)  # (batch_size, hidden_dim)\n",
        "        return context_vector"
      ],
      "metadata": {
        "id": "C76GoDAPK7eb"
      },
      "execution_count": 44,
      "outputs": []
    },
    {
      "cell_type": "code",
      "source": [
        "inputs = keras.Input(shape=(maxlen,))\n",
        "x = keras.layers.Embedding(input_dim=10000, output_dim=32)(inputs)\n",
        "x = keras.layers.Bidirectional(keras.layers.LSTM(32, return_sequences=True))(x)\n",
        "x = Attention()(x)\n",
        "outputs = keras.layers.Dense(1, activation=\"sigmoid\")(x)\n",
        "\n",
        "model_attention = keras.Model(inputs, outputs)\n",
        "model_attention.compile(loss=\"binary_crossentropy\", optimizer=\"adam\", metrics=[\"accuracy\"])\n",
        "model_attention.fit(X_train, y_train, epochs=3, validation_split=0.2, batch_size=64)"
      ],
      "metadata": {
        "colab": {
          "base_uri": "https://localhost:8080/"
        },
        "id": "WlhO_qrUK94n",
        "outputId": "b0c0f0b7-a6d6-47aa-85f8-2a0796b8237b"
      },
      "execution_count": 45,
      "outputs": [
        {
          "output_type": "stream",
          "name": "stdout",
          "text": [
            "Epoch 1/3\n",
            "\u001b[1m313/313\u001b[0m \u001b[32m━━━━━━━━━━━━━━━━━━━━\u001b[0m\u001b[37m\u001b[0m \u001b[1m9s\u001b[0m 20ms/step - accuracy: 0.6868 - loss: 0.5522 - val_accuracy: 0.8728 - val_loss: 0.3197\n",
            "Epoch 2/3\n",
            "\u001b[1m313/313\u001b[0m \u001b[32m━━━━━━━━━━━━━━━━━━━━\u001b[0m\u001b[37m\u001b[0m \u001b[1m9s\u001b[0m 17ms/step - accuracy: 0.9047 - loss: 0.2496 - val_accuracy: 0.8718 - val_loss: 0.3140\n",
            "Epoch 3/3\n",
            "\u001b[1m313/313\u001b[0m \u001b[32m━━━━━━━━━━━━━━━━━━━━\u001b[0m\u001b[37m\u001b[0m \u001b[1m6s\u001b[0m 19ms/step - accuracy: 0.9298 - loss: 0.1877 - val_accuracy: 0.8766 - val_loss: 0.3120\n"
          ]
        },
        {
          "output_type": "execute_result",
          "data": {
            "text/plain": [
              "<keras.src.callbacks.history.History at 0x79a94b9e61d0>"
            ]
          },
          "metadata": {},
          "execution_count": 45
        }
      ]
    },
    {
      "cell_type": "markdown",
      "source": [
        "📊 4. Evaluasi Model"
      ],
      "metadata": {
        "id": "Tkvps7cVLR8d"
      }
    },
    {
      "cell_type": "code",
      "source": [
        "loss, acc = model_attention.evaluate(X_test, y_test)\n",
        "print(\"Akurasi pada data uji:\", acc)"
      ],
      "metadata": {
        "colab": {
          "base_uri": "https://localhost:8080/"
        },
        "id": "pkT0XyzwLVaw",
        "outputId": "2c362d41-e35e-4f38-d746-17bbd05c71ae"
      },
      "execution_count": 46,
      "outputs": [
        {
          "output_type": "stream",
          "name": "stdout",
          "text": [
            "\u001b[1m782/782\u001b[0m \u001b[32m━━━━━━━━━━━━━━━━━━━━\u001b[0m\u001b[37m\u001b[0m \u001b[1m6s\u001b[0m 8ms/step - accuracy: 0.8647 - loss: 0.3319\n",
            "Akurasi pada data uji: 0.8636000156402588\n"
          ]
        }
      ]
    },
    {
      "cell_type": "markdown",
      "source": [
        "🔍 5. Visualisasi Prediksi"
      ],
      "metadata": {
        "id": "4occ0dZcLXyI"
      }
    },
    {
      "cell_type": "code",
      "source": [
        "import numpy as np\n",
        "\n",
        "# Ambil review pertama\n",
        "sample = X_test[0:1]\n",
        "prediction = model_attention.predict(sample)[0][0]\n",
        "sentiment = \"Positif\" if prediction >= 0.5 else \"Negatif\"\n",
        "\n",
        "print(f\"Prediksi Sentimen: {sentiment} ({prediction:.2f})\")"
      ],
      "metadata": {
        "colab": {
          "base_uri": "https://localhost:8080/"
        },
        "id": "B5WtNXirLYuX",
        "outputId": "354c2080-7c1f-4651-93f3-f7f43a1bb83a"
      },
      "execution_count": 47,
      "outputs": [
        {
          "output_type": "stream",
          "name": "stdout",
          "text": [
            "\u001b[1m1/1\u001b[0m \u001b[32m━━━━━━━━━━━━━━━━━━━━\u001b[0m\u001b[37m\u001b[0m \u001b[1m0s\u001b[0m 215ms/step\n",
            "Prediksi Sentimen: Negatif (0.02)\n"
          ]
        }
      ]
    },
    {
      "cell_type": "markdown",
      "source": [
        "## ✅ Catatan:\n",
        "\n",
        "* `Embedding`: mengubah ID kata menjadi vektor.\n",
        "* `LSTM` atau `Bidirectional LSTM` menangkap konteks sekuens.\n",
        "* **Attention** fokus pada bagian penting dari kalimat (misalnya kata “not”, “terrible”).\n",
        "* Model bisa dikembangkan untuk NER, QA, dan Summarization dengan konsep yang sama.\n"
      ],
      "metadata": {
        "id": "0OUdUtXDLdrg"
      }
    }
  ]
}