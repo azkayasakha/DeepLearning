{
  "nbformat": 4,
  "nbformat_minor": 0,
  "metadata": {
    "colab": {
      "provenance": [],
      "gpuType": "T4"
    },
    "kernelspec": {
      "name": "python3",
      "display_name": "Python 3"
    },
    "language_info": {
      "name": "python"
    },
    "accelerator": "GPU"
  },
  "cells": [
    {
      "cell_type": "markdown",
      "source": [
        "🧵 1. Load dan Preprocessing Data Fashion MNIST"
      ],
      "metadata": {
        "id": "7bhEEdd2BbfR"
      }
    },
    {
      "cell_type": "code",
      "source": [
        "from keras.datasets import fashion_mnist\n",
        "\n",
        "(X_train_full, y_train_full), (X_test, y_test) = fashion_mnist.load_data()\n",
        "\n",
        "# Normalisasi dan reshape\n",
        "X_train_full = X_train_full / 255.0\n",
        "X_test = X_test / 255.0\n",
        "\n",
        "X_valid, X_train = X_train_full[:5000], X_train_full[5000:]\n",
        "y_valid, y_train = y_train_full[:5000], y_train_full[5000:]\n",
        "\n",
        "# Keras menerima input 2D, tidak perlu flatten manual karena pakai Flatten layer"
      ],
      "metadata": {
        "id": "7LS8Vm1lBb4M"
      },
      "execution_count": 8,
      "outputs": []
    },
    {
      "cell_type": "markdown",
      "source": [
        "🏗️ 2. Build Model (He init, BatchNorm, Dropout)"
      ],
      "metadata": {
        "id": "jZ_G8phFBe-g"
      }
    },
    {
      "cell_type": "code",
      "source": [
        "from keras import models, layers, initializers\n",
        "\n",
        "model = models.Sequential([\n",
        "    layers.Flatten(input_shape=[28, 28]),\n",
        "    layers.BatchNormalization(),\n",
        "\n",
        "    layers.Dense(300, activation=\"relu\", kernel_initializer=\"he_normal\"),\n",
        "    layers.BatchNormalization(),\n",
        "    layers.Dropout(0.2),\n",
        "\n",
        "    layers.Dense(100, activation=\"relu\", kernel_initializer=\"he_normal\"),\n",
        "    layers.BatchNormalization(),\n",
        "    layers.Dropout(0.2),\n",
        "\n",
        "    layers.Dense(10, activation=\"softmax\")\n",
        "])"
      ],
      "metadata": {
        "colab": {
          "base_uri": "https://localhost:8080/"
        },
        "id": "6vdgKM2kBgNc",
        "outputId": "43109da9-4c92-4eb0-a73d-40df9a311e10"
      },
      "execution_count": 9,
      "outputs": [
        {
          "output_type": "stream",
          "name": "stderr",
          "text": [
            "/usr/local/lib/python3.11/dist-packages/keras/src/layers/reshaping/flatten.py:37: UserWarning: Do not pass an `input_shape`/`input_dim` argument to a layer. When using Sequential models, prefer using an `Input(shape)` object as the first layer in the model instead.\n",
            "  super().__init__(**kwargs)\n"
          ]
        }
      ]
    },
    {
      "cell_type": "markdown",
      "source": [
        "⚙️ 3. Compile Model (optimizer = Adam)"
      ],
      "metadata": {
        "id": "e0ddToQBBij0"
      }
    },
    {
      "cell_type": "code",
      "source": [
        "model.compile(\n",
        "    optimizer=\"adam\",\n",
        "    loss=\"sparse_categorical_crossentropy\",\n",
        "    metrics=[\"accuracy\"]\n",
        ")"
      ],
      "metadata": {
        "id": "XJDw_ErZBkqO"
      },
      "execution_count": 10,
      "outputs": []
    },
    {
      "cell_type": "markdown",
      "source": [
        "🧩 4. Callbacks: EarlyStopping, ModelCheckpoint, LR Scheduler"
      ],
      "metadata": {
        "id": "tILNqMc7BmzY"
      }
    },
    {
      "cell_type": "code",
      "source": [
        "from keras.callbacks import EarlyStopping, ModelCheckpoint, LearningRateScheduler\n",
        "\n",
        "# Stop lebih awal jika tidak improve dalam 10 epoch\n",
        "early_stopping_cb = EarlyStopping(patience=10, restore_best_weights=True)\n",
        "\n",
        "# Simpan model terbaik\n",
        "checkpoint_cb = ModelCheckpoint(\"best_model.keras\", save_best_only=True)\n",
        "\n",
        "# Learning rate schedule: mulai 0.01 dan turun bertahap\n",
        "def lr_schedule(epoch):\n",
        "    return 0.01 * 0.1**(epoch / 20)\n",
        "\n",
        "lr_scheduler_cb = LearningRateScheduler(lr_schedule)"
      ],
      "metadata": {
        "id": "7XJgt_JEBpc9"
      },
      "execution_count": 11,
      "outputs": []
    },
    {
      "cell_type": "markdown",
      "source": [
        "🧪 5. Training Model dengan Callbacks"
      ],
      "metadata": {
        "id": "Sa_LAv-HBtCO"
      }
    },
    {
      "cell_type": "code",
      "source": [
        "history = model.fit(\n",
        "    X_train, y_train,\n",
        "    epochs=50,\n",
        "    validation_data=(X_valid, y_valid),\n",
        "    callbacks=[early_stopping_cb, checkpoint_cb, lr_scheduler_cb]\n",
        ")"
      ],
      "metadata": {
        "colab": {
          "base_uri": "https://localhost:8080/"
        },
        "id": "c-zytIPgBtqw",
        "outputId": "eb3c4f16-c0a3-46e3-f13d-cff2ff7d7b37"
      },
      "execution_count": 12,
      "outputs": [
        {
          "output_type": "stream",
          "name": "stdout",
          "text": [
            "Epoch 1/50\n",
            "\u001b[1m1719/1719\u001b[0m \u001b[32m━━━━━━━━━━━━━━━━━━━━\u001b[0m\u001b[37m\u001b[0m \u001b[1m17s\u001b[0m 8ms/step - accuracy: 0.7693 - loss: 0.6530 - val_accuracy: 0.8646 - val_loss: 0.3795 - learning_rate: 0.0100\n",
            "Epoch 2/50\n",
            "\u001b[1m1719/1719\u001b[0m \u001b[32m━━━━━━━━━━━━━━━━━━━━\u001b[0m\u001b[37m\u001b[0m \u001b[1m7s\u001b[0m 4ms/step - accuracy: 0.8414 - loss: 0.4362 - val_accuracy: 0.8716 - val_loss: 0.3405 - learning_rate: 0.0089\n",
            "Epoch 3/50\n",
            "\u001b[1m1719/1719\u001b[0m \u001b[32m━━━━━━━━━━━━━━━━━━━━\u001b[0m\u001b[37m\u001b[0m \u001b[1m8s\u001b[0m 3ms/step - accuracy: 0.8538 - loss: 0.4013 - val_accuracy: 0.8798 - val_loss: 0.3495 - learning_rate: 0.0079\n",
            "Epoch 4/50\n",
            "\u001b[1m1719/1719\u001b[0m \u001b[32m━━━━━━━━━━━━━━━━━━━━\u001b[0m\u001b[37m\u001b[0m \u001b[1m6s\u001b[0m 3ms/step - accuracy: 0.8625 - loss: 0.3791 - val_accuracy: 0.8734 - val_loss: 0.3377 - learning_rate: 0.0071\n",
            "Epoch 5/50\n",
            "\u001b[1m1719/1719\u001b[0m \u001b[32m━━━━━━━━━━━━━━━━━━━━\u001b[0m\u001b[37m\u001b[0m \u001b[1m6s\u001b[0m 4ms/step - accuracy: 0.8688 - loss: 0.3568 - val_accuracy: 0.8810 - val_loss: 0.3200 - learning_rate: 0.0063\n",
            "Epoch 6/50\n",
            "\u001b[1m1719/1719\u001b[0m \u001b[32m━━━━━━━━━━━━━━━━━━━━\u001b[0m\u001b[37m\u001b[0m \u001b[1m9s\u001b[0m 3ms/step - accuracy: 0.8786 - loss: 0.3327 - val_accuracy: 0.8874 - val_loss: 0.3156 - learning_rate: 0.0056\n",
            "Epoch 7/50\n",
            "\u001b[1m1719/1719\u001b[0m \u001b[32m━━━━━━━━━━━━━━━━━━━━\u001b[0m\u001b[37m\u001b[0m \u001b[1m5s\u001b[0m 3ms/step - accuracy: 0.8807 - loss: 0.3231 - val_accuracy: 0.8872 - val_loss: 0.3214 - learning_rate: 0.0050\n",
            "Epoch 8/50\n",
            "\u001b[1m1719/1719\u001b[0m \u001b[32m━━━━━━━━━━━━━━━━━━━━\u001b[0m\u001b[37m\u001b[0m \u001b[1m10s\u001b[0m 3ms/step - accuracy: 0.8878 - loss: 0.3037 - val_accuracy: 0.8874 - val_loss: 0.3012 - learning_rate: 0.0045\n",
            "Epoch 9/50\n",
            "\u001b[1m1719/1719\u001b[0m \u001b[32m━━━━━━━━━━━━━━━━━━━━\u001b[0m\u001b[37m\u001b[0m \u001b[1m6s\u001b[0m 3ms/step - accuracy: 0.8889 - loss: 0.2991 - val_accuracy: 0.8894 - val_loss: 0.2976 - learning_rate: 0.0040\n",
            "Epoch 10/50\n",
            "\u001b[1m1719/1719\u001b[0m \u001b[32m━━━━━━━━━━━━━━━━━━━━\u001b[0m\u001b[37m\u001b[0m \u001b[1m10s\u001b[0m 3ms/step - accuracy: 0.8961 - loss: 0.2798 - val_accuracy: 0.8976 - val_loss: 0.2791 - learning_rate: 0.0035\n",
            "Epoch 11/50\n",
            "\u001b[1m1719/1719\u001b[0m \u001b[32m━━━━━━━━━━━━━━━━━━━━\u001b[0m\u001b[37m\u001b[0m \u001b[1m10s\u001b[0m 3ms/step - accuracy: 0.8988 - loss: 0.2700 - val_accuracy: 0.8940 - val_loss: 0.2934 - learning_rate: 0.0032\n",
            "Epoch 12/50\n",
            "\u001b[1m1719/1719\u001b[0m \u001b[32m━━━━━━━━━━━━━━━━━━━━\u001b[0m\u001b[37m\u001b[0m \u001b[1m10s\u001b[0m 3ms/step - accuracy: 0.9007 - loss: 0.2642 - val_accuracy: 0.8968 - val_loss: 0.2877 - learning_rate: 0.0028\n",
            "Epoch 13/50\n",
            "\u001b[1m1719/1719\u001b[0m \u001b[32m━━━━━━━━━━━━━━━━━━━━\u001b[0m\u001b[37m\u001b[0m \u001b[1m6s\u001b[0m 4ms/step - accuracy: 0.9032 - loss: 0.2587 - val_accuracy: 0.8976 - val_loss: 0.2759 - learning_rate: 0.0025\n",
            "Epoch 14/50\n",
            "\u001b[1m1719/1719\u001b[0m \u001b[32m━━━━━━━━━━━━━━━━━━━━\u001b[0m\u001b[37m\u001b[0m \u001b[1m5s\u001b[0m 3ms/step - accuracy: 0.9061 - loss: 0.2465 - val_accuracy: 0.8976 - val_loss: 0.2838 - learning_rate: 0.0022\n",
            "Epoch 15/50\n",
            "\u001b[1m1719/1719\u001b[0m \u001b[32m━━━━━━━━━━━━━━━━━━━━\u001b[0m\u001b[37m\u001b[0m \u001b[1m6s\u001b[0m 3ms/step - accuracy: 0.9116 - loss: 0.2366 - val_accuracy: 0.9006 - val_loss: 0.2842 - learning_rate: 0.0020\n",
            "Epoch 16/50\n",
            "\u001b[1m1719/1719\u001b[0m \u001b[32m━━━━━━━━━━━━━━━━━━━━\u001b[0m\u001b[37m\u001b[0m \u001b[1m10s\u001b[0m 3ms/step - accuracy: 0.9128 - loss: 0.2359 - val_accuracy: 0.9008 - val_loss: 0.2822 - learning_rate: 0.0018\n",
            "Epoch 17/50\n",
            "\u001b[1m1719/1719\u001b[0m \u001b[32m━━━━━━━━━━━━━━━━━━━━\u001b[0m\u001b[37m\u001b[0m \u001b[1m5s\u001b[0m 3ms/step - accuracy: 0.9167 - loss: 0.2254 - val_accuracy: 0.9028 - val_loss: 0.2807 - learning_rate: 0.0016\n",
            "Epoch 18/50\n",
            "\u001b[1m1719/1719\u001b[0m \u001b[32m━━━━━━━━━━━━━━━━━━━━\u001b[0m\u001b[37m\u001b[0m \u001b[1m5s\u001b[0m 3ms/step - accuracy: 0.9153 - loss: 0.2177 - val_accuracy: 0.9042 - val_loss: 0.2722 - learning_rate: 0.0014\n",
            "Epoch 19/50\n",
            "\u001b[1m1719/1719\u001b[0m \u001b[32m━━━━━━━━━━━━━━━━━━━━\u001b[0m\u001b[37m\u001b[0m \u001b[1m5s\u001b[0m 3ms/step - accuracy: 0.9186 - loss: 0.2185 - val_accuracy: 0.9046 - val_loss: 0.2769 - learning_rate: 0.0013\n",
            "Epoch 20/50\n",
            "\u001b[1m1719/1719\u001b[0m \u001b[32m━━━━━━━━━━━━━━━━━━━━\u001b[0m\u001b[37m\u001b[0m \u001b[1m5s\u001b[0m 3ms/step - accuracy: 0.9194 - loss: 0.2127 - val_accuracy: 0.9026 - val_loss: 0.2794 - learning_rate: 0.0011\n",
            "Epoch 21/50\n",
            "\u001b[1m1719/1719\u001b[0m \u001b[32m━━━━━━━━━━━━━━━━━━━━\u001b[0m\u001b[37m\u001b[0m \u001b[1m6s\u001b[0m 3ms/step - accuracy: 0.9176 - loss: 0.2121 - val_accuracy: 0.9034 - val_loss: 0.2773 - learning_rate: 0.0010\n",
            "Epoch 22/50\n",
            "\u001b[1m1719/1719\u001b[0m \u001b[32m━━━━━━━━━━━━━━━━━━━━\u001b[0m\u001b[37m\u001b[0m \u001b[1m10s\u001b[0m 3ms/step - accuracy: 0.9233 - loss: 0.2025 - val_accuracy: 0.9024 - val_loss: 0.2821 - learning_rate: 8.9125e-04\n",
            "Epoch 23/50\n",
            "\u001b[1m1719/1719\u001b[0m \u001b[32m━━━━━━━━━━━━━━━━━━━━\u001b[0m\u001b[37m\u001b[0m \u001b[1m5s\u001b[0m 3ms/step - accuracy: 0.9236 - loss: 0.2013 - val_accuracy: 0.9044 - val_loss: 0.2801 - learning_rate: 7.9433e-04\n",
            "Epoch 24/50\n",
            "\u001b[1m1719/1719\u001b[0m \u001b[32m━━━━━━━━━━━━━━━━━━━━\u001b[0m\u001b[37m\u001b[0m \u001b[1m5s\u001b[0m 3ms/step - accuracy: 0.9251 - loss: 0.1985 - val_accuracy: 0.9044 - val_loss: 0.2797 - learning_rate: 7.0795e-04\n",
            "Epoch 25/50\n",
            "\u001b[1m1719/1719\u001b[0m \u001b[32m━━━━━━━━━━━━━━━━━━━━\u001b[0m\u001b[37m\u001b[0m \u001b[1m6s\u001b[0m 3ms/step - accuracy: 0.9242 - loss: 0.2000 - val_accuracy: 0.9048 - val_loss: 0.2818 - learning_rate: 6.3096e-04\n",
            "Epoch 26/50\n",
            "\u001b[1m1719/1719\u001b[0m \u001b[32m━━━━━━━━━━━━━━━━━━━━\u001b[0m\u001b[37m\u001b[0m \u001b[1m10s\u001b[0m 3ms/step - accuracy: 0.9243 - loss: 0.1982 - val_accuracy: 0.9050 - val_loss: 0.2827 - learning_rate: 5.6234e-04\n",
            "Epoch 27/50\n",
            "\u001b[1m1719/1719\u001b[0m \u001b[32m━━━━━━━━━━━━━━━━━━━━\u001b[0m\u001b[37m\u001b[0m \u001b[1m9s\u001b[0m 3ms/step - accuracy: 0.9284 - loss: 0.1890 - val_accuracy: 0.9054 - val_loss: 0.2836 - learning_rate: 5.0119e-04\n",
            "Epoch 28/50\n",
            "\u001b[1m1719/1719\u001b[0m \u001b[32m━━━━━━━━━━━━━━━━━━━━\u001b[0m\u001b[37m\u001b[0m \u001b[1m6s\u001b[0m 3ms/step - accuracy: 0.9275 - loss: 0.1927 - val_accuracy: 0.9060 - val_loss: 0.2858 - learning_rate: 4.4668e-04\n"
          ]
        }
      ]
    },
    {
      "cell_type": "markdown",
      "source": [
        "📈 6. Visualisasi Learning Curve"
      ],
      "metadata": {
        "id": "9gT3xHd8Bwao"
      }
    },
    {
      "cell_type": "code",
      "source": [
        "import pandas as pd\n",
        "import matplotlib.pyplot as plt\n",
        "\n",
        "pd.DataFrame(history.history).plot(figsize=(8, 5))\n",
        "plt.grid(True)\n",
        "plt.xlabel(\"Epochs\")\n",
        "plt.ylabel(\"Loss / Accuracy\")\n",
        "plt.title(\"Training vs Validation\")\n",
        "plt.show()"
      ],
      "metadata": {
        "colab": {
          "base_uri": "https://localhost:8080/",
          "height": 487
        },
        "id": "XnM2AJ7oBzgF",
        "outputId": "c680fca3-a9e7-484a-e1a8-2c205e11a428"
      },
      "execution_count": 13,
      "outputs": [
        {
          "output_type": "display_data",
          "data": {
            "text/plain": [
              "<Figure size 800x500 with 1 Axes>"
            ],
            "image/png": "[encoded data removed]"
          },
          "metadata": {}
        }
      ]
    },
    {
      "cell_type": "markdown",
      "source": [
        "📊 7. Evaluasi Model Terbaik"
      ],
      "metadata": {
        "id": "WaLdKaesB0Wh"
      }
    },
    {
      "cell_type": "code",
      "source": [
        "# Muat kembali model terbaik\n",
        "from keras.models import load_model\n",
        "best_model = load_model(\"best_model.keras\")\n",
        "\n",
        "test_loss, test_acc = best_model.evaluate(X_test, y_test)\n",
        "print(\"Akurasi pada data test:\", test_acc)"
      ],
      "metadata": {
        "colab": {
          "base_uri": "https://localhost:8080/"
        },
        "id": "fl4BSJw-B1xS",
        "outputId": "e8cee6e3-52f6-4932-e1be-702628962876"
      },
      "execution_count": 14,
      "outputs": [
        {
          "output_type": "stream",
          "name": "stdout",
          "text": [
            "\u001b[1m313/313\u001b[0m \u001b[32m━━━━━━━━━━━━━━━━━━━━\u001b[0m\u001b[37m\u001b[0m \u001b[1m2s\u001b[0m 4ms/step - accuracy: 0.8980 - loss: 0.3071\n",
            "Akurasi pada data test: 0.899399995803833\n"
          ]
        }
      ]
    },
    {
      "cell_type": "markdown",
      "source": [
        "🔍 8. Prediksi (Opsional)"
      ],
      "metadata": {
        "id": "lqFkA__FB3cW"
      }
    },
    {
      "cell_type": "code",
      "source": [
        "import numpy as np\n",
        "\n",
        "X_sample = X_test[:5]\n",
        "y_proba = best_model.predict(X_sample)\n",
        "y_pred = np.argmax(y_proba, axis=1)\n",
        "\n",
        "print(\"Prediksi label:\", y_pred)\n",
        "print(\"Label asli    :\", y_test[:5])"
      ],
      "metadata": {
        "colab": {
          "base_uri": "https://localhost:8080/"
        },
        "id": "3spnI907B5Ox",
        "outputId": "14380769-d26a-400f-97a8-a99b44c3f1b4"
      },
      "execution_count": 15,
      "outputs": [
        {
          "output_type": "stream",
          "name": "stdout",
          "text": [
            "\u001b[1m1/1\u001b[0m \u001b[32m━━━━━━━━━━━━━━━━━━━━\u001b[0m\u001b[37m\u001b[0m \u001b[1m0s\u001b[0m 277ms/step\n",
            "Prediksi label: [9 2 1 1 6]\n",
            "Label asli    : [9 2 1 1 6]\n"
          ]
        }
      ]
    },
    {
      "cell_type": "markdown",
      "source": [
        "## ✅ Catatan:\n",
        "\n",
        "* Kombinasi He initialization, BatchNorm, Dropout, Adam, dan EarlyStopping adalah **praktik standar** saat ini untuk jaringan saraf dalam.\n",
        "* **BatchNormalization** sering kali meningkatkan stabilitas dan mempercepat konvergensi.\n",
        "* **ModelCheckpoint** dan **EarlyStopping** sangat penting untuk produksi.\n"
      ],
      "metadata": {
        "id": "AGICfsj0B61n"
      }
    }
  ]
}