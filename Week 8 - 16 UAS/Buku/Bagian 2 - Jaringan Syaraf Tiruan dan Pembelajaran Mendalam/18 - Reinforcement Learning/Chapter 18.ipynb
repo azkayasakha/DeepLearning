{
  "cells": [
    {
      "cell_type": "markdown",
      "source": [
        "🧩 A. FrozenLake-v1 – Tabular Q-Learning"
      ],
      "metadata": {
        "id": "Cfzs-mYHVVYj"
      }
    },
    {
      "cell_type": "markdown",
      "source": [
        "1️⃣ Setup & Inisialisasi"
      ],
      "metadata": {
        "id": "_7g9Uc_OVWFm"
      }
    },
    {
      "cell_type": "code",
      "source": [
        "import gym\n",
        "import numpy as np\n",
        "import matplotlib.pyplot as plt\n",
        "\n",
        "env = gym.make(\"FrozenLake-v1\", is_slippery=False)  # Tidak licin (lebih deterministik)\n",
        "n_states = env.observation_space.n\n",
        "n_actions = env.action_space.n\n",
        "\n",
        "Q = np.zeros((n_states, n_actions))\n",
        "\n",
        "alpha = 0.1\n",
        "gamma = 0.99\n",
        "epsilon = 1.0\n",
        "epsilon_min = 0.05\n",
        "epsilon_decay = 0.995\n",
        "\n",
        "n_episodes = 2000\n",
        "max_steps = 100\n",
        "rewards_per_episode = []"
      ],
      "metadata": {
        "id": "9Ccxh0zqVagp"
      },
      "execution_count": 28,
      "outputs": []
    },
    {
      "cell_type": "markdown",
      "source": [
        "2️⃣ Training Loop"
      ],
      "metadata": {
        "id": "bf4Q5Zd6VdnW"
      }
    },
    {
      "cell_type": "code",
      "source": [
        "for episode in range(n_episodes):\n",
        "    reset_result = env.reset()\n",
        "    state = reset_result[0] if isinstance(reset_result, tuple) else reset_result\n",
        "    total_reward = 0\n",
        "\n",
        "    for step in range(max_steps):\n",
        "        if np.random.rand() < epsilon:\n",
        "            action = env.action_space.sample()\n",
        "        else:\n",
        "            action = np.argmax(Q[state])\n",
        "\n",
        "        next_state, reward, done, _ = env.step(action)\n",
        "        if done:\n",
        "          break\n",
        "\n",
        "        Q[state, action] += alpha * (reward + gamma * np.max(Q[next_state]) - Q[state, action])\n",
        "        state = next_state\n",
        "        total_reward += reward\n",
        "\n",
        "        if done:\n",
        "            break\n",
        "\n",
        "    rewards_per_episode.append(total_reward)\n",
        "\n",
        "    if epsilon > epsilon_min:\n",
        "        epsilon *= epsilon_decay\n",
        "\n",
        "    if (episode + 1) % 100 == 0:\n",
        "        avg = np.mean(rewards_per_episode[-100:])\n",
        "        print(f\"Episode {episode+1}, avg reward (100): {avg:.2f}, epsilon: {epsilon:.3f}\")"
      ],
      "metadata": {
        "colab": {
          "base_uri": "https://localhost:8080/"
        },
        "id": "zNU7h6M-Vei3",
        "outputId": "a0ebab49-ff34-4f50-ce37-1e8f49287d7c"
      },
      "execution_count": 33,
      "outputs": [
        {
          "output_type": "stream",
          "name": "stdout",
          "text": [
            "Episode 100, avg reward (100): 0.00, epsilon: 0.606\n",
            "Episode 200, avg reward (100): 0.00, epsilon: 0.367\n",
            "Episode 300, avg reward (100): 0.00, epsilon: 0.222\n",
            "Episode 400, avg reward (100): 0.00, epsilon: 0.135\n",
            "Episode 500, avg reward (100): 0.00, epsilon: 0.082\n",
            "Episode 600, avg reward (100): 0.00, epsilon: 0.050\n",
            "Episode 700, avg reward (100): 0.00, epsilon: 0.050\n",
            "Episode 800, avg reward (100): 0.00, epsilon: 0.050\n",
            "Episode 900, avg reward (100): 0.00, epsilon: 0.050\n",
            "Episode 1000, avg reward (100): 0.00, epsilon: 0.050\n",
            "Episode 1100, avg reward (100): 0.00, epsilon: 0.050\n",
            "Episode 1200, avg reward (100): 0.00, epsilon: 0.050\n",
            "Episode 1300, avg reward (100): 0.00, epsilon: 0.050\n",
            "Episode 1400, avg reward (100): 0.00, epsilon: 0.050\n",
            "Episode 1500, avg reward (100): 0.00, epsilon: 0.050\n",
            "Episode 1600, avg reward (100): 0.00, epsilon: 0.050\n",
            "Episode 1700, avg reward (100): 0.00, epsilon: 0.050\n",
            "Episode 1800, avg reward (100): 0.00, epsilon: 0.050\n",
            "Episode 1900, avg reward (100): 0.00, epsilon: 0.050\n",
            "Episode 2000, avg reward (100): 0.00, epsilon: 0.050\n"
          ]
        }
      ]
    },
    {
      "cell_type": "markdown",
      "source": [
        "3️⃣ Evaluasi Agen"
      ],
      "metadata": {
        "id": "yfMtjiLgWVe8"
      }
    },
    {
      "cell_type": "code",
      "source": [
        "print(\"\\n=== Evaluasi Agen ===\")\n",
        "wins = 0\n",
        "for _ in range(100):\n",
        "    reset_result = env.reset()\n",
        "    state = reset_result[0] if isinstance(reset_result, tuple) else reset_result\n",
        "    for _ in range(max_steps):\n",
        "        action = np.argmax(Q[state])\n",
        "        next_state, reward, done, _ = env.step(action)\n",
        "        if done:\n",
        "            break\n",
        "        state = next_state\n",
        "        if done:\n",
        "            wins += reward\n",
        "            break\n",
        "\n",
        "print(f\"Akurasi menang: {wins}%\")"
      ],
      "metadata": {
        "colab": {
          "base_uri": "https://localhost:8080/"
        },
        "id": "B8ZrIK-TWWnK",
        "outputId": "35b1ba47-81f4-402e-fbec-c766a712a29b"
      },
      "execution_count": 36,
      "outputs": [
        {
          "output_type": "stream",
          "name": "stdout",
          "text": [
            "\n",
            "=== Evaluasi Agen ===\n",
            "Akurasi menang: 0%\n"
          ]
        }
      ]
    },
    {
      "cell_type": "markdown",
      "source": [
        "4️⃣ Visualisasi Hasil"
      ],
      "metadata": {
        "id": "3qWWdAX7Wokk"
      }
    },
    {
      "cell_type": "code",
      "source": [
        "plt.plot(rewards_per_episode)\n",
        "plt.title(\"Reward per Episode\")\n",
        "plt.xlabel(\"Episode\")\n",
        "plt.ylabel(\"Reward\")\n",
        "plt.grid(True)\n",
        "plt.show()"
      ],
      "metadata": {
        "colab": {
          "base_uri": "https://localhost:8080/",
          "height": 472
        },
        "id": "XsNX2pmqWo9l",
        "outputId": "6c325ff7-d85d-45d2-8f5d-db4b72589b4b"
      },
      "execution_count": 37,
      "outputs": [
        {
          "output_type": "display_data",
          "data": {
            "text/plain": [
              "<Figure size 640x480 with 1 Axes>"
            ],
            "image/png": "[encoded data removed]"
          },
          "metadata": {}
        }
      ]
    },
    {
      "cell_type": "markdown",
      "source": [
        "🎮 B. CartPole-v1 – Deep Q-Network (DQN)"
      ],
      "metadata": {
        "id": "suCqqse7WudT"
      }
    },
    {
      "cell_type": "markdown",
      "source": [
        "1️⃣ Setup & Q-Network"
      ],
      "metadata": {
        "id": "r87vMCZHW0Sz"
      }
    },
    {
      "cell_type": "code",
      "source": [
        "import gym\n",
        "import numpy as np\n",
        "import tensorflow as tf\n",
        "from tensorflow import keras\n",
        "from collections import deque\n",
        "import random\n",
        "\n",
        "env = gym.make(\"CartPole-v1\", render_mode=None)\n",
        "obs_shape = env.observation_space.shape[0]\n",
        "n_actions = env.action_space.n\n",
        "\n",
        "def build_q_model():\n",
        "    return keras.Sequential([\n",
        "        keras.layers.Dense(32, activation=\"relu\", input_shape=[obs_shape]),\n",
        "        keras.layers.Dense(32, activation=\"relu\"),\n",
        "        keras.layers.Dense(n_actions)\n",
        "    ])\n",
        "\n",
        "model = build_q_model()\n",
        "target_model = build_q_model()\n",
        "target_model.set_weights(model.get_weights())"
      ],
      "metadata": {
        "id": "3tkt6ymvW2PC"
      },
      "execution_count": 38,
      "outputs": []
    },
    {
      "cell_type": "markdown",
      "source": [
        "2️⃣ Replay Buffer & Sampling"
      ],
      "metadata": {
        "id": "KujyZao4W6G-"
      }
    },
    {
      "cell_type": "code",
      "source": [
        "replay_buffer = deque(maxlen=2000)\n",
        "batch_size = 64\n",
        "\n",
        "def sample_experience():\n",
        "    minibatch = random.sample(replay_buffer, batch_size)\n",
        "    states = np.array([exp[0] for exp in minibatch], dtype=np.float32)\n",
        "    actions = np.array([exp[1] for exp in minibatch])\n",
        "    rewards = np.array([exp[2] for exp in minibatch])\n",
        "    next_states = np.array([exp[3] for exp in minibatch], dtype=np.float32)\n",
        "    dones = np.array([exp[4] for exp in minibatch], dtype=np.float32)\n",
        "    return states, actions, rewards, next_states, dones"
      ],
      "metadata": {
        "id": "SRcpySDiW67U"
      },
      "execution_count": 39,
      "outputs": []
    },
    {
      "cell_type": "markdown",
      "source": [
        "3️⃣ Hyperparameters"
      ],
      "metadata": {
        "id": "ku60Iv2pW9PW"
      }
    },
    {
      "cell_type": "code",
      "source": [
        "gamma = 0.99\n",
        "epsilon = 1.0\n",
        "epsilon_min = 0.05\n",
        "epsilon_decay = 0.995\n",
        "optimizer = keras.optimizers.Adam(learning_rate=0.001)\n",
        "loss_fn = keras.losses.MeanSquaredError()"
      ],
      "metadata": {
        "id": "VIpCznhXW-OB"
      },
      "execution_count": 40,
      "outputs": []
    },
    {
      "cell_type": "markdown",
      "source": [
        "4️⃣ Training Loop"
      ],
      "metadata": {
        "id": "YGbeGURCXAcP"
      }
    },
    {
      "cell_type": "code",
      "source": [
        "n_episodes = 300\n",
        "\n",
        "for episode in range(n_episodes):\n",
        "    reset_result = env.reset()\n",
        "    state = reset_result[0] if isinstance(reset_result, tuple) else reset_result\n",
        "    total_reward = 0\n",
        "\n",
        "    for step in range(200):\n",
        "        if np.random.rand() < epsilon:\n",
        "            action = env.action_space.sample()\n",
        "        else:\n",
        "            q_values = model.predict(state.reshape(1, -1), verbose=0)\n",
        "            action = np.argmax(q_values[0])\n",
        "\n",
        "        next_state, reward, done, _ = env.step(action)\n",
        "        if done:\n",
        "            break\n",
        "        total_reward += reward\n",
        "\n",
        "        replay_buffer.append((\n",
        "            np.array(state, dtype=np.float32),\n",
        "            action,\n",
        "            reward,\n",
        "            np.array(next_state, dtype=np.float32),\n",
        "            done\n",
        "        ))\n",
        "\n",
        "        state = next_state\n",
        "\n",
        "        if len(replay_buffer) >= batch_size:\n",
        "            states, actions, rewards, next_states, dones = sample_experience()\n",
        "            next_qs = target_model.predict(next_states, verbose=0)\n",
        "            max_next_q = np.max(next_qs, axis=1)\n",
        "            target_q = rewards + (1 - dones) * gamma * max_next_q\n",
        "\n",
        "            masks = tf.one_hot(actions, n_actions)\n",
        "\n",
        "            with tf.GradientTape() as tape:\n",
        "                all_qs = model(states)\n",
        "                selected_q = tf.reduce_sum(all_qs * masks, axis=1)\n",
        "                loss = loss_fn(target_q, selected_q)\n",
        "\n",
        "            grads = tape.gradient(loss, model.trainable_variables)\n",
        "            optimizer.apply_gradients(zip(grads, model.trainable_variables))\n",
        "\n",
        "        if done:\n",
        "            break\n",
        "\n",
        "    if episode % 10 == 0:\n",
        "        target_model.set_weights(model.get_weights())\n",
        "\n",
        "    if epsilon > epsilon_min:\n",
        "        epsilon *= epsilon_decay\n",
        "\n",
        "    print(f\"Episode {episode+1}, Reward: {total_reward:.0f}, Epsilon: {epsilon:.3f}\")"
      ],
      "metadata": {
        "colab": {
          "base_uri": "https://localhost:8080/"
        },
        "id": "eHgwSXXfXCZg",
        "outputId": "4db08ec3-8ac1-47f1-d4ac-1c0332c9f6ea"
      },
      "execution_count": 43,
      "outputs": [
        {
          "output_type": "stream",
          "name": "stdout",
          "text": [
            "Episode 1, Reward: 19, Epsilon: 0.995\n",
            "Episode 2, Reward: 9, Epsilon: 0.990\n",
            "Episode 3, Reward: 19, Epsilon: 0.985\n",
            "Episode 4, Reward: 21, Epsilon: 0.980\n",
            "Episode 5, Reward: 31, Epsilon: 0.975\n",
            "Episode 6, Reward: 15, Epsilon: 0.970\n",
            "Episode 7, Reward: 11, Epsilon: 0.966\n",
            "Episode 8, Reward: 14, Epsilon: 0.961\n",
            "Episode 9, Reward: 46, Epsilon: 0.956\n",
            "Episode 10, Reward: 10, Epsilon: 0.951\n",
            "Episode 11, Reward: 12, Epsilon: 0.946\n",
            "Episode 12, Reward: 27, Epsilon: 0.942\n",
            "Episode 13, Reward: 25, Epsilon: 0.937\n",
            "Episode 14, Reward: 12, Epsilon: 0.932\n",
            "Episode 15, Reward: 8, Epsilon: 0.928\n",
            "Episode 16, Reward: 20, Epsilon: 0.923\n",
            "Episode 17, Reward: 16, Epsilon: 0.918\n",
            "Episode 18, Reward: 25, Epsilon: 0.914\n",
            "Episode 19, Reward: 8, Epsilon: 0.909\n",
            "Episode 20, Reward: 36, Epsilon: 0.905\n",
            "Episode 21, Reward: 20, Epsilon: 0.900\n",
            "Episode 22, Reward: 10, Epsilon: 0.896\n",
            "Episode 23, Reward: 50, Epsilon: 0.891\n",
            "Episode 24, Reward: 13, Epsilon: 0.887\n",
            "Episode 25, Reward: 7, Epsilon: 0.882\n",
            "Episode 26, Reward: 25, Epsilon: 0.878\n",
            "Episode 27, Reward: 13, Epsilon: 0.873\n",
            "Episode 28, Reward: 10, Epsilon: 0.869\n",
            "Episode 29, Reward: 15, Epsilon: 0.865\n",
            "Episode 30, Reward: 25, Epsilon: 0.860\n",
            "Episode 31, Reward: 16, Epsilon: 0.856\n",
            "Episode 32, Reward: 8, Epsilon: 0.852\n",
            "Episode 33, Reward: 17, Epsilon: 0.848\n",
            "Episode 34, Reward: 16, Epsilon: 0.843\n",
            "Episode 35, Reward: 12, Epsilon: 0.839\n",
            "Episode 36, Reward: 13, Epsilon: 0.835\n",
            "Episode 37, Reward: 11, Epsilon: 0.831\n",
            "Episode 38, Reward: 15, Epsilon: 0.827\n",
            "Episode 39, Reward: 9, Epsilon: 0.822\n",
            "Episode 40, Reward: 20, Epsilon: 0.818\n",
            "Episode 41, Reward: 34, Epsilon: 0.814\n",
            "Episode 42, Reward: 11, Epsilon: 0.810\n",
            "Episode 43, Reward: 14, Epsilon: 0.806\n",
            "Episode 44, Reward: 12, Epsilon: 0.802\n",
            "Episode 45, Reward: 21, Epsilon: 0.798\n",
            "Episode 46, Reward: 10, Epsilon: 0.794\n",
            "Episode 47, Reward: 14, Epsilon: 0.790\n",
            "Episode 48, Reward: 14, Epsilon: 0.786\n",
            "Episode 49, Reward: 12, Epsilon: 0.782\n",
            "Episode 50, Reward: 14, Epsilon: 0.778\n",
            "Episode 51, Reward: 11, Epsilon: 0.774\n",
            "Episode 52, Reward: 21, Epsilon: 0.771\n",
            "Episode 53, Reward: 13, Epsilon: 0.767\n",
            "Episode 54, Reward: 9, Epsilon: 0.763\n",
            "Episode 55, Reward: 15, Epsilon: 0.759\n",
            "Episode 56, Reward: 49, Epsilon: 0.755\n",
            "Episode 57, Reward: 10, Epsilon: 0.751\n",
            "Episode 58, Reward: 13, Epsilon: 0.748\n",
            "Episode 59, Reward: 14, Epsilon: 0.744\n",
            "Episode 60, Reward: 16, Epsilon: 0.740\n",
            "Episode 61, Reward: 10, Epsilon: 0.737\n",
            "Episode 62, Reward: 15, Epsilon: 0.733\n",
            "Episode 63, Reward: 18, Epsilon: 0.729\n",
            "Episode 64, Reward: 10, Epsilon: 0.726\n",
            "Episode 65, Reward: 10, Epsilon: 0.722\n",
            "Episode 66, Reward: 11, Epsilon: 0.718\n",
            "Episode 67, Reward: 13, Epsilon: 0.715\n",
            "Episode 68, Reward: 15, Epsilon: 0.711\n",
            "Episode 69, Reward: 12, Epsilon: 0.708\n",
            "Episode 70, Reward: 17, Epsilon: 0.704\n",
            "Episode 71, Reward: 9, Epsilon: 0.701\n",
            "Episode 72, Reward: 14, Epsilon: 0.697\n",
            "Episode 73, Reward: 21, Epsilon: 0.694\n",
            "Episode 74, Reward: 15, Epsilon: 0.690\n",
            "Episode 75, Reward: 13, Epsilon: 0.687\n",
            "Episode 76, Reward: 13, Epsilon: 0.683\n",
            "Episode 77, Reward: 11, Epsilon: 0.680\n",
            "Episode 78, Reward: 20, Epsilon: 0.676\n",
            "Episode 79, Reward: 10, Epsilon: 0.673\n",
            "Episode 80, Reward: 13, Epsilon: 0.670\n",
            "Episode 81, Reward: 10, Epsilon: 0.666\n",
            "Episode 82, Reward: 15, Epsilon: 0.663\n",
            "Episode 83, Reward: 8, Epsilon: 0.660\n",
            "Episode 84, Reward: 13, Epsilon: 0.656\n",
            "Episode 85, Reward: 16, Epsilon: 0.653\n",
            "Episode 86, Reward: 10, Epsilon: 0.650\n",
            "Episode 87, Reward: 16, Epsilon: 0.647\n",
            "Episode 88, Reward: 8, Epsilon: 0.643\n",
            "Episode 89, Reward: 11, Epsilon: 0.640\n",
            "Episode 90, Reward: 10, Epsilon: 0.637\n",
            "Episode 91, Reward: 10, Epsilon: 0.634\n",
            "Episode 92, Reward: 12, Epsilon: 0.631\n",
            "Episode 93, Reward: 12, Epsilon: 0.627\n",
            "Episode 94, Reward: 26, Epsilon: 0.624\n",
            "Episode 95, Reward: 11, Epsilon: 0.621\n",
            "Episode 96, Reward: 10, Epsilon: 0.618\n",
            "Episode 97, Reward: 13, Epsilon: 0.615\n",
            "Episode 98, Reward: 16, Epsilon: 0.612\n",
            "Episode 99, Reward: 17, Epsilon: 0.609\n",
            "Episode 100, Reward: 12, Epsilon: 0.606\n",
            "Episode 101, Reward: 39, Epsilon: 0.603\n",
            "Episode 102, Reward: 9, Epsilon: 0.600\n",
            "Episode 103, Reward: 17, Epsilon: 0.597\n",
            "Episode 104, Reward: 8, Epsilon: 0.594\n",
            "Episode 105, Reward: 19, Epsilon: 0.591\n",
            "Episode 106, Reward: 15, Epsilon: 0.588\n",
            "Episode 107, Reward: 13, Epsilon: 0.585\n",
            "Episode 108, Reward: 7, Epsilon: 0.582\n",
            "Episode 109, Reward: 9, Epsilon: 0.579\n",
            "Episode 110, Reward: 9, Epsilon: 0.576\n",
            "Episode 111, Reward: 14, Epsilon: 0.573\n",
            "Episode 112, Reward: 9, Epsilon: 0.570\n",
            "Episode 113, Reward: 17, Epsilon: 0.568\n",
            "Episode 114, Reward: 8, Epsilon: 0.565\n",
            "Episode 115, Reward: 11, Epsilon: 0.562\n",
            "Episode 116, Reward: 8, Epsilon: 0.559\n",
            "Episode 117, Reward: 10, Epsilon: 0.556\n",
            "Episode 118, Reward: 9, Epsilon: 0.554\n",
            "Episode 119, Reward: 10, Epsilon: 0.551\n",
            "Episode 120, Reward: 13, Epsilon: 0.548\n",
            "Episode 121, Reward: 8, Epsilon: 0.545\n",
            "Episode 122, Reward: 8, Epsilon: 0.543\n",
            "Episode 123, Reward: 11, Epsilon: 0.540\n",
            "Episode 124, Reward: 12, Epsilon: 0.537\n",
            "Episode 125, Reward: 13, Epsilon: 0.534\n",
            "Episode 126, Reward: 8, Epsilon: 0.532\n",
            "Episode 127, Reward: 9, Epsilon: 0.529\n",
            "Episode 128, Reward: 15, Epsilon: 0.526\n",
            "Episode 129, Reward: 13, Epsilon: 0.524\n",
            "Episode 130, Reward: 13, Epsilon: 0.521\n",
            "Episode 131, Reward: 10, Epsilon: 0.519\n",
            "Episode 132, Reward: 18, Epsilon: 0.516\n",
            "Episode 133, Reward: 12, Epsilon: 0.513\n",
            "Episode 134, Reward: 11, Epsilon: 0.511\n",
            "Episode 135, Reward: 11, Epsilon: 0.508\n",
            "Episode 136, Reward: 8, Epsilon: 0.506\n",
            "Episode 137, Reward: 12, Epsilon: 0.503\n",
            "Episode 138, Reward: 13, Epsilon: 0.501\n",
            "Episode 139, Reward: 14, Epsilon: 0.498\n",
            "Episode 140, Reward: 14, Epsilon: 0.496\n",
            "Episode 141, Reward: 11, Epsilon: 0.493\n",
            "Episode 142, Reward: 9, Epsilon: 0.491\n",
            "Episode 143, Reward: 14, Epsilon: 0.488\n",
            "Episode 144, Reward: 11, Epsilon: 0.486\n",
            "Episode 145, Reward: 10, Epsilon: 0.483\n",
            "Episode 146, Reward: 10, Epsilon: 0.481\n",
            "Episode 147, Reward: 8, Epsilon: 0.479\n",
            "Episode 148, Reward: 8, Epsilon: 0.476\n",
            "Episode 149, Reward: 11, Epsilon: 0.474\n",
            "Episode 150, Reward: 11, Epsilon: 0.471\n",
            "Episode 151, Reward: 11, Epsilon: 0.469\n",
            "Episode 152, Reward: 9, Epsilon: 0.467\n",
            "Episode 153, Reward: 13, Epsilon: 0.464\n",
            "Episode 154, Reward: 11, Epsilon: 0.462\n",
            "Episode 155, Reward: 7, Epsilon: 0.460\n",
            "Episode 156, Reward: 9, Epsilon: 0.458\n",
            "Episode 157, Reward: 11, Epsilon: 0.455\n",
            "Episode 158, Reward: 10, Epsilon: 0.453\n",
            "Episode 159, Reward: 11, Epsilon: 0.451\n",
            "Episode 160, Reward: 8, Epsilon: 0.448\n",
            "Episode 161, Reward: 10, Epsilon: 0.446\n",
            "Episode 162, Reward: 12, Epsilon: 0.444\n",
            "Episode 163, Reward: 10, Epsilon: 0.442\n",
            "Episode 164, Reward: 10, Epsilon: 0.440\n",
            "Episode 165, Reward: 12, Epsilon: 0.437\n",
            "Episode 166, Reward: 9, Epsilon: 0.435\n",
            "Episode 167, Reward: 13, Epsilon: 0.433\n",
            "Episode 168, Reward: 10, Epsilon: 0.431\n",
            "Episode 169, Reward: 9, Epsilon: 0.429\n",
            "Episode 170, Reward: 7, Epsilon: 0.427\n",
            "Episode 171, Reward: 9, Epsilon: 0.424\n",
            "Episode 172, Reward: 8, Epsilon: 0.422\n",
            "Episode 173, Reward: 16, Epsilon: 0.420\n",
            "Episode 174, Reward: 8, Epsilon: 0.418\n",
            "Episode 175, Reward: 8, Epsilon: 0.416\n",
            "Episode 176, Reward: 10, Epsilon: 0.414\n",
            "Episode 177, Reward: 11, Epsilon: 0.412\n",
            "Episode 178, Reward: 9, Epsilon: 0.410\n",
            "Episode 179, Reward: 10, Epsilon: 0.408\n",
            "Episode 180, Reward: 9, Epsilon: 0.406\n",
            "Episode 181, Reward: 7, Epsilon: 0.404\n",
            "Episode 182, Reward: 12, Epsilon: 0.402\n",
            "Episode 183, Reward: 11, Epsilon: 0.400\n",
            "Episode 184, Reward: 9, Epsilon: 0.398\n",
            "Episode 185, Reward: 13, Epsilon: 0.396\n",
            "Episode 186, Reward: 9, Epsilon: 0.394\n",
            "Episode 187, Reward: 12, Epsilon: 0.392\n",
            "Episode 188, Reward: 12, Epsilon: 0.390\n",
            "Episode 189, Reward: 13, Epsilon: 0.388\n",
            "Episode 190, Reward: 12, Epsilon: 0.386\n",
            "Episode 191, Reward: 21, Epsilon: 0.384\n",
            "Episode 192, Reward: 8, Epsilon: 0.382\n",
            "Episode 193, Reward: 9, Epsilon: 0.380\n",
            "Episode 194, Reward: 8, Epsilon: 0.378\n",
            "Episode 195, Reward: 8, Epsilon: 0.376\n",
            "Episode 196, Reward: 12, Epsilon: 0.374\n",
            "Episode 197, Reward: 10, Epsilon: 0.373\n",
            "Episode 198, Reward: 10, Epsilon: 0.371\n",
            "Episode 199, Reward: 10, Epsilon: 0.369\n",
            "Episode 200, Reward: 9, Epsilon: 0.367\n",
            "Episode 201, Reward: 15, Epsilon: 0.365\n",
            "Episode 202, Reward: 13, Epsilon: 0.363\n",
            "Episode 203, Reward: 10, Epsilon: 0.361\n",
            "Episode 204, Reward: 12, Epsilon: 0.360\n",
            "Episode 205, Reward: 8, Epsilon: 0.358\n",
            "Episode 206, Reward: 11, Epsilon: 0.356\n",
            "Episode 207, Reward: 8, Epsilon: 0.354\n",
            "Episode 208, Reward: 13, Epsilon: 0.353\n",
            "Episode 209, Reward: 9, Epsilon: 0.351\n",
            "Episode 210, Reward: 9, Epsilon: 0.349\n",
            "Episode 211, Reward: 14, Epsilon: 0.347\n",
            "Episode 212, Reward: 10, Epsilon: 0.346\n",
            "Episode 213, Reward: 12, Epsilon: 0.344\n",
            "Episode 214, Reward: 8, Epsilon: 0.342\n",
            "Episode 215, Reward: 10, Epsilon: 0.340\n",
            "Episode 216, Reward: 8, Epsilon: 0.339\n",
            "Episode 217, Reward: 11, Epsilon: 0.337\n",
            "Episode 218, Reward: 9, Epsilon: 0.335\n",
            "Episode 219, Reward: 9, Epsilon: 0.334\n",
            "Episode 220, Reward: 9, Epsilon: 0.332\n",
            "Episode 221, Reward: 13, Epsilon: 0.330\n",
            "Episode 222, Reward: 11, Epsilon: 0.329\n",
            "Episode 223, Reward: 10, Epsilon: 0.327\n",
            "Episode 224, Reward: 9, Epsilon: 0.325\n",
            "Episode 225, Reward: 9, Epsilon: 0.324\n",
            "Episode 226, Reward: 9, Epsilon: 0.322\n",
            "Episode 227, Reward: 12, Epsilon: 0.321\n",
            "Episode 228, Reward: 10, Epsilon: 0.319\n",
            "Episode 229, Reward: 7, Epsilon: 0.317\n",
            "Episode 230, Reward: 15, Epsilon: 0.316\n",
            "Episode 231, Reward: 8, Epsilon: 0.314\n",
            "Episode 232, Reward: 8, Epsilon: 0.313\n",
            "Episode 233, Reward: 11, Epsilon: 0.311\n",
            "Episode 234, Reward: 10, Epsilon: 0.309\n",
            "Episode 235, Reward: 10, Epsilon: 0.308\n",
            "Episode 236, Reward: 9, Epsilon: 0.306\n",
            "Episode 237, Reward: 13, Epsilon: 0.305\n",
            "Episode 238, Reward: 10, Epsilon: 0.303\n",
            "Episode 239, Reward: 8, Epsilon: 0.302\n",
            "Episode 240, Reward: 15, Epsilon: 0.300\n",
            "Episode 241, Reward: 10, Epsilon: 0.299\n",
            "Episode 242, Reward: 9, Epsilon: 0.297\n",
            "Episode 243, Reward: 8, Epsilon: 0.296\n",
            "Episode 244, Reward: 8, Epsilon: 0.294\n",
            "Episode 245, Reward: 9, Epsilon: 0.293\n",
            "Episode 246, Reward: 9, Epsilon: 0.291\n",
            "Episode 247, Reward: 9, Epsilon: 0.290\n",
            "Episode 248, Reward: 10, Epsilon: 0.288\n",
            "Episode 249, Reward: 8, Epsilon: 0.287\n",
            "Episode 250, Reward: 9, Epsilon: 0.286\n",
            "Episode 251, Reward: 9, Epsilon: 0.284\n",
            "Episode 252, Reward: 12, Epsilon: 0.283\n",
            "Episode 253, Reward: 12, Epsilon: 0.281\n",
            "Episode 254, Reward: 9, Epsilon: 0.280\n",
            "Episode 255, Reward: 8, Epsilon: 0.279\n",
            "Episode 256, Reward: 9, Epsilon: 0.277\n",
            "Episode 257, Reward: 11, Epsilon: 0.276\n",
            "Episode 258, Reward: 13, Epsilon: 0.274\n",
            "Episode 259, Reward: 10, Epsilon: 0.273\n",
            "Episode 260, Reward: 15, Epsilon: 0.272\n",
            "Episode 261, Reward: 12, Epsilon: 0.270\n",
            "Episode 262, Reward: 8, Epsilon: 0.269\n",
            "Episode 263, Reward: 11, Epsilon: 0.268\n",
            "Episode 264, Reward: 10, Epsilon: 0.266\n",
            "Episode 265, Reward: 9, Epsilon: 0.265\n",
            "Episode 266, Reward: 11, Epsilon: 0.264\n",
            "Episode 267, Reward: 9, Epsilon: 0.262\n",
            "Episode 268, Reward: 10, Epsilon: 0.261\n",
            "Episode 269, Reward: 8, Epsilon: 0.260\n",
            "Episode 270, Reward: 12, Epsilon: 0.258\n",
            "Episode 271, Reward: 14, Epsilon: 0.257\n",
            "Episode 272, Reward: 8, Epsilon: 0.256\n",
            "Episode 273, Reward: 7, Epsilon: 0.255\n",
            "Episode 274, Reward: 8, Epsilon: 0.253\n",
            "Episode 275, Reward: 11, Epsilon: 0.252\n",
            "Episode 276, Reward: 9, Epsilon: 0.251\n",
            "Episode 277, Reward: 9, Epsilon: 0.249\n",
            "Episode 278, Reward: 9, Epsilon: 0.248\n",
            "Episode 279, Reward: 9, Epsilon: 0.247\n",
            "Episode 280, Reward: 13, Epsilon: 0.246\n",
            "Episode 281, Reward: 9, Epsilon: 0.245\n",
            "Episode 282, Reward: 8, Epsilon: 0.243\n",
            "Episode 283, Reward: 8, Epsilon: 0.242\n",
            "Episode 284, Reward: 12, Epsilon: 0.241\n",
            "Episode 285, Reward: 10, Epsilon: 0.240\n",
            "Episode 286, Reward: 9, Epsilon: 0.238\n",
            "Episode 287, Reward: 9, Epsilon: 0.237\n",
            "Episode 288, Reward: 8, Epsilon: 0.236\n",
            "Episode 289, Reward: 8, Epsilon: 0.235\n",
            "Episode 290, Reward: 8, Epsilon: 0.234\n",
            "Episode 291, Reward: 8, Epsilon: 0.233\n",
            "Episode 292, Reward: 9, Epsilon: 0.231\n",
            "Episode 293, Reward: 10, Epsilon: 0.230\n",
            "Episode 294, Reward: 10, Epsilon: 0.229\n",
            "Episode 295, Reward: 9, Epsilon: 0.228\n",
            "Episode 296, Reward: 8, Epsilon: 0.227\n",
            "Episode 297, Reward: 11, Epsilon: 0.226\n",
            "Episode 298, Reward: 12, Epsilon: 0.225\n",
            "Episode 299, Reward: 12, Epsilon: 0.223\n",
            "Episode 300, Reward: 9, Epsilon: 0.222\n"
          ]
        }
      ]
    },
    {
      "cell_type": "markdown",
      "source": [
        "5️⃣ Evaluasi Akhir"
      ],
      "metadata": {
        "id": "vsGqWERiXifJ"
      }
    },
    {
      "cell_type": "code",
      "source": [
        "print(\"\\n=== EVALUASI ===\")\n",
        "reset_result = env.reset()\n",
        "state = reset_result[0] if isinstance(reset_result, tuple) else reset_result\n",
        "done = False\n",
        "total_reward = 0\n",
        "\n",
        "while not done:\n",
        "    env.render()\n",
        "    q_values = model.predict(state.reshape(1, -1), verbose=0)\n",
        "    action = np.argmax(q_values[0])\n",
        "    next_state, reward, done, _ = env.step(action)\n",
        "    if done:\n",
        "            break\n",
        "    total_reward += reward\n",
        "\n",
        "print(\"Total reward evaluasi:\", total_reward)\n",
        "env.close()"
      ],
      "metadata": {
        "colab": {
          "base_uri": "https://localhost:8080/"
        },
        "id": "v6cNDsnXXjc5",
        "outputId": "3eb47833-ecb1-4999-9fcb-d1f004d922f7"
      },
      "execution_count": 45,
      "outputs": [
        {
          "output_type": "stream",
          "name": "stdout",
          "text": [
            "\n",
            "=== EVALUASI ===\n",
            "Total reward evaluasi: 9.0\n"
          ]
        }
      ]
    }
  ],
  "metadata": {
    "accelerator": "GPU",
    "colab": {
      "gpuType": "T4",
      "provenance": []
    },
    "kernelspec": {
      "display_name": "Python 3",
      "name": "python3"
    },
    "language_info": {
      "name": "python"
    }
  },
  "nbformat": 4,
  "nbformat_minor": 0
}