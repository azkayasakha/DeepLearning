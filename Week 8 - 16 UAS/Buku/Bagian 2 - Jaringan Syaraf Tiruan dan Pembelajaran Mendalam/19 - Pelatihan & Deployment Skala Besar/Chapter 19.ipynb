{
  "cells": [
    {
      "cell_type": "markdown",
      "source": [
        "🔢 1. Training Terdistribusi dengan MirroredStrategy"
      ],
      "metadata": {
        "id": "1ofa7oIbaiEe"
      }
    },
    {
      "cell_type": "code",
      "source": [
        "import tensorflow as tf\n",
        "from tensorflow import keras\n",
        "import numpy as np\n",
        "\n",
        "# Load dataset\n",
        "(X_train, y_train), (X_test, y_test) = keras.datasets.mnist.load_data()\n",
        "X_train = X_train.astype(\"float32\") / 255.0\n",
        "X_test = X_test.astype(\"float32\") / 255.0\n",
        "\n",
        "X_train = np.expand_dims(X_train, -1)\n",
        "X_test = np.expand_dims(X_test, -1)\n",
        "\n",
        "# Distribusi di seluruh GPU\n",
        "strategy = tf.distribute.MirroredStrategy()\n",
        "\n",
        "with strategy.scope():\n",
        "    model = keras.Sequential([\n",
        "        keras.layers.Conv2D(32, 3, activation=\"relu\", input_shape=(28, 28, 1)),\n",
        "        keras.layers.MaxPooling2D(),\n",
        "        keras.layers.Flatten(),\n",
        "        keras.layers.Dense(128, activation=\"relu\"),\n",
        "        keras.layers.Dense(10, activation=\"softmax\")\n",
        "    ])\n",
        "    model.compile(optimizer=\"adam\", loss=\"sparse_categorical_crossentropy\", metrics=[\"accuracy\"])"
      ],
      "metadata": {
        "colab": {
          "base_uri": "https://localhost:8080/"
        },
        "id": "8-BkNv6iai3i",
        "outputId": "b7720705-13e9-4fe6-8f0a-5ac86cb8b387"
      },
      "execution_count": 46,
      "outputs": [
        {
          "output_type": "stream",
          "name": "stderr",
          "text": [
            "/usr/local/lib/python3.11/dist-packages/keras/src/layers/convolutional/base_conv.py:107: UserWarning: Do not pass an `input_shape`/`input_dim` argument to a layer. When using Sequential models, prefer using an `Input(shape)` object as the first layer in the model instead.\n",
            "  super().__init__(activity_regularizer=activity_regularizer, **kwargs)\n"
          ]
        }
      ]
    },
    {
      "cell_type": "markdown",
      "source": [
        "🧠 2. Logging & Checkpointing (untuk TensorBoard)"
      ],
      "metadata": {
        "id": "fp0HYGMSan-Q"
      }
    },
    {
      "cell_type": "code",
      "source": [
        "import os\n",
        "log_dir = \"./logs\"\n",
        "checkpoint_path = \"checkpoints/mnist_model.weights.h5\"\n",
        "\n",
        "callbacks = [\n",
        "    keras.callbacks.TensorBoard(log_dir=log_dir),\n",
        "    keras.callbacks.ModelCheckpoint(filepath=checkpoint_path, save_best_only=True, save_weights_only=True)\n",
        "]"
      ],
      "metadata": {
        "id": "sZ_vJZ3eaobg"
      },
      "execution_count": 48,
      "outputs": []
    },
    {
      "cell_type": "markdown",
      "source": [
        "🚀 3. Train Model dengan Callbacks"
      ],
      "metadata": {
        "id": "p6nhKvPTa7Wh"
      }
    },
    {
      "cell_type": "code",
      "source": [
        "model.fit(X_train, y_train, epochs=5, validation_split=0.1, callbacks=callbacks)"
      ],
      "metadata": {
        "colab": {
          "base_uri": "https://localhost:8080/"
        },
        "id": "kuiANYNua8Lr",
        "outputId": "01d848b1-0e29-4c69-ed26-f5e3745650c1"
      },
      "execution_count": 49,
      "outputs": [
        {
          "output_type": "stream",
          "name": "stdout",
          "text": [
            "Epoch 1/5\n",
            "\u001b[1m1688/1688\u001b[0m \u001b[32m━━━━━━━━━━━━━━━━━━━━\u001b[0m\u001b[37m\u001b[0m \u001b[1m12s\u001b[0m 6ms/step - accuracy: 0.9017 - loss: 0.3210 - val_accuracy: 0.9800 - val_loss: 0.0673\n",
            "Epoch 2/5\n",
            "\u001b[1m1688/1688\u001b[0m \u001b[32m━━━━━━━━━━━━━━━━━━━━\u001b[0m\u001b[37m\u001b[0m \u001b[1m19s\u001b[0m 6ms/step - accuracy: 0.9830 - loss: 0.0586 - val_accuracy: 0.9830 - val_loss: 0.0587\n",
            "Epoch 3/5\n",
            "\u001b[1m1688/1688\u001b[0m \u001b[32m━━━━━━━━━━━━━━━━━━━━\u001b[0m\u001b[37m\u001b[0m \u001b[1m10s\u001b[0m 6ms/step - accuracy: 0.9889 - loss: 0.0364 - val_accuracy: 0.9845 - val_loss: 0.0528\n",
            "Epoch 4/5\n",
            "\u001b[1m1688/1688\u001b[0m \u001b[32m━━━━━━━━━━━━━━━━━━━━\u001b[0m\u001b[37m\u001b[0m \u001b[1m10s\u001b[0m 6ms/step - accuracy: 0.9934 - loss: 0.0232 - val_accuracy: 0.9850 - val_loss: 0.0508\n",
            "Epoch 5/5\n",
            "\u001b[1m1688/1688\u001b[0m \u001b[32m━━━━━━━━━━━━━━━━━━━━\u001b[0m\u001b[37m\u001b[0m \u001b[1m10s\u001b[0m 6ms/step - accuracy: 0.9959 - loss: 0.0140 - val_accuracy: 0.9860 - val_loss: 0.0563\n"
          ]
        },
        {
          "output_type": "execute_result",
          "data": {
            "text/plain": [
              "<keras.src.callbacks.history.History at 0x7d5b84968710>"
            ]
          },
          "metadata": {},
          "execution_count": 49
        }
      ]
    },
    {
      "cell_type": "markdown",
      "source": [
        "💾 4. Simpan Model dalam Format SavedModel"
      ],
      "metadata": {
        "id": "---ZHgvca_qq"
      }
    },
    {
      "cell_type": "code",
      "source": [
        "model.save(\"saved_model/mnist_model.h5\")"
      ],
      "metadata": {
        "colab": {
          "base_uri": "https://localhost:8080/"
        },
        "id": "D1YmEAOPbA0g",
        "outputId": "758e96af-5479-441e-effc-fc742f75badf"
      },
      "execution_count": 52,
      "outputs": [
        {
          "output_type": "stream",
          "name": "stderr",
          "text": [
            "WARNING:absl:You are saving your model as an HDF5 file via `model.save()` or `keras.saving.save_model(model)`. This file format is considered legacy. We recommend using instead the native Keras format, e.g. `model.save('my_model.keras')` or `keras.saving.save_model(model, 'my_model.keras')`. \n"
          ]
        }
      ]
    },
    {
      "cell_type": "markdown",
      "source": [
        "📡 5. Simulasi API TensorFlow Serving (lokal)"
      ],
      "metadata": {
        "id": "6kz1uX6jbDhF"
      }
    },
    {
      "cell_type": "code",
      "source": [
        "import json\n",
        "\n",
        "# Load kembali model\n",
        "loaded_model = keras.models.load_model(\"saved_model/mnist_model.h5\")\n",
        "\n",
        "# Uji dengan satu input\n",
        "sample = X_test[0:1]\n",
        "prediction = loaded_model.predict(sample)\n",
        "predicted_class = np.argmax(prediction[0])\n",
        "\n",
        "print(\"Predicted class:\", predicted_class)"
      ],
      "metadata": {
        "colab": {
          "base_uri": "https://localhost:8080/"
        },
        "id": "PLljmAdpbEkL",
        "outputId": "05019894-46e6-42a4-8cd3-07593bc143b0"
      },
      "execution_count": 53,
      "outputs": [
        {
          "output_type": "stream",
          "name": "stderr",
          "text": [
            "WARNING:absl:Compiled the loaded model, but the compiled metrics have yet to be built. `model.compile_metrics` will be empty until you train or evaluate the model.\n"
          ]
        },
        {
          "output_type": "stream",
          "name": "stdout",
          "text": [
            "\u001b[1m1/1\u001b[0m \u001b[32m━━━━━━━━━━━━━━━━━━━━\u001b[0m\u001b[37m\u001b[0m \u001b[1m0s\u001b[0m 496ms/step\n",
            "Predicted class: 7\n"
          ]
        }
      ]
    }
  ],
  "metadata": {
    "accelerator": "GPU",
    "colab": {
      "gpuType": "T4",
      "provenance": []
    },
    "kernelspec": {
      "display_name": "Python 3",
      "name": "python3"
    },
    "language_info": {
      "name": "python"
    }
  },
  "nbformat": 4,
  "nbformat_minor": 0
}