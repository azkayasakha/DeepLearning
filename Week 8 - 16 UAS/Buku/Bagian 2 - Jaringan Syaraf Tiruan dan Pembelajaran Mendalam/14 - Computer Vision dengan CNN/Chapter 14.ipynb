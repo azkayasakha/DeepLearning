{
  "nbformat": 4,
  "nbformat_minor": 0,
  "metadata": {
    "colab": {
      "provenance": [],
      "gpuType": "T4"
    },
    "kernelspec": {
      "name": "python3",
      "display_name": "Python 3"
    },
    "language_info": {
      "name": "python"
    },
    "accelerator": "GPU"
  },
  "cells": [
    {
      "cell_type": "markdown",
      "source": [
        "📥 1. Load dan Preprocessing Data"
      ],
      "metadata": {
        "id": "0XTprBLoIOlM"
      }
    },
    {
      "cell_type": "code",
      "source": [
        "from keras.datasets import fashion_mnist\n",
        "import tensorflow as tf\n",
        "\n",
        "# Load dataset\n",
        "(X_train_full, y_train_full), (X_test, y_test) = fashion_mnist.load_data()\n",
        "\n",
        "# Normalisasi pixel\n",
        "X_train_full = X_train_full / 255.0\n",
        "X_test = X_test / 255.0\n",
        "\n",
        "# Bagi validasi dan latih\n",
        "X_valid, X_train = X_train_full[:5000], X_train_full[5000:]\n",
        "y_valid, y_train = y_train_full[:5000], y_train_full[5000:]\n",
        "\n",
        "# Tambahkan channel (28, 28) → (28, 28, 1)\n",
        "X_train = X_train[..., tf.newaxis]\n",
        "X_valid = X_valid[..., tf.newaxis]\n",
        "X_test  = X_test[..., tf.newaxis]"
      ],
      "metadata": {
        "id": "kYsEPFWqIPzm"
      },
      "execution_count": 26,
      "outputs": []
    },
    {
      "cell_type": "markdown",
      "source": [
        "🧠 2. Bangun Arsitektur CNN"
      ],
      "metadata": {
        "id": "yWu7fZfiIRCM"
      }
    },
    {
      "cell_type": "code",
      "source": [
        "from keras import models, layers\n",
        "\n",
        "model = models.Sequential([\n",
        "    layers.Conv2D(32, kernel_size=3, activation='relu', padding='same', input_shape=[28, 28, 1]),\n",
        "    layers.MaxPooling2D(pool_size=2),\n",
        "\n",
        "    layers.Conv2D(64, kernel_size=3, activation='relu', padding='same'),\n",
        "    layers.MaxPooling2D(pool_size=2),\n",
        "\n",
        "    layers.Conv2D(128, kernel_size=3, activation='relu', padding='same'),\n",
        "    layers.MaxPooling2D(pool_size=2),\n",
        "\n",
        "    layers.Flatten(),\n",
        "    layers.Dense(128, activation='relu'),\n",
        "    layers.Dropout(0.3),  # mencegah overfitting\n",
        "    layers.Dense(10, activation='softmax')\n",
        "])"
      ],
      "metadata": {
        "colab": {
          "base_uri": "https://localhost:8080/"
        },
        "id": "wRj2DvirIS5O",
        "outputId": "10608307-997e-4e64-9c0f-d903a8579231"
      },
      "execution_count": 27,
      "outputs": [
        {
          "output_type": "stream",
          "name": "stderr",
          "text": [
            "/usr/local/lib/python3.11/dist-packages/keras/src/layers/convolutional/base_conv.py:107: UserWarning: Do not pass an `input_shape`/`input_dim` argument to a layer. When using Sequential models, prefer using an `Input(shape)` object as the first layer in the model instead.\n",
            "  super().__init__(activity_regularizer=activity_regularizer, **kwargs)\n"
          ]
        }
      ]
    },
    {
      "cell_type": "markdown",
      "source": [
        "⚙️ 3. Compile dan Train Model"
      ],
      "metadata": {
        "id": "pwoMeWTRIVQQ"
      }
    },
    {
      "cell_type": "code",
      "source": [
        "model.compile(\n",
        "    optimizer='adam',\n",
        "    loss='sparse_categorical_crossentropy',\n",
        "    metrics=['accuracy']\n",
        ")\n",
        "\n",
        "history = model.fit(\n",
        "    X_train, y_train,\n",
        "    epochs=10,\n",
        "    validation_data=(X_valid, y_valid)\n",
        ")"
      ],
      "metadata": {
        "colab": {
          "base_uri": "https://localhost:8080/"
        },
        "id": "8UbiSD09IWo3",
        "outputId": "62dcbd86-9308-4172-c97a-4ec2a39aef74"
      },
      "execution_count": 28,
      "outputs": [
        {
          "output_type": "stream",
          "name": "stdout",
          "text": [
            "Epoch 1/10\n",
            "\u001b[1m1719/1719\u001b[0m \u001b[32m━━━━━━━━━━━━━━━━━━━━\u001b[0m\u001b[37m\u001b[0m \u001b[1m14s\u001b[0m 6ms/step - accuracy: 0.7454 - loss: 0.7020 - val_accuracy: 0.8816 - val_loss: 0.3181\n",
            "Epoch 2/10\n",
            "\u001b[1m1719/1719\u001b[0m \u001b[32m━━━━━━━━━━━━━━━━━━━━\u001b[0m\u001b[37m\u001b[0m \u001b[1m15s\u001b[0m 4ms/step - accuracy: 0.8852 - loss: 0.3139 - val_accuracy: 0.9028 - val_loss: 0.2550\n",
            "Epoch 3/10\n",
            "\u001b[1m1719/1719\u001b[0m \u001b[32m━━━━━━━━━━━━━━━━━━━━\u001b[0m\u001b[37m\u001b[0m \u001b[1m7s\u001b[0m 4ms/step - accuracy: 0.9058 - loss: 0.2547 - val_accuracy: 0.9120 - val_loss: 0.2338\n",
            "Epoch 4/10\n",
            "\u001b[1m1719/1719\u001b[0m \u001b[32m━━━━━━━━━━━━━━━━━━━━\u001b[0m\u001b[37m\u001b[0m \u001b[1m9s\u001b[0m 3ms/step - accuracy: 0.9187 - loss: 0.2245 - val_accuracy: 0.9160 - val_loss: 0.2225\n",
            "Epoch 5/10\n",
            "\u001b[1m1719/1719\u001b[0m \u001b[32m━━━━━━━━━━━━━━━━━━━━\u001b[0m\u001b[37m\u001b[0m \u001b[1m9s\u001b[0m 5ms/step - accuracy: 0.9259 - loss: 0.2000 - val_accuracy: 0.9222 - val_loss: 0.2129\n",
            "Epoch 6/10\n",
            "\u001b[1m1719/1719\u001b[0m \u001b[32m━━━━━━━━━━━━━━━━━━━━\u001b[0m\u001b[37m\u001b[0m \u001b[1m8s\u001b[0m 4ms/step - accuracy: 0.9340 - loss: 0.1808 - val_accuracy: 0.9274 - val_loss: 0.2036\n",
            "Epoch 7/10\n",
            "\u001b[1m1719/1719\u001b[0m \u001b[32m━━━━━━━━━━━━━━━━━━━━\u001b[0m\u001b[37m\u001b[0m \u001b[1m6s\u001b[0m 4ms/step - accuracy: 0.9421 - loss: 0.1581 - val_accuracy: 0.9252 - val_loss: 0.2070\n",
            "Epoch 8/10\n",
            "\u001b[1m1719/1719\u001b[0m \u001b[32m━━━━━━━━━━━━━━━━━━━━\u001b[0m\u001b[37m\u001b[0m \u001b[1m7s\u001b[0m 4ms/step - accuracy: 0.9467 - loss: 0.1394 - val_accuracy: 0.9278 - val_loss: 0.2017\n",
            "Epoch 9/10\n",
            "\u001b[1m1719/1719\u001b[0m \u001b[32m━━━━━━━━━━━━━━━━━━━━\u001b[0m\u001b[37m\u001b[0m \u001b[1m6s\u001b[0m 3ms/step - accuracy: 0.9509 - loss: 0.1290 - val_accuracy: 0.9298 - val_loss: 0.2097\n",
            "Epoch 10/10\n",
            "\u001b[1m1719/1719\u001b[0m \u001b[32m━━━━━━━━━━━━━━━━━━━━\u001b[0m\u001b[37m\u001b[0m \u001b[1m11s\u001b[0m 4ms/step - accuracy: 0.9566 - loss: 0.1154 - val_accuracy: 0.9238 - val_loss: 0.2416\n"
          ]
        }
      ]
    },
    {
      "cell_type": "markdown",
      "source": [
        "📈 4. Visualisasi Learning Curve"
      ],
      "metadata": {
        "id": "CVKfI7ipIYs5"
      }
    },
    {
      "cell_type": "code",
      "source": [
        "import pandas as pd\n",
        "import matplotlib.pyplot as plt\n",
        "\n",
        "pd.DataFrame(history.history).plot(figsize=(8, 5))\n",
        "plt.grid(True)\n",
        "plt.xlabel(\"Epoch\")\n",
        "plt.ylabel(\"Loss / Accuracy\")\n",
        "plt.title(\"Training vs Validation Performance\")\n",
        "plt.show()"
      ],
      "metadata": {
        "colab": {
          "base_uri": "https://localhost:8080/",
          "height": 487
        },
        "id": "0sQihbPIIaOe",
        "outputId": "3b486620-cfa5-49a9-dfa8-4c53663c02e3"
      },
      "execution_count": 29,
      "outputs": [
        {
          "output_type": "display_data",
          "data": {
            "text/plain": [
              "<Figure size 800x500 with 1 Axes>"
            ],
            "image/png": "[encoded data removed]"
          },
          "metadata": {}
        }
      ]
    },
    {
      "cell_type": "markdown",
      "source": [
        "🧪 5. Evaluasi & Prediksi"
      ],
      "metadata": {
        "id": "XenvWzSuIb2O"
      }
    },
    {
      "cell_type": "code",
      "source": [
        "test_loss, test_acc = model.evaluate(X_test, y_test)\n",
        "print(\"Test Accuracy:\", test_acc)"
      ],
      "metadata": {
        "colab": {
          "base_uri": "https://localhost:8080/"
        },
        "id": "BXo3wNWnIdd2",
        "outputId": "fbdd6d0a-c66c-45ad-9e20-10b7c48351b1"
      },
      "execution_count": 30,
      "outputs": [
        {
          "output_type": "stream",
          "name": "stdout",
          "text": [
            "\u001b[1m313/313\u001b[0m \u001b[32m━━━━━━━━━━━━━━━━━━━━\u001b[0m\u001b[37m\u001b[0m \u001b[1m1s\u001b[0m 4ms/step - accuracy: 0.9213 - loss: 0.2637\n",
            "Test Accuracy: 0.9205999970436096\n"
          ]
        }
      ]
    },
    {
      "cell_type": "markdown",
      "source": [
        "🔍 6. Prediksi & Visualisasi Label"
      ],
      "metadata": {
        "id": "g9BVakbDIev8"
      }
    },
    {
      "cell_type": "code",
      "source": [
        "import numpy as np\n",
        "\n",
        "y_proba = model.predict(X_test[:5])\n",
        "y_pred = np.argmax(y_proba, axis=1)\n",
        "print(\"Prediksi label:\", y_pred)\n",
        "print(\"Label asli    :\", y_test[:5])"
      ],
      "metadata": {
        "colab": {
          "base_uri": "https://localhost:8080/"
        },
        "id": "MfYOSC5oIgIc",
        "outputId": "3b0558f7-da56-49c6-9c47-d7e177bb3db9"
      },
      "execution_count": 31,
      "outputs": [
        {
          "output_type": "stream",
          "name": "stdout",
          "text": [
            "\u001b[1m1/1\u001b[0m \u001b[32m━━━━━━━━━━━━━━━━━━━━\u001b[0m\u001b[37m\u001b[0m \u001b[1m1s\u001b[0m 511ms/step\n",
            "Prediksi label: [9 2 1 1 6]\n",
            "Label asli    : [9 2 1 1 6]\n"
          ]
        }
      ]
    },
    {
      "cell_type": "code",
      "source": [
        "class_names = [\"T-shirt/top\", \"Trouser\", \"Pullover\", \"Dress\", \"Coat\",\n",
        "               \"Sandal\", \"Shirt\", \"Sneaker\", \"Bag\", \"Ankle boot\"]\n",
        "\n",
        "for i in range(5):\n",
        "    print(f\"Gambar {i+1}: Prediksi = {class_names[y_pred[i]]}, Asli = {class_names[y_test[i]]}\")"
      ],
      "metadata": {
        "colab": {
          "base_uri": "https://localhost:8080/"
        },
        "id": "-3CEgOO1Ijxv",
        "outputId": "e69db7cb-b7f9-49d9-e7b2-e0a452a2fddd"
      },
      "execution_count": 32,
      "outputs": [
        {
          "output_type": "stream",
          "name": "stdout",
          "text": [
            "Gambar 1: Prediksi = Ankle boot, Asli = Ankle boot\n",
            "Gambar 2: Prediksi = Pullover, Asli = Pullover\n",
            "Gambar 3: Prediksi = Trouser, Asli = Trouser\n",
            "Gambar 4: Prediksi = Trouser, Asli = Trouser\n",
            "Gambar 5: Prediksi = Shirt, Asli = Shirt\n"
          ]
        }
      ]
    },
    {
      "cell_type": "markdown",
      "source": [
        "## ✅ Catatan:\n",
        "\n",
        "* CNN cocok untuk data visual karena menjaga struktur spasial.\n",
        "* MaxPooling membantu mengurangi dimensi sambil mempertahankan fitur.\n",
        "* Padding `\"same\"` berguna agar ukuran output tetap konsisten.\n",
        "* Model bisa diperluas dengan **BatchNormalization**, **Data Augmentation**, **Transfer Learning** (bab selanjutnya)."
      ],
      "metadata": {
        "id": "TdGZkXZgI8n2"
      }
    }
  ]
}