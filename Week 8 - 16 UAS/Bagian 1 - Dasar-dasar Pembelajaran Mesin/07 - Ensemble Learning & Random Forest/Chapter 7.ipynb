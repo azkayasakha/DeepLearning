{
  "nbformat": 4,
  "nbformat_minor": 0,
  "metadata": {
    "colab": {
      "provenance": []
    },
    "kernelspec": {
      "name": "python3",
      "display_name": "Python 3"
    },
    "language_info": {
      "name": "python"
    }
  },
  "cells": [
    {
      "cell_type": "markdown",
      "source": [
        "🧪 1. Voting Classifier"
      ],
      "metadata": {
        "id": "ZV7XbzQE7nXA"
      }
    },
    {
      "cell_type": "code",
      "source": [
        "from sklearn.datasets import load_iris\n",
        "from sklearn.model_selection import train_test_split\n",
        "from sklearn.linear_model import LogisticRegression\n",
        "from sklearn.svm import SVC\n",
        "from sklearn.tree import DecisionTreeClassifier\n",
        "from sklearn.ensemble import VotingClassifier\n",
        "from sklearn.metrics import accuracy_score\n",
        "\n",
        "# Dataset Iris\n",
        "iris = load_iris()\n",
        "X_train, X_test, y_train, y_test = train_test_split(iris.data, iris.target, random_state=42)\n",
        "\n",
        "# Beberapa model dasar\n",
        "log_clf = LogisticRegression(max_iter=1000)\n",
        "svc_clf = SVC(probability=True)\n",
        "tree_clf = DecisionTreeClassifier()\n",
        "\n",
        "# Voting (soft)\n",
        "voting_clf = VotingClassifier(\n",
        "    estimators=[('lr', log_clf), ('svc', svc_clf), ('tree', tree_clf)],\n",
        "    voting='soft'\n",
        ")\n",
        "voting_clf.fit(X_train, y_train)\n",
        "\n",
        "# Evaluasi\n",
        "for clf in (log_clf, svc_clf, tree_clf, voting_clf):\n",
        "    clf.fit(X_train, y_train)\n",
        "    y_pred = clf.predict(X_test)\n",
        "    print(clf.__class__.__name__, \"accuracy:\", accuracy_score(y_test, y_pred))"
      ],
      "metadata": {
        "colab": {
          "base_uri": "https://localhost:8080/"
        },
        "id": "GYGMEeTh7n5U",
        "outputId": "67f99132-815f-4661-f62f-ec08707aa885"
      },
      "execution_count": 11,
      "outputs": [
        {
          "output_type": "stream",
          "name": "stdout",
          "text": [
            "LogisticRegression accuracy: 1.0\n",
            "SVC accuracy: 1.0\n",
            "DecisionTreeClassifier accuracy: 1.0\n",
            "VotingClassifier accuracy: 1.0\n"
          ]
        }
      ]
    },
    {
      "cell_type": "markdown",
      "source": [
        "🧪 2. Bagging Classifier (Decision Tree)"
      ],
      "metadata": {
        "id": "ccY3gTqe7p9N"
      }
    },
    {
      "cell_type": "code",
      "source": [
        "from sklearn.ensemble import BaggingClassifier\n",
        "from sklearn.tree import DecisionTreeClassifier\n",
        "\n",
        "bag_clf = BaggingClassifier(\n",
        "    DecisionTreeClassifier(), n_estimators=100,\n",
        "    max_samples=100, bootstrap=True, random_state=42\n",
        ")\n",
        "bag_clf.fit(X_train, y_train)\n",
        "y_pred = bag_clf.predict(X_test)\n",
        "\n",
        "print(\"Bagging Accuracy:\", accuracy_score(y_test, y_pred))"
      ],
      "metadata": {
        "colab": {
          "base_uri": "https://localhost:8080/"
        },
        "id": "LKmcGotD7sum",
        "outputId": "733f0a1c-32d5-4f88-f2c2-b5ae6ebf5bf0"
      },
      "execution_count": 12,
      "outputs": [
        {
          "output_type": "stream",
          "name": "stdout",
          "text": [
            "Bagging Accuracy: 1.0\n"
          ]
        }
      ]
    },
    {
      "cell_type": "markdown",
      "source": [
        "🧪 3. Random Forest Classifier"
      ],
      "metadata": {
        "id": "JqcfMUjN7vol"
      }
    },
    {
      "cell_type": "code",
      "source": [
        "from sklearn.ensemble import RandomForestClassifier\n",
        "\n",
        "rf_clf = RandomForestClassifier(n_estimators=100, max_leaf_nodes=16, random_state=42)\n",
        "rf_clf.fit(X_train, y_train)\n",
        "y_pred = rf_clf.predict(X_test)\n",
        "\n",
        "print(\"Random Forest Accuracy:\", accuracy_score(y_test, y_pred))"
      ],
      "metadata": {
        "colab": {
          "base_uri": "https://localhost:8080/"
        },
        "id": "vdWCPBup7wGC",
        "outputId": "831d4796-1a03-446f-9396-beab6baba024"
      },
      "execution_count": 13,
      "outputs": [
        {
          "output_type": "stream",
          "name": "stdout",
          "text": [
            "Random Forest Accuracy: 1.0\n"
          ]
        }
      ]
    },
    {
      "cell_type": "markdown",
      "source": [
        "🧪 4. Out-of-Bag Evaluation"
      ],
      "metadata": {
        "id": "I8owRlmP7yYQ"
      }
    },
    {
      "cell_type": "code",
      "source": [
        "rf_oob = RandomForestClassifier(n_estimators=100, oob_score=True, random_state=42)\n",
        "rf_oob.fit(X_train, y_train)\n",
        "\n",
        "print(\"OOB Score:\", rf_oob.oob_score_)"
      ],
      "metadata": {
        "colab": {
          "base_uri": "https://localhost:8080/"
        },
        "id": "EsyfUpty7zlk",
        "outputId": "599422f5-ffff-40bb-ce85-e71c23188eb4"
      },
      "execution_count": 14,
      "outputs": [
        {
          "output_type": "stream",
          "name": "stdout",
          "text": [
            "OOB Score: 0.9464285714285714\n"
          ]
        }
      ]
    },
    {
      "cell_type": "markdown",
      "source": [
        "🧪 5. Fitur Penting (Feature Importances)"
      ],
      "metadata": {
        "id": "Y9onT2yy728A"
      }
    },
    {
      "cell_type": "code",
      "source": [
        "for name, score in zip(iris.feature_names, rf_clf.feature_importances_):\n",
        "    print(f\"{name}: {score:.4f}\")"
      ],
      "metadata": {
        "colab": {
          "base_uri": "https://localhost:8080/"
        },
        "id": "1opH9Q9b73eB",
        "outputId": "63926750-7ee3-4193-92c4-bdbdafe37c71"
      },
      "execution_count": 15,
      "outputs": [
        {
          "output_type": "stream",
          "name": "stdout",
          "text": [
            "sepal length (cm): 0.1122\n",
            "sepal width (cm): 0.0262\n",
            "petal length (cm): 0.4397\n",
            "petal width (cm): 0.4219\n"
          ]
        }
      ]
    },
    {
      "cell_type": "markdown",
      "source": [
        "🧪 6. AdaBoost Classifier"
      ],
      "metadata": {
        "id": "K2H9-0EH77va"
      }
    },
    {
      "cell_type": "code",
      "source": [
        "from sklearn.ensemble import AdaBoostClassifier\n",
        "from sklearn.tree import DecisionTreeClassifier\n",
        "from sklearn.metrics import accuracy_score\n",
        "\n",
        "ada_clf = AdaBoostClassifier(\n",
        "    estimator=DecisionTreeClassifier(max_depth=1),\n",
        "    n_estimators=200,\n",
        "    algorithm=\"SAMME\",\n",
        "    learning_rate=0.5,\n",
        "    random_state=42\n",
        ")\n",
        "\n",
        "ada_clf.fit(X_train, y_train)\n",
        "y_pred = ada_clf.predict(X_test)\n",
        "print(\"AdaBoost Accuracy:\", accuracy_score(y_test, y_pred))\n"
      ],
      "metadata": {
        "colab": {
          "base_uri": "https://localhost:8080/"
        },
        "id": "tqi1OGTc7-gQ",
        "outputId": "420bfd77-4e61-4295-c8f5-ecbe6e9fef9a"
      },
      "execution_count": 18,
      "outputs": [
        {
          "output_type": "stream",
          "name": "stderr",
          "text": [
            "/usr/local/lib/python3.11/dist-packages/sklearn/ensemble/_weight_boosting.py:519: FutureWarning: The parameter 'algorithm' is deprecated in 1.6 and has no effect. It will be removed in version 1.8.\n",
            "  warnings.warn(\n"
          ]
        },
        {
          "output_type": "stream",
          "name": "stdout",
          "text": [
            "AdaBoost Accuracy: 0.9473684210526315\n"
          ]
        }
      ]
    },
    {
      "cell_type": "markdown",
      "source": [
        "🧪 7. Gradient Boosting Regressor (Regresi)"
      ],
      "metadata": {
        "id": "UM4Y2SLv8VrV"
      }
    },
    {
      "cell_type": "code",
      "source": [
        "from sklearn.ensemble import GradientBoostingRegressor\n",
        "from sklearn.metrics import mean_squared_error\n",
        "import numpy as np\n",
        "\n",
        "# Dataset regresi sintetis\n",
        "np.random.seed(42)\n",
        "X = np.random.rand(100, 1) * 2 - 1\n",
        "y = 3 * X[:, 0]**2 + np.random.randn(100) * 0.1\n",
        "\n",
        "# Train/test split\n",
        "X_train, X_test, y_train, y_test = train_test_split(X, y, random_state=42)\n",
        "\n",
        "gbrt = GradientBoostingRegressor(max_depth=2, n_estimators=100, learning_rate=0.1)\n",
        "gbrt.fit(X_train, y_train)\n",
        "\n",
        "y_pred = gbrt.predict(X_test)\n",
        "mse = mean_squared_error(y_test, y_pred)\n",
        "print(\"Gradient Boosting RMSE:\", np.sqrt(mse))"
      ],
      "metadata": {
        "colab": {
          "base_uri": "https://localhost:8080/"
        },
        "id": "lcTTT2m88WKl",
        "outputId": "d18de203-3bbe-4322-cdff-cf0b0cb2f928"
      },
      "execution_count": 19,
      "outputs": [
        {
          "output_type": "stream",
          "name": "stdout",
          "text": [
            "Gradient Boosting RMSE: 0.13559243282066705\n"
          ]
        }
      ]
    },
    {
      "cell_type": "markdown",
      "source": [
        "### ✅ Penjelasan Singkat:\n",
        "\n",
        "* **VotingClassifier** menggabungkan prediksi dari model yang berbeda (diverse).\n",
        "* **Bagging** melatih model yang sama pada subset data acak → stabil dan kuat.\n",
        "* **Random Forest** = Bagging + pengacakan fitur → powerful dan cepat.\n",
        "* **AdaBoost** menambahkan model secara bertahap dengan fokus ke kesalahan sebelumnya.\n",
        "* **Gradient Boosting** melatih model baru pada **residual** (kesalahan prediksi)."
      ],
      "metadata": {
        "id": "vmc755fv8Z41"
      }
    }
  ]
}