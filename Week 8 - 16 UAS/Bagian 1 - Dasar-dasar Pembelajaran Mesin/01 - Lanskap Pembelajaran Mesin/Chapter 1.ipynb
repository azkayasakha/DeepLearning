{
  "cells": [
    {
      "cell_type": "code",
      "execution_count": 1,
      "metadata": {
        "colab": {
          "base_uri": "https://localhost:8080/"
        },
        "id": "rS093bzTtBeM",
        "outputId": "4e6cde12-d861-4a1d-aab2-06e727ad27f8"
      },
      "outputs": [
        {
          "name": "stdout",
          "output_type": "stream",
          "text": [
            "RMSE model Linear Regression: 0.7455813830127764\n"
          ]
        }
      ],
      "source": [
        "# Import pustaka yang diperlukan\n",
        "import pandas as pd  # Untuk manipulasi data\n",
        "import numpy as np\n",
        "from sklearn.datasets import fetch_california_housing  # Dataset California\n",
        "from sklearn.model_selection import train_test_split  # Split data\n",
        "from sklearn.linear_model import LinearRegression  # Model regresi\n",
        "from sklearn.metrics import mean_squared_error  # Evaluasi performa\n",
        "\n",
        "# 1. Memuat dataset California Housing\n",
        "housing = fetch_california_housing(as_frame=True)  # Kembalikan dalam bentuk DataFrame\n",
        "df = housing.frame  # Dataset dalam bentuk pandas DataFrame\n",
        "\n",
        "# 2. Memisahkan fitur dan label\n",
        "X = df.drop(\"MedHouseVal\", axis=1)  # Semua kolom kecuali nilai median rumah\n",
        "y = df[\"MedHouseVal\"]  # Target yang ingin diprediksi: harga median rumah\n",
        "\n",
        "# 3. Membagi data menjadi data latih dan data uji (80:20)\n",
        "X_train, X_test, y_train, y_test = train_test_split(\n",
        "    X, y, test_size=0.2, random_state=42\n",
        ")\n",
        "\n",
        "# 4. Membuat dan melatih model Linear Regression\n",
        "model = LinearRegression()\n",
        "model.fit(X_train, y_train)\n",
        "\n",
        "# 5. Melakukan prediksi pada data uji\n",
        "y_pred = model.predict(X_test)\n",
        "\n",
        "# 6. Evaluasi model menggunakan Root Mean Squared Error (RMSE)\n",
        "mse = mean_squared_error(y_test, y_pred)\n",
        "rmse = np.sqrt(mse)\n",
        "\n",
        "print(\"RMSE model Linear Regression:\", rmse)"
      ]
    },
    {
      "cell_type": "markdown",
      "metadata": {},
      "source": [
        "### 💬 Penjelasan:\n",
        "\n",
        "* `fetch_california_housing()` memuat data demografis dan perumahan di California.\n",
        "* Target `MedHouseVal` adalah **median value of owner-occupied homes** (dalam ratusan ribu USD).\n",
        "* Kita gunakan **Linear Regression**, karena ini adalah **regression problem**, bukan klasifikasi.\n",
        "* Evaluasi menggunakan **RMSE** karena lebih sensitif terhadap kesalahan besar daripada MSE."
      ]
    }
  ],
  "metadata": {
    "colab": {
      "provenance": []
    },
    "kernelspec": {
      "display_name": "Python 3",
      "name": "python3"
    },
    "language_info": {
      "name": "python"
    }
  },
  "nbformat": 4,
  "nbformat_minor": 0
}
